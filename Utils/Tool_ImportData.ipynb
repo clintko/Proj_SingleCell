{
 "cells": [
  {
   "cell_type": "code",
   "execution_count": 1,
   "metadata": {},
   "outputs": [],
   "source": [
    "import numpy as np\n",
    "\n",
    "######################################################\n",
    "\n",
    "PATH_EQAPOL = \"/data/clintko/flow_EQAPOL/\"\n",
    "PATH_EQAPOL_TMP = \"/data/deep-learning-group/test_data/flow_EQAPOL/\"\n",
    "\n",
    "COSTIM  = \"Costim\"\n",
    "CMV     = \"CMV\"\n",
    "SEB     = \"SEB\"\n",
    "MARKERS = \"Markers\"\n",
    "\n",
    "FNAME_COSTIM  = \"data_Costim.np\"\n",
    "FNAME_CMV     = \"data_CMV.np\"\n",
    "FNAME_SEB     = \"data_SEB.np\"\n",
    "FNAME_MARKERS = \"markers.np\"\n",
    "\n",
    "######################################################\n",
    "\n",
    "def read_EQAPOL(fnames = None, data_dir = PATH_EQAPOL_TMP):\n",
    "    \"\"\"read in the EQAPOL data\"\"\"\n",
    "    # initialization\n",
    "    data = dict()\n",
    "    flag = False\n",
    "    \n",
    "    if fnames is None:\n",
    "        print(\"Nothing Import\")\n",
    "        return data\n",
    "    \n",
    "    if COSTIM in fnames:\n",
    "        print(\"Read Costim\")\n",
    "        file_object = open(data_dir + FNAME_COSTIM, 'rb')\n",
    "        data[\"Costim\"] = np.load(file_object)\n",
    "        file_object.close()\n",
    "        flag = True\n",
    "        \n",
    "        \n",
    "    if CMV in fnames:\n",
    "        print(\"Read CMV\")\n",
    "        file_object = open(data_dir + FNAME_CMV, 'rb')\n",
    "        data[\"CMV\"] = np.load(file_object)\n",
    "        file_object.close()\n",
    "        flag = True\n",
    "        \n",
    "    if SEB in fnames:\n",
    "        print(\"Read SEB\")\n",
    "        file_object = open(data_dir + FNAME_SEB, 'rb')\n",
    "        data[\"SEB\"] = np.load(file_object)\n",
    "        file_object.close()\n",
    "        flag = True\n",
    "\n",
    "    if MARKERS in fnames:\n",
    "        print(\"Read Markers\")\n",
    "        file_object = open(data_dir + FNAME_MARKERS, 'rb')\n",
    "        markers = np.load(file_object)\n",
    "        data[\"Markers\"] = {items[1]: idx for idx, items in enumerate(markers)}\n",
    "        file_object.close()\n",
    "        flag = True\n",
    "        \n",
    "    if flag == False:\n",
    "        print(\"Input fname is not found.\")\n",
    "    else:\n",
    "        print(\"The data \" + \" \".join(fnames) + \" are input.\")\n",
    "        \n",
    "    return data"
   ]
  },
  {
   "cell_type": "code",
   "execution_count": 4,
   "metadata": {},
   "outputs": [
    {
     "data": {
      "text/plain": [
       "['Costim', 'CMV', 'SEB', 'Markers']"
      ]
     },
     "execution_count": 4,
     "metadata": {},
     "output_type": "execute_result"
    }
   ],
   "source": [
    "[COSTIM, CMV, SEB, MARKERS]"
   ]
  },
  {
   "cell_type": "code",
   "execution_count": 5,
   "metadata": {},
   "outputs": [
    {
     "data": {
      "text/plain": [
       "['data_Costim.np', 'data_CMV.np', 'data_SEB.np', 'markers.np']"
      ]
     },
     "execution_count": 5,
     "metadata": {},
     "output_type": "execute_result"
    }
   ],
   "source": [
    "[FNAME_COSTIM, FNAME_CMV, FNAME_SEB, FNAME_MARKERS]"
   ]
  },
  {
   "cell_type": "code",
   "execution_count": 6,
   "metadata": {},
   "outputs": [
    {
     "name": "stdout",
     "output_type": "stream",
     "text": [
      "Read Markers\n",
      "The data Markers are input.\n"
     ]
    }
   ],
   "source": [
    "dat_markers = read_EQAPOL(fnames = [MARKERS])"
   ]
  },
  {
   "cell_type": "code",
   "execution_count": 7,
   "metadata": {},
   "outputs": [
    {
     "name": "stdout",
     "output_type": "stream",
     "text": [
      "Read Costim\n",
      "Read CMV\n",
      "The data Costim CMV are input.\n"
     ]
    }
   ],
   "source": [
    "data = read_EQAPOL(fnames = [COSTIM, CMV])"
   ]
  },
  {
   "cell_type": "code",
   "execution_count": 8,
   "metadata": {},
   "outputs": [
    {
     "name": "stdout",
     "output_type": "stream",
     "text": [
      "Read Costim\n",
      "Read CMV\n",
      "Read SEB\n",
      "Read Markers\n",
      "The data Costim CMV SEB Markers are input.\n"
     ]
    }
   ],
   "source": [
    "data = read_EQAPOL(fnames = [COSTIM, CMV, SEB, MARKERS])"
   ]
  },
  {
   "cell_type": "code",
   "execution_count": 9,
   "metadata": {},
   "outputs": [
    {
     "name": "stdout",
     "output_type": "stream",
     "text": [
      "===== Raw Shape ======\n",
      "(6,)\n",
      "(455472, 14)\n",
      "(607410, 14)\n",
      "(411894, 14)\n",
      "(515178, 14)\n",
      "(422658, 14)\n",
      "(519426, 14)\n"
     ]
    }
   ],
   "source": [
    "data_samples = np.array(\n",
    "    list(data[COSTIM])[0:2] + \n",
    "    list(data[CMV])[0:2] + \n",
    "    list(data[SEB])[0:2])\n",
    "\n",
    "print(\"===== Raw Shape ======\")\n",
    "print(data_samples.shape)\n",
    "print(data_samples[0].shape) # Costim\n",
    "print(data_samples[1].shape) # Costim\n",
    "print(data_samples[2].shape) # CMV\n",
    "print(data_samples[3].shape) # CMV\n",
    "print(data_samples[4].shape) # SEB\n",
    "print(data_samples[5].shape) # SEB"
   ]
  },
  {
   "cell_type": "code",
   "execution_count": null,
   "metadata": {},
   "outputs": [],
   "source": []
  },
  {
   "cell_type": "code",
   "execution_count": null,
   "metadata": {},
   "outputs": [],
   "source": []
  },
  {
   "cell_type": "code",
   "execution_count": null,
   "metadata": {},
   "outputs": [],
   "source": []
  },
  {
   "cell_type": "code",
   "execution_count": null,
   "metadata": {},
   "outputs": [],
   "source": []
  },
  {
   "cell_type": "markdown",
   "metadata": {},
   "source": [
    "```\n",
    "# input the value\n",
    "tmp_dir = \"/data/deep-learning-group/test_data/flow_EQAPOL/\"\n",
    "fname_Costim = \"data_Costim.np\"\n",
    "fname_CMV    = \"data_CMV.np\"\n",
    "fname_SEB    = \"data_SEB.np\"\n",
    "\n",
    "# open and write the file\n",
    "print(\"read Costim\")\n",
    "file_object = open(tmp_dir + fname_Costim, 'rb')\n",
    "data_Costim = np.load(file_object)\n",
    "file_object.close()\n",
    "\n",
    "print(\"read CMV\")\n",
    "file_object = open(tmp_dir + fname_CMV, 'rb')\n",
    "data_CMV = np.load(file_object)\n",
    "file_object.close()\n",
    "\n",
    "print(\"read SEB\")\n",
    "file_object = open(tmp_dir + fname_SEB, 'rb')\n",
    "data_SEB = np.load(file_object)\n",
    "file_object.close()\n",
    "\n",
    "print(\"read markers\")\n",
    "file_object = open(tmp_dir + \"markers.np\", 'rb')\n",
    "markers = np.load(file_object)\n",
    "markers_dict = {items[1]: idx for idx, items in enumerate(markers)}\n",
    "file_object.close()\n",
    "\n",
    "print(\"The data are input.\")\n",
    "```"
   ]
  }
 ],
 "metadata": {
  "kernelspec": {
   "display_name": "Python 3",
   "language": "python",
   "name": "python3"
  },
  "language_info": {
   "codemirror_mode": {
    "name": "ipython",
    "version": 3
   },
   "file_extension": ".py",
   "mimetype": "text/x-python",
   "name": "python",
   "nbconvert_exporter": "python",
   "pygments_lexer": "ipython3",
   "version": "3.6.3"
  }
 },
 "nbformat": 4,
 "nbformat_minor": 2
}
