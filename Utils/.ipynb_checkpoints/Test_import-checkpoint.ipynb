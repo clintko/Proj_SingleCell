{
 "cells": [
  {
   "cell_type": "code",
   "execution_count": 12,
   "metadata": {},
   "outputs": [],
   "source": [
    "import sys\n",
    "import inspect\n",
    "import importlib"
   ]
  },
  {
   "cell_type": "code",
   "execution_count": null,
   "metadata": {},
   "outputs": [],
   "source": [
    "sys.path.append('/local_data/notebooks/clintko/GitRepo/Proj_SingleCell/Test Func')"
   ]
  },
  {
   "cell_type": "code",
   "execution_count": 4,
   "metadata": {},
   "outputs": [],
   "source": [
    "import Timer"
   ]
  },
  {
   "cell_type": "code",
   "execution_count": 5,
   "metadata": {},
   "outputs": [],
   "source": [
    "timer = Timer.Timer()"
   ]
  },
  {
   "cell_type": "code",
   "execution_count": 6,
   "metadata": {},
   "outputs": [
    {
     "data": {
      "text/plain": [
       "(0.0, 0.0, 0.0)"
      ]
     },
     "execution_count": 6,
     "metadata": {},
     "output_type": "execute_result"
    }
   ],
   "source": [
    "timer.report()"
   ]
  },
  {
   "cell_type": "code",
   "execution_count": 9,
   "metadata": {},
   "outputs": [
    {
     "name": "stdout",
     "output_type": "stream",
     "text": [
      "class Timer:\n",
      "    def __init__(self):\n",
      "        self.time1 = 0\n",
      "        self.time2 = 0\n",
      "        self.diff  = 0\n",
      "        \n",
      "    def start(self):\n",
      "        self.time1 = time.time()\n",
      "    \n",
      "    def stop(self):\n",
      "        self.time2 = time.time()\n",
      "        self.diff = self.time2 - self.time1\n",
      "        \n",
      "    def report(self, niter = 1):\n",
      "        val = self.diff / niter\n",
      "        return val // 3600, val // 60 % 60, val % 60\n",
      "\n"
     ]
    }
   ],
   "source": [
    "lines = inspect.getsource(Timer.Timer)\n",
    "print(lines)"
   ]
  },
  {
   "cell_type": "code",
   "execution_count": 13,
   "metadata": {},
   "outputs": [
    {
     "data": {
      "text/plain": [
       "<module 'Timer' from '/local_data/notebooks/clintko/GitRepo/Proj_SingleCell/Test Func/Timer.py'>"
      ]
     },
     "execution_count": 13,
     "metadata": {},
     "output_type": "execute_result"
    }
   ],
   "source": [
    "importlib.reload(Timer)"
   ]
  }
 ],
 "metadata": {
  "kernelspec": {
   "display_name": "Python 3",
   "language": "python",
   "name": "python3"
  },
  "language_info": {
   "codemirror_mode": {
    "name": "ipython",
    "version": 3
   },
   "file_extension": ".py",
   "mimetype": "text/x-python",
   "name": "python",
   "nbconvert_exporter": "python",
   "pygments_lexer": "ipython3",
   "version": "3.6.3"
  }
 },
 "nbformat": 4,
 "nbformat_minor": 2
}
