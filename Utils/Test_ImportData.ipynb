{
 "cells": [
  {
   "cell_type": "code",
   "execution_count": 1,
   "metadata": {},
   "outputs": [],
   "source": [
    "import sys\n",
    "sys.path.append('/local_data/notebooks/clintko/GitRepo/Proj_SingleCell/Utils')"
   ]
  },
  {
   "cell_type": "code",
   "execution_count": 4,
   "metadata": {},
   "outputs": [],
   "source": [
    "from Tool_ImportData import *"
   ]
  },
  {
   "cell_type": "code",
   "execution_count": 5,
   "metadata": {},
   "outputs": [
    {
     "name": "stdout",
     "output_type": "stream",
     "text": [
      "Costim\n",
      "CMV\n",
      "SEB\n",
      "Markers\n",
      "data_Costim.np\n",
      "data_CMV.np\n",
      "data_SEB.np\n",
      "markers.np\n"
     ]
    }
   ],
   "source": [
    "print(COSTIM)  # \"Costim\"\n",
    "print(CMV)     # \"CMV\"\n",
    "print(SEB)     # \"SEB\"\n",
    "print(MARKERS) # \"Markers\"\n",
    "\n",
    "print(FNAME_COSTIM)  # \"data_Costim.np\"\n",
    "print(FNAME_CMV)     # \"data_CMV.np\"\n",
    "print(FNAME_SEB)     # \"data_SEB.np\"\n",
    "print(FNAME_MARKERS) # \"markers.np\")"
   ]
  },
  {
   "cell_type": "markdown",
   "metadata": {},
   "source": [
    "# Check import the data"
   ]
  },
  {
   "cell_type": "code",
   "execution_count": 6,
   "metadata": {},
   "outputs": [
    {
     "name": "stdout",
     "output_type": "stream",
     "text": [
      "Read Markers\n",
      "The data Markers are input.\n"
     ]
    }
   ],
   "source": [
    "dat_markers = read_EQAPOL(fnames = [MARKERS])"
   ]
  },
  {
   "cell_type": "code",
   "execution_count": 7,
   "metadata": {},
   "outputs": [
    {
     "data": {
      "text/plain": [
       "{'CD107 PE Cy5': 13,\n",
       " 'CD14 CD19 vAmine': 3,\n",
       " 'CD27 APC': 8,\n",
       " 'CD3 AmCyan': 4,\n",
       " 'CD4 PerCP Cy55': 5,\n",
       " 'CD45RO ECD': 7,\n",
       " 'CD57 FITC': 9,\n",
       " 'CD8 APC Cy7': 6,\n",
       " 'FSC-A': 2,\n",
       " 'FSC-H': 0,\n",
       " 'FSC-W': 1,\n",
       " 'IFNg PE Cy7': 12,\n",
       " 'IL 2 PE': 11,\n",
       " 'TNFa A700': 10}"
      ]
     },
     "execution_count": 7,
     "metadata": {},
     "output_type": "execute_result"
    }
   ],
   "source": [
    "dat_markers['Markers']"
   ]
  },
  {
   "cell_type": "code",
   "execution_count": 8,
   "metadata": {},
   "outputs": [
    {
     "name": "stdout",
     "output_type": "stream",
     "text": [
      "Read Costim\n",
      "Read CMV\n",
      "The data Costim CMV are input.\n"
     ]
    }
   ],
   "source": [
    "data01 = read_EQAPOL(fnames = [COSTIM, CMV])"
   ]
  },
  {
   "cell_type": "code",
   "execution_count": 9,
   "metadata": {},
   "outputs": [
    {
     "name": "stdout",
     "output_type": "stream",
     "text": [
      "Read Costim\n",
      "Read CMV\n",
      "Read SEB\n",
      "Read Markers\n",
      "The data Costim CMV SEB Markers are input.\n"
     ]
    }
   ],
   "source": [
    "data02 = read_EQAPOL(fnames = [COSTIM, CMV, SEB, MARKERS])"
   ]
  },
  {
   "cell_type": "code",
   "execution_count": 10,
   "metadata": {},
   "outputs": [
    {
     "name": "stdout",
     "output_type": "stream",
     "text": [
      "===== Raw Shape ======\n",
      "(6,)\n",
      "(455472, 14)\n",
      "(607410, 14)\n",
      "(411894, 14)\n",
      "(515178, 14)\n",
      "(422658, 14)\n",
      "(519426, 14)\n"
     ]
    }
   ],
   "source": [
    "data_samples = np.array(\n",
    "    list(data02[COSTIM])[0:2] + \n",
    "    list(data02[CMV])[0:2] + \n",
    "    list(data02[SEB])[0:2])\n",
    "\n",
    "print(\"===== Raw Shape ======\")\n",
    "print(data_samples.shape)\n",
    "print(data_samples[0].shape) # Costim\n",
    "print(data_samples[1].shape) # Costim\n",
    "print(data_samples[2].shape) # CMV\n",
    "print(data_samples[3].shape) # CMV\n",
    "print(data_samples[4].shape) # SEB\n",
    "print(data_samples[5].shape) # SEB\n",
    "\n",
    "\"\"\"\n",
    "(6,)\n",
    "(455472, 14)\n",
    "(607410, 14)\n",
    "(411894, 14)\n",
    "(515178, 14)\n",
    "(422658, 14)\n",
    "(519426, 14)\n",
    "\"\"\""
   ]
  }
 ],
 "metadata": {
  "kernelspec": {
   "display_name": "Python 3",
   "language": "python",
   "name": "python3"
  },
  "language_info": {
   "codemirror_mode": {
    "name": "ipython",
    "version": 3
   },
   "file_extension": ".py",
   "mimetype": "text/x-python",
   "name": "python",
   "nbconvert_exporter": "python",
   "pygments_lexer": "ipython3",
   "version": "3.6.3"
  }
 },
 "nbformat": 4,
 "nbformat_minor": 2
}
