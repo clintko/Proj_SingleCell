{
 "cells": [
  {
   "cell_type": "markdown",
   "metadata": {},
   "source": [
    "# Setup Environment"
   ]
  },
  {
   "cell_type": "code",
   "execution_count": 1,
   "metadata": {},
   "outputs": [
    {
     "name": "stdout",
     "output_type": "stream",
     "text": [
      "/local_data/notebooks/clintko/GitRepo/Proj_SingleCell/DataPlus\n"
     ]
    }
   ],
   "source": [
    "pwd"
   ]
  },
  {
   "cell_type": "code",
   "execution_count": 2,
   "metadata": {},
   "outputs": [
    {
     "name": "stdout",
     "output_type": "stream",
     "text": [
      "Apapter  Drop-seq_tools-1.13  GRCm38  tmp\n"
     ]
    }
   ],
   "source": [
    "cd /data/clintko/DropSeq_Lung\n",
    "ls"
   ]
  },
  {
   "cell_type": "code",
   "execution_count": 3,
   "metadata": {},
   "outputs": [
    {
     "name": "stdout",
     "output_type": "stream",
     "text": [
      "Mus_musculus.GRCm38.92.gtf     Mus_musculus.GRCm38.cdna.all.fa     STAR_INDEX\n",
      "Mus_musculus.GRCm38.92.gtf.gz  Mus_musculus.GRCm38.cdna.all.fa.gz\n"
     ]
    }
   ],
   "source": [
    "ls ./GRCm38"
   ]
  },
  {
   "cell_type": "code",
   "execution_count": 4,
   "metadata": {},
   "outputs": [
    {
     "name": "stdout",
     "output_type": "stream",
     "text": [
      "3rdParty                        GatherGeneGCLength\n",
      "BAMTagHistogram                 GatherMolecularBarcodeDistributionByGene\n",
      "BAMTagofTagCounts               GatherReadQualityMetrics\n",
      "BaseDistributionAtReadPosition  jar\n",
      "build.xml                       LICENSE.txt\n",
      "CollapseBarcodesInPlace         loadDotKits.sh\n",
      "CollapseTagWithContext          PolyATrimmer\n",
      "ConvertToRefFlat                public\n",
      "CreateIntervalsFiles            README\n",
      "DetectBeadSynthesisErrors       ReduceGTF\n",
      "DigitalExpression               SelectCellsByNumTranscripts\n",
      "Drop-seq_alignment.sh           SingleCellRnaSeqMetricsCollector\n",
      "DropSeq.barnyard_1.13.tar.gz    TagBamWithReadSequenceExtended\n",
      "dropSeqPipe                     TagReadWithGeneExon\n",
      "drop-seq-tools-wrapper.sh       TagReadWithInterval\n",
      "FilterBAM                       TrimStartingSequence\n",
      "FilterBAMByTag                  ValidateReference\n"
     ]
    }
   ],
   "source": [
    "cd Drop-seq_tools-1.13\n",
    "ls"
   ]
  },
  {
   "cell_type": "code",
   "execution_count": 5,
   "metadata": {},
   "outputs": [
    {
     "name": "stdout",
     "output_type": "stream",
     "text": [
      "CHANGELOG.md               envs           out180606.txt  rules        summary\n",
      "config.yaml                err180606.txt  plots          samples.csv  templates\n",
      "data                       LICENSE.txt    README.md      scripts\n",
      "drop-seq-tools-wrapper.sh  logs           reports        Snakefile\n"
     ]
    }
   ],
   "source": [
    "cd dropSeqPipe\n",
    "ls"
   ]
  },
  {
   "cell_type": "code",
   "execution_count": 6,
   "metadata": {},
   "outputs": [
    {
     "name": "stdout",
     "output_type": "stream",
     "text": [
      "Gland_homeo_R1.fastq     Gland_homeo_R2.fastq.gz   Surface_naph_R2.fastq.gz\n",
      "Gland_homeo_R1.fastq.gz  Surface_naph_R1.fastq.gz\n",
      "Gland_homeo_R2.fastq     Surface_naph_R2.fastq\n"
     ]
    }
   ],
   "source": [
    "ls data"
   ]
  },
  {
   "cell_type": "markdown",
   "metadata": {},
   "source": [
    "# Activate environment"
   ]
  },
  {
   "cell_type": "markdown",
   "metadata": {},
   "source": [
    "### Add path of tools"
   ]
  },
  {
   "cell_type": "code",
   "execution_count": null,
   "metadata": {},
   "outputs": [],
   "source": [
    "cd /data/clintko/DropSeq_Lung/Drop-seq_tools-1.13/dropSeqPipe"
   ]
  },
  {
   "cell_type": "code",
   "execution_count": null,
   "metadata": {},
   "outputs": [],
   "source": [
    "source /etc/environment"
   ]
  },
  {
   "cell_type": "code",
   "execution_count": null,
   "metadata": {},
   "outputs": [],
   "source": [
    "PATH=\"/data/clintko/STAR/bin/Linux_x86_64_static:$PATH\""
   ]
  },
  {
   "cell_type": "code",
   "execution_count": null,
   "metadata": {},
   "outputs": [],
   "source": [
    "alias samtools='samtools_0.1.18'"
   ]
  },
  {
   "cell_type": "code",
   "execution_count": null,
   "metadata": {},
   "outputs": [],
   "source": [
    "source /local_data/env-py3/bin/activate"
   ]
  },
  {
   "cell_type": "code",
   "execution_count": null,
   "metadata": {},
   "outputs": [],
   "source": []
  },
  {
   "cell_type": "code",
   "execution_count": null,
   "metadata": {},
   "outputs": [],
   "source": []
  },
  {
   "cell_type": "code",
   "execution_count": null,
   "metadata": {},
   "outputs": [],
   "source": []
  },
  {
   "cell_type": "code",
   "execution_count": null,
   "metadata": {},
   "outputs": [],
   "source": []
  },
  {
   "cell_type": "code",
   "execution_count": 3,
   "metadata": {},
   "outputs": [],
   "source": [
    "source /etc/environment"
   ]
  },
  {
   "cell_type": "code",
   "execution_count": 8,
   "metadata": {},
   "outputs": [
    {
     "name": "stdout",
     "output_type": "stream",
     "text": [
      "PATH=\"/usr/local/sbin:/usr/local/bin:/usr/sbin:/usr/bin:/sbin:/bin:/usr/games:/usr/lib/go-1.9/bin:/usr/local/games:/data/cellranger-2.1.1:/data/hisat2-2.1.0:/data/Drop-seq_tools-1.13:/data/sratoolkit.2.9.0-ubuntu64/bin:/data/tophat-2.1.1.Linux_x86_64\"\n",
      "PICARD_JAR=\"/data/Drop-seq_tools-1.13/3rdParty/picard/picard.jar\"\n"
     ]
    }
   ],
   "source": [
    "cat /etc/environment"
   ]
  },
  {
   "cell_type": "markdown",
   "metadata": {},
   "source": [
    "where STAR is"
   ]
  },
  {
   "cell_type": "code",
   "execution_count": 7,
   "metadata": {},
   "outputs": [
    {
     "name": "stdout",
     "output_type": "stream",
     "text": [
      "STAR  STARlong\n"
     ]
    }
   ],
   "source": [
    "ls /data/clintko/STAR/bin/Linux_x86_64_static"
   ]
  },
  {
   "cell_type": "code",
   "execution_count": null,
   "metadata": {},
   "outputs": [],
   "source": [
    "PATH=\"/data/clintko/STAR/bin/Linux_x86_64_static:$PATH\""
   ]
  },
  {
   "cell_type": "code",
   "execution_count": 8,
   "metadata": {},
   "outputs": [],
   "source": [
    "cat > /data/clintko/environment << EOF\n",
    "export PATH=\"./:/data/clintko/test:/data/clintko/STAR/bin/Linux_x86_64_static:/usr/local/sbin:/usr/local/bin:/usr/sbin:/usr/bin:/sbin:/bin:/usr/games:/usr/lib/go-1.9/bin:/usr/local/games:/data/cellranger-2.1.1:/data/hisat2-2.1.0:/data/Drop-seq_tools-1.13:/data/sratoolkit.2.9.0-ubuntu64/bin:/data/tophat-2.1.1.Linux_x86_64\"\n",
    "PICARD_JAR=\"/data/Drop-seq_tools-1.13/3rdParty/picard/picard.jar\"\n",
    "EOF"
   ]
  },
  {
   "cell_type": "code",
   "execution_count": 9,
   "metadata": {},
   "outputs": [],
   "source": [
    "source /data/clintko/environment"
   ]
  },
  {
   "cell_type": "code",
   "execution_count": 10,
   "metadata": {},
   "outputs": [
    {
     "name": "stdout",
     "output_type": "stream",
     "text": [
      "export PATH=\"./:/data/clintko/test:/data/clintko/STAR/bin/Linux_x86_64_static:/usr/local/sbin:/usr/local/bin:/usr/sbin:/usr/bin:/sbin:/bin:/usr/games:/usr/lib/go-1.9/bin:/usr/local/games:/data/cellranger-2.1.1:/data/hisat2-2.1.0:/data/Drop-seq_tools-1.13:/data/sratoolkit.2.9.0-ubuntu64/bin:/data/tophat-2.1.1.Linux_x86_64\"\n",
      "PICARD_JAR=\"/data/Drop-seq_tools-1.13/3rdParty/picard/picard.jar\"\n"
     ]
    }
   ],
   "source": [
    "cat /data/clintko/environment"
   ]
  },
  {
   "cell_type": "markdown",
   "metadata": {},
   "source": [
    "check if STAR is able to run"
   ]
  },
  {
   "cell_type": "code",
   "execution_count": null,
   "metadata": {},
   "outputs": [],
   "source": [
    "STAR"
   ]
  },
  {
   "cell_type": "markdown",
   "metadata": {},
   "source": [
    "samtools"
   ]
  },
  {
   "cell_type": "code",
   "execution_count": 4,
   "metadata": {},
   "outputs": [],
   "source": [
    "alias samtools='samtools_0.1.18'"
   ]
  },
  {
   "cell_type": "code",
   "execution_count": 5,
   "metadata": {},
   "outputs": [
    {
     "name": "stdout",
     "output_type": "stream",
     "text": [
      "\n",
      "Program: samtools (Tools for alignments in the SAM format)\n",
      "Version: 0.1.18 (r982:295)\n",
      "\n",
      "Usage:   samtools <command> [options]\n",
      "\n",
      "Command: view        SAM<->BAM conversion\n",
      "         sort        sort alignment file\n",
      "         mpileup     multi-way pileup\n",
      "         depth       compute the depth\n",
      "         faidx       index/extract FASTA\n",
      "         index       index alignment\n",
      "         idxstats    BAM index stats (r595 or later)\n",
      "         fixmate     fix mate information\n",
      "         flagstat    simple stats\n",
      "         calmd       recalculate MD/NM tags and '=' bases\n",
      "         merge       merge sorted alignments\n",
      "         rmdup       remove PCR duplicates\n",
      "         reheader    replace BAM header\n",
      "         cat         concatenate BAMs\n",
      "         targetcut   cut fosmid regions (for fosmid pool only)\n",
      "         phase       phase heterozygotes\n",
      "\n"
     ]
    },
    {
     "ename": "",
     "evalue": "1",
     "output_type": "error",
     "traceback": []
    }
   ],
   "source": [
    "samtools"
   ]
  },
  {
   "cell_type": "markdown",
   "metadata": {},
   "source": [
    "### Activate Python3 env for snakemake command"
   ]
  },
  {
   "cell_type": "code",
   "execution_count": 12,
   "metadata": {},
   "outputs": [
    {
     "name": "stdout",
     "output_type": "stream",
     "text": [
      "(env-py3) "
     ]
    },
    {
     "ename": "",
     "evalue": "1",
     "output_type": "error",
     "traceback": []
    }
   ],
   "source": [
    "source /local_data/env-py3/bin/activate"
   ]
  },
  {
   "cell_type": "markdown",
   "metadata": {},
   "source": [
    "check if snakemake is able to run"
   ]
  },
  {
   "cell_type": "markdown",
   "metadata": {},
   "source": [
    "### Run Snakemake in the dropSeqPipe"
   ]
  },
  {
   "cell_type": "markdown",
   "metadata": {},
   "source": [
    "script from Yoshi\n",
    "```\n",
    "source activate dropSeqPipe\n",
    "snakemake --core 8 meta filter map extract; cd ./data;java -Xmx4g -jar /home/yoshihiko/Drop-seq_tools-1.13/3rdParty/picard/picard.jar SamToFastq INPUT=DSS_trimmed_unmapped.bam FASTQ=DSS_filtered.fastq.gz;hisat2 -p 8 -x /home/yoshihiko/GRCm38/ht2 -p 8 -U DSS_filtered.fastq.gz -S DSS.sam --no-discordant --no-mixed;java -Xmx4g -jar /home/yoshihiko/Drop-seq_tools-1.13/3rdParty/picard/picard.jar SortSam I=DSS.sam O=DSS.bam SO=queryname;java -Xmx4g -jar /home/yoshihiko/Drop-seq_tools-1.13/3rdParty/picard/picard.jar MergeBamAlignment REFERENCE_SEQUENCE=/home/yoshihiko/GRCm38/GRCm38.fasta UNMAPPED_BAM=DSS_trimmed_unmapped.bam ALIGNED_BAM=DSS.bam OUTPUT=DSS_merged.bam INCLUDE_SECONDARY_ALIGNMENTS=false PAIRED_RUN=false;/home/yoshihiko/Drop-seq_tools-1.13/TagReadWithGeneExon I=DSS_merged.bam O=DSS_exon_tagged.bam ANNOTATIONS_FILE=/home/yoshihiko/GRCm38/GRCm38.91.refFlat TAG=GE;/home/yoshihiko/Drop-seq_tools-1.13/DetectBeadSynthesisErrors I=DSS_exon_tagged.bam O=DSS_clean.bam OUTPUT_STATS=DSS_synthesis_stats.txt SUMMARY=DSS_synthesis_stats.summary.txt NUM_BARCODES=10000 PRIMER_SEQUENCE=AATGATACGGCGACCACCGAGATCTACACGCCTGTCCGCGGAAGCAGTGGTATCAACGCAGAGTAC;/home/yoshihiko/Drop-seq_tools-1.13/DigitalExpression I=DSS_exon_tagged.bam O=DSS_out_gene_exon_tagged.dge.txt.gz SUMMARY=DSS_out_gene_exon_tagged.dge.summary.txt NUM_CORE_BARCODES=10000\n",
    "\n",
    "```"
   ]
  },
  {
   "cell_type": "code",
   "execution_count": 10,
   "metadata": {},
   "outputs": [
    {
     "name": "stdout",
     "output_type": "stream",
     "text": [
      "/data/clintko/DropSeq_Lung/Drop-seq_tools-1.13/dropSeqPipe\n",
      "(env-py3) "
     ]
    },
    {
     "ename": "",
     "evalue": "1",
     "output_type": "error",
     "traceback": []
    }
   ],
   "source": [
    "pwd"
   ]
  },
  {
   "cell_type": "code",
   "execution_count": 16,
   "metadata": {},
   "outputs": [
    {
     "name": "stdout",
     "output_type": "stream",
     "text": [
      "Architecture:        x86_64\n",
      "CPU op-mode(s):      32-bit, 64-bit\n",
      "Byte Order:          Little Endian\n",
      "CPU(s):              24\n",
      "On-line CPU(s) list: 0-23\n",
      "Thread(s) per core:  2\n",
      "Core(s) per socket:  12\n",
      "Socket(s):           1\n",
      "NUMA node(s):        1\n",
      "Vendor ID:           GenuineIntel\n",
      "(env-py3) "
     ]
    },
    {
     "ename": "",
     "evalue": "1",
     "output_type": "error",
     "traceback": []
    }
   ],
   "source": [
    "lscpu | head "
   ]
  },
  {
   "cell_type": "code",
   "execution_count": null,
   "metadata": {},
   "outputs": [],
   "source": [
    "#snakemake --use-conda --cores 8\n",
    "snakemake --cores 8"
   ]
  },
  {
   "cell_type": "markdown",
   "metadata": {},
   "source": [
    "# Reference"
   ]
  },
  {
   "cell_type": "code",
   "execution_count": 21,
   "metadata": {},
   "outputs": [
    {
     "name": "stdout",
     "output_type": "stream",
     "text": [
      "LOCAL:\n",
      "    TMPDIR: /home/clintko/dropseq/tmp\n",
      "    DROPSEQ-wrapper: /data/clintko/Drop-seq_tools-1.13/drop-seq-tools-wrapper.sh\n",
      "    MEMORY: 16g\n",
      "META:\n",
      "    species:\n",
      "        - MOUSE\n",
      "    species_ratio: 1.0\n",
      "    reference-file: Mus_musculus.GRCm38.cdna.all.fa\n",
      "    annotation-file: Mus_musculus.GRCm38.92.gtf\n",
      "    reference-directory: /data/clintko/GRCm38/\n",
      "FILTER:\n",
      "    IlluminaClip: NexteraPE-PE.fa\n",
      "    5PrimeSmartAdapter: AATGATACGGCGACCACCGAGATCTACACGCCTGTCCGCGGAAGCAGTGGTATCAACGCAGAGTAC\n",
      "    Cell_barcode: \n",
      "        start: 1\n",
      "        end: 16\n",
      "        min_quality: 20\n",
      "        num_below_quality: 0\n",
      "    UMI:\n",
      "        start: 17\n",
      "        end: 24\n",
      "        min_quality: 20\n",
      "        num_below_quality: 0\n",
      "EXTRACTION:\n",
      "    bc_edit_distance: 0\n",
      "    min_count_per_umi: 1\n",
      "STAR_PARAMETERS:\n",
      "    outFilterMismatchNmax: 10\n",
      "    outFilterMismatchNoverLmax: 0.3\n",
      "    outFilterMismatchNoverReadLmax: 1\n",
      "    outFilterMatchNmin: 0\n",
      "(env-py3) "
     ]
    },
    {
     "ename": "",
     "evalue": "1",
     "output_type": "error",
     "traceback": []
    }
   ],
   "source": [
    "cat config.yaml"
   ]
  },
  {
   "cell_type": "code",
   "execution_count": 13,
   "metadata": {},
   "outputs": [
    {
     "name": "stdout",
     "output_type": "stream",
     "text": [
      "\"\"\"Filter data\"\"\"\n",
      "\n",
      "\n",
      "#Which rules will be run on the host computer and not sent to nodes\n",
      "localrules: count_reads, reads_after_trimming, plot_polyA_trim, plot_barcode_start_trim, plot_UMI_filtering, plot_CELL_filtering, plot_BC_drop, multiqc_trimmomatic\n",
      "\n",
      "rule fastq_to_sam:\n",
      "\t\"\"\"Create an empty bam file linking cell/UMI barcodes to reads\"\"\"\n",
      "\tinput:\n",
      "\t\tR1='data/{sample}_R1.fastq.gz',\n",
      "\t\tR2='data/{sample}_R2.fastq.gz'\n",
      "\toutput:\n",
      "\t\ttemp('data/{sample}_unaligned.bam')\n",
      "\tparams:\n",
      "\t\ttemp_directory=config['LOCAL']['temp-directory'],\n",
      "\t\tmemory=config['LOCAL']['memory'],\n",
      "\t\tpicard=\"$CONDA_PREFIX/share/picard-2.14.1-0/picard.jar\"\n",
      "\tconda: '../envs/picard.yaml'\n",
      "\tshell:\n",
      "\t\t\"\"\"java -Djava.io.tmpdir={params.temp_directory} -Xmx{params.memory} -jar {params.picard} FastqToSam\\\n",
      "\t\tF1={input[0]}\\\n",
      "\t\tF2={input[1]}\\\n",
      "\t\tSM=DS O={output}\"\"\"\n",
      "\n",
      "rule BC_tags:\n",
      "\tinput:\n",
      "\t\t'data/{sample}_unaligned.bam'\n",
      "\toutput: \n",
      "\t\tdata=temp('data/{sample}_BC_tagged_unmapped.bam'),\n",
      "\t\tBC_summary='logs/{sample}_CELL_barcode.txt'\n",
      "\tparams:\n",
      "\t\tBC_start=config['FILTER']['cell-barcode']['start'],\n",
      "\t\tBC_end=config['FILTER']['cell-barcode']['end'],\n",
      "\t\tBC_minQuality=config['FILTER']['cell-barcode']['min-quality'],\n",
      "\t\tBC_minQuality_num=config['FILTER']['cell-barcode']['num-below-quality']+1,\n",
      "\t\tdropseq_wrapper=config['LOCAL']['dropseq-wrapper'],\n",
      "\t\tmemory=config['LOCAL']['memory'],\n",
      "\t\ttemp_directory=config['LOCAL']['temp-directory']\n",
      "\tshell:\n",
      "\t\t\"\"\"{params.dropseq_wrapper} -m {params.memory} -t {params.temp_directory} -p TagBamWithReadSequenceExtended\\\n",
      "\t\tSUMMARY={output.BC_summary}\\\n",
      "\t\tBASE_RANGE={params.BC_start}-{params.BC_end}\\\n",
      "\t\tBASE_QUALITY={params.BC_minQuality}\\\n",
      "\t\tBARCODED_READ=1\\\n",
      "\t\tDISCARD_READ=false\\\n",
      "\t\tTAG_NAME=XC\\\n",
      "\t\tNUM_BASES_BELOW_QUALITY={params.BC_minQuality_num}\\\n",
      "\t\tINPUT={input}\\\n",
      "\t\tOUTPUT={output.data}\n",
      "\t\t\"\"\"\n",
      "\n",
      "rule UMI_tags:\n",
      "\tinput:\n",
      "\t\t'data/{sample}_BC_tagged_unmapped.bam'\n",
      "\toutput:\n",
      "\t\tbam=temp('data/{sample}_BC_UMI_tagged_unmapped.bam'),\n",
      "\t\tUMI_summary='logs/{sample}_UMI_barcode.txt'\n",
      "\tparams:\n",
      "\t\tUMI_start=config['FILTER']['UMI-barcode']['start'],\n",
      "\t\tUMI_end=config['FILTER']['UMI-barcode']['end'],\n",
      "\t\tUMI_minQuality=config['FILTER']['UMI-barcode']['min-quality'],\n",
      "\t\tUMI_minQuality_num=config['FILTER']['UMI-barcode']['num-below-quality']+1,\n",
      "\t\tdropseq_wrapper=config['LOCAL']['dropseq-wrapper'],\n",
      "\t\tmemory=config['LOCAL']['memory'],\n",
      "\t\ttemp_directory=config['LOCAL']['temp-directory']\n",
      "\tshell:\n",
      "\t\t\"\"\"{params.dropseq_wrapper} -m {params.memory} -t {params.temp_directory} -p TagBamWithReadSequenceExtended\\\n",
      "\t\tSUMMARY={output.UMI_summary}\\\n",
      "\t\tBASE_RANGE={params.UMI_start}-{params.UMI_end}\\\n",
      "\t\tBASE_QUALITY={params.UMI_minQuality}\\\n",
      "\t\tBARCODED_READ=1\\\n",
      "\t\tDISCARD_READ=true\\\n",
      "\t\tTAG_NAME=XM\\\n",
      "\t\tNUM_BASES_BELOW_QUALITY={params.UMI_minQuality_num}\\\n",
      "\t\tINPUT={input}\\\n",
      "\t\tOUTPUT={output.bam}\n",
      "\t\t\"\"\"\n",
      "rule filter_tags:\n",
      "\tinput:\n",
      "\t\t'data/{sample}_BC_UMI_tagged_unmapped.bam'\n",
      "\toutput: \n",
      "\t\ttemp('data/{sample}_tags_filtered_unmapped.bam')\n",
      "\tparams:\n",
      "\t\tdropseq_wrapper=config['LOCAL']['dropseq-wrapper'],\n",
      "\t\tmemory=config['LOCAL']['memory'],\n",
      "\t\ttemp_directory=config['LOCAL']['temp-directory']\n",
      "\tshell:\n",
      "\t\t\"\"\"{params.dropseq_wrapper} -m {params.memory} -t {params.temp_directory} -p FilterBAM\\\n",
      "\t\tTAG_REJECT=XQ\\\n",
      "\t\tINPUT={input}\\\n",
      "\t\tOUTPUT={output}\n",
      "\t\t\"\"\"\n",
      "\n",
      "rule count_reads:\n",
      "\tinput:\n",
      "\t\t'data/{sample}_tags_filtered_unmapped.bam'\n",
      "\toutput:\n",
      "\t\t'logs/{sample}_reads_left.txt'\n",
      "\tconda: '../envs/samtools.yaml'\n",
      "\tshell:\n",
      "\t\t\"\"\"samtools view {input} | wc -l > {output}\"\"\"\n",
      "\n",
      "\n",
      "rule start_trim:\n",
      "\tinput:\n",
      "\t\t'data/{sample}_tags_filtered_unmapped.bam'\n",
      "\toutput:\n",
      "\t\tdata=temp('data/{sample}_tags_start_filtered_unmapped.bam'),\n",
      "\t\ttrim_summary='logs/{sample}_start_trim.txt'\n",
      "\tparams:\n",
      "\t\tSmartAdapter=config['FILTER']['5-prime-smart-adapter'],\n",
      "\t\tdropseq_wrapper=config['LOCAL']['dropseq-wrapper'],\n",
      "\t\tmemory=config['LOCAL']['memory'],\n",
      "\t\ttemp_directory=config['LOCAL']['temp-directory']\n",
      "\tshell:\n",
      "\t\t\"\"\"{params.dropseq_wrapper} -m {params.memory} -t {params.temp_directory} -p TrimStartingSequence\\\n",
      "\t\tOUTPUT_SUMMARY={output.trim_summary}\\\n",
      "\t\tSEQUENCE={params.SmartAdapter}\\\n",
      "\t\tMISMATCHES=1\\\n",
      "\t\tNUM_BASES=6\\\n",
      "\t\tINPUT={input}\\\n",
      "\t\tOUTPUT={output.data}\n",
      "\t\t\"\"\"\n",
      "rule polya_trim:\n",
      "\tinput:\n",
      "\t\t'data/{sample}_tags_start_filtered_unmapped.bam'\n",
      "\toutput:\n",
      "\t\tdata='data/{sample}_trimmed_unmapped.bam',\n",
      "\t\ttrim_summary='logs/{sample}_polyA_trim.txt'\n",
      "\tparams:\n",
      "\t\tdropseq_wrapper=config['LOCAL']['dropseq-wrapper'],\n",
      "\t\tmemory=config['LOCAL']['memory'],\n",
      "\t\ttemp_directory=config['LOCAL']['temp-directory']\n",
      "\tshell:\n",
      "\t\t\"\"\"{params.dropseq_wrapper} -m {params.memory} -t {params.temp_directory} -p PolyATrimmer\\\n",
      "\t\tOUTPUT_SUMMARY={output.trim_summary}\\\n",
      "\t\tMISMATCHES=0\\\n",
      "\t\tNUM_BASES=5\\\n",
      "\t\tINPUT={input}\\\n",
      "\t\tOUTPUT={output.data}\n",
      "\t\t\"\"\"\n",
      "\n",
      "rule sam_to_fastq:\n",
      "\tinput:\n",
      "\t\t'data/{sample}_trimmed_unmapped.bam'\n",
      "\tparams:\n",
      "\t\ttemp_directory=config['LOCAL']['temp-directory'],\n",
      "\t\tmemory=config['LOCAL']['memory'],\n",
      "\t\tpicard=\"$CONDA_PREFIX/share/picard-2.14.1-0/picard.jar\"\n",
      "\toutput:\n",
      "\t\ttemp('data/{sample}_trimmed_unmapped.fastq.gz')\n",
      "\tconda: '../envs/picard.yaml'\n",
      "\tshell:\n",
      "\t\t\"\"\"java -Xmx{params.memory} -jar -Djava.io.tmpdir={params.temp_directory}\t{params.picard} SamToFastq\\\n",
      "\t\tINPUT={input}\\\n",
      "\t\tFASTQ=/dev/stdout COMPRESSION_LEVEL=0|\\\n",
      "\t\tgzip > {output}\"\"\"\n",
      "\n",
      "\n",
      "\n",
      "rule trim_single:\n",
      "\tinput:\n",
      "\t\t'data/{sample}_trimmed_unmapped.fastq.gz'\n",
      "\toutput:\n",
      "\t\tdata='data/{sample}_filtered.fastq.gz'\n",
      "\tlog:\n",
      "\t\t'logs/{sample}_trimlog.txt'\n",
      "\tparams:\n",
      "\t\ttrimmer=['LEADING:{} TRAILING:{} SLIDINGWINDOW:{}:{} MINLEN:{} ILLUMINACLIP:{}:{}:{}:{}'.format(\n",
      "\t\t\tconfig['FILTER']['trimmomatic']['LEADING'],\n",
      "\t\t\tconfig['FILTER']['trimmomatic']['TRAILING'],\n",
      "\t\t\tconfig['FILTER']['trimmomatic']['SLIDINGWINDOW']['windowSize'],\n",
      "\t\t\tconfig['FILTER']['trimmomatic']['SLIDINGWINDOW']['requiredQuality'],\n",
      "\t\t\tconfig['FILTER']['trimmomatic']['MINLEN'],\n",
      "\t\t\tconfig['FILTER']['trimmomatic']['adapters-file'],\n",
      "\t\t\tconfig['FILTER']['trimmomatic']['ILLUMINACLIP']['seedMismatches'],\n",
      "\t\t\tconfig['FILTER']['trimmomatic']['ILLUMINACLIP']['palindromeClipThreshold'],\n",
      "\t\t\tconfig['FILTER']['trimmomatic']['ILLUMINACLIP']['simpleClipThreshold'])],\n",
      "\t\textra='-threads 10'\n",
      "\tthreads: 10\n",
      "\twrapper:\n",
      "\t\t'0.21.0/bio/trimmomatic/se'\n",
      "\n",
      "\n",
      "rule reads_after_trimming:\n",
      "\tinput:\n",
      "\t\t'data/{sample}_filtered.fastq.gz'\n",
      "\toutput:\n",
      "\t\t'logs/{sample}_reads_left_trim.txt'\n",
      "\tconda: '../envs/samtools.yaml'\n",
      "\tshell:\n",
      "\t\t\"\"\"zcat {input} | wc -l > {output}\"\"\"\n",
      "\n",
      "rule plot_polyA_trim:\n",
      "\tinput:\n",
      "\t\t'logs/{sample}_polyA_trim.txt'\n",
      "\tconda: '../envs/plots.yaml'\n",
      "\toutput:\n",
      "\t\tpdf='plots/{sample}_polya_trimmed.pdf'\n",
      "\tscript:\n",
      "\t\t'../scripts/plot_polyA_trim.R'\n",
      "\n",
      "rule plot_barcode_start_trim:\n",
      "\tinput:\n",
      "\t\t'logs/{sample}_start_trim.txt'\n",
      "\tconda: '../envs/plots.yaml'\n",
      "\toutput:\n",
      "\t\tpdf='plots/{sample}_start_trim.pdf'\n",
      "\tscript:\n",
      "\t\t'../scripts/plot_start_trim.R'\n",
      "\n",
      "\n",
      "rule plot_UMI_filtering:\n",
      "\tinput:\n",
      "\t\t'logs/{sample}_UMI_barcode.txt'\n",
      "\tparams: \n",
      "\t\tmin_quality=config['FILTER']['UMI-barcode']['min-quality'],\n",
      "\t\tnum_below_quality=config['FILTER']['UMI-barcode']['num-below-quality']\n",
      "\tconda: '../envs/plots.yaml'\n",
      "\toutput:\n",
      "\t\tpdf='plots/{sample}_UMI_dropped.pdf'\n",
      "\tscript:\n",
      "\t\t'../scripts/plot_umi_drop.R'\n",
      "\n",
      "rule plot_CELL_filtering:\n",
      "\tinput:\n",
      "\t\t'logs/{sample}_CELL_barcode.txt'\n",
      "\tparams:\n",
      "\t\tmin_quality=config['FILTER']['cell-barcode']['min-quality'],\n",
      "\t\tnum_below_quality=config['FILTER']['cell-barcode']['num-below-quality']\n",
      "\tconda: '../envs/plots.yaml'\n",
      "\toutput:\n",
      "\t\tpdf='plots/{sample}_CELL_dropped.pdf'\n",
      "\n",
      "\tscript:\n",
      "\t\t'../scripts/plot_cell_drop.R'\n",
      "\n",
      "rule plot_BC_drop:\n",
      "\tinput:\n",
      "\t\tCell_tagged=expand('logs/{sample}_CELL_barcode.txt', sample=samples.index),\n",
      "\t\tUMI_tagged=expand('logs/{sample}_UMI_barcode.txt', sample=samples.index),\n",
      "\t\treads_left=expand('logs/{sample}_reads_left.txt', sample=samples.index),\n",
      "\t\ttrimmomatic_filtered=expand('logs/{sample}_reads_left_trim.txt', sample=samples.index)\n",
      "\tparams:\n",
      "\t\tCell_length=config['FILTER']['cell-barcode']['end'] - config['FILTER']['cell-barcode']['start']+1,\n",
      "\t\tUMI_length=config['FILTER']['UMI-barcode']['end'] - config['FILTER']['UMI-barcode']['start']+1,\n",
      "\t\tmin_num_below_Cell=config['FILTER']['cell-barcode']['num-below-quality'],\n",
      "\t\tmin_num_below_UMI=config['FILTER']['UMI-barcode']['num-below-quality'],\n",
      "\t\tmin_Cell_quality=config['FILTER']['cell-barcode']['min-quality'],\n",
      "\t\tmin_UMI_quality=config['FILTER']['UMI-barcode']['min-quality'],\n",
      "\t\tsample_names=lambda wildcards: samples.index,\n",
      "\t\tbatches=lambda wildcards: samples.loc[samples.index, 'batch']\n",
      "\t\t\n",
      "\tconda: '../envs/plots.yaml'\n"
     ]
    },
    {
     "name": "stdout",
     "output_type": "stream",
     "text": [
      "\toutput:\n",
      "\t\tpdf='plots/BC_drop.pdf'\n",
      "\tscript:\n",
      "\t\t'../scripts/plot_BC_drop.R'\n",
      "\n",
      "rule multiqc_trimmomatic:\n",
      "\tinput:\n",
      "\t\texpand('logs/{sample}_trimlog.txt', sample=samples.index)\n",
      "\tparams: '-m trimmomatic'\n",
      "\toutput:\n",
      "\t\thtml='reports/filter.html'\n",
      "\twrapper:\n",
      "\t\t'0.21.0/bio/multiqc'(env-py3) "
     ]
    },
    {
     "ename": "",
     "evalue": "1",
     "output_type": "error",
     "traceback": []
    }
   ],
   "source": [
    "cat /data/clintko/DropSeq_Lung/Drop-seq_tools-1.13/dropSeqPipe/rules/filter.smk"
   ]
  },
  {
   "cell_type": "code",
   "execution_count": 16,
   "metadata": {
    "scrolled": false
   },
   "outputs": [
    {
     "name": "stdout",
     "output_type": "stream",
     "text": [
      "import pandas as pd\n",
      "import os\n",
      "import re\n",
      "\n",
      "# Load configuration file\n",
      "configfile: \"config.yaml\"\n",
      "\n",
      "# Get sample names from samples.csv\n",
      "samples = pd.read_table(\"samples.csv\", header=0, sep=',', index_col=0)\n",
      "\n",
      "# Get read_lengths from samples.csv\n",
      "read_lengths = list(samples.loc[:,'read_length'])\n",
      "\n",
      "# Constraint sample names wildcards\n",
      "wildcard_constraints:\n",
      "    sample=\"({})\".format(\"|\".join(samples.index))\n",
      "\n",
      "# Create reference files prefixes\n",
      "reference_prefix = os.path.join(config['META']['reference-directory'], re.split(\".fasta|.fa\",config['META']['reference-file'])[0])\n",
      "annotation_prefix = os.path.join(config['META']['reference-directory'],config['META']['annotation-file'].split('.gtf')[0])\n",
      "reference_file = os.path.join(config['META']['reference-directory'], config['META']['reference-file'])\n",
      "annotation_file = os.path.join(config['META']['reference-directory'], config['META']['annotation-file'])\n",
      "annotation_reduced_file = os.path.join(config['META']['reference-directory'],'.'.join([config['META']['annotation-file'].split('.gtf')[0],'reduced','gtf']))\n",
      "star_index_prefix = os.path.join(config['META']['reference-directory'],'STAR_INDEX/SA')\n",
      "\n",
      "# Get barcode length\n",
      "starttrim_length = config['FILTER']['cell-barcode']['end'] - config['FILTER']['cell-barcode']['start'] + 1\n",
      "\n",
      "\n",
      "\n",
      "rule all:\n",
      "    input:\n",
      "        #meta\n",
      "        '{}.refFlat'.format(annotation_prefix),\n",
      "        '{}.reduced.gtf'.format(annotation_prefix),\n",
      "        '{}.dict'.format(reference_prefix),\n",
      "        '{}.rRNA.intervals'.format(reference_prefix),\n",
      "        expand('{star_index_prefix}_{read_length}/SA', star_index_prefix=star_index_prefix, read_length=read_lengths),\n",
      "        #qc\n",
      "        expand('logs/{sample}_R1_fastqc.html', sample=samples.index),\n",
      "        expand('logs/{sample}_R2_fastqc.html', sample=samples.index),\n",
      "        'reports/fastqc_reads.html',\n",
      "        'reports/fastqc_barcodes.html',\n",
      "        'reports/fastqc_reads_data/multiqc_general_stats.txt',\n",
      "        #filter\n",
      "        expand('data/{sample}_filtered.fastq.gz', sample=samples.index),\n",
      "        expand('plots/{sample}_polya_trimmed.pdf', sample=samples.index),\n",
      "        expand('plots/{sample}_start_trim.pdf', sample=samples.index),\n",
      "        expand('plots/{sample}_CELL_dropped.pdf', sample=samples.index),\n",
      "        expand('plots/{sample}_UMI_dropped.pdf', sample=samples.index),\n",
      "        'plots/BC_drop.pdf',\n",
      "        'reports/filter.html',\n",
      "        #mapping\n",
      "        expand('data/{sample}_final.bam', sample=samples.index),\n",
      "        expand('logs/{sample}_hist_out_cell.txt', sample=samples.index),\n",
      "        expand('plots/{sample}_knee_plot.pdf', sample=samples.index),\n",
      "        'reports/star.html',\n",
      "        'plots/yield.pdf',\n",
      "        #extract\n",
      "        expand('logs/{sample}_umi_per_gene.tsv', sample=samples.index),\n",
      "        expand('plots/{sample}_rna_metrics.pdf', sample=samples.index),\n",
      "        'summary/umi_expression_matrix.tsv',\n",
      "        'summary/counts_expression_matrix.tsv'\n",
      "        \n",
      "rule meta:\n",
      "    input:\n",
      "        '{}.refFlat'.format(annotation_prefix),\n",
      "        '{}.reduced.gtf'.format(annotation_prefix),\n",
      "        '{}.dict'.format(reference_prefix),\n",
      "        '{}.rRNA.intervals'.format(reference_prefix),\n",
      "        expand('{star_index_prefix}_{read_length}/SA', star_index_prefix=star_index_prefix, read_length=read_lengths)\n",
      "\n",
      "rule qc:\n",
      "    input:\n",
      "        expand('logs/{sample}_R1_fastqc.html', sample=samples.index),\n",
      "        expand('logs/{sample}_R2_fastqc.html', sample=samples.index),\n",
      "        'reports/fastqc_reads.html',\n",
      "        'reports/fastqc_barcodes.html',\n",
      "        'reports/fastqc_reads_data/multiqc_general_stats.txt'\n",
      "\n",
      "rule filter:\n",
      "    input:\n",
      "        expand('data/{sample}_filtered.fastq.gz', sample=samples.index),\n",
      "        expand('plots/{sample}_polya_trimmed.pdf', sample=samples.index),\n",
      "        expand('plots/{sample}_start_trim.pdf', sample=samples.index),\n",
      "        expand('plots/{sample}_CELL_dropped.pdf', sample=samples.index),\n",
      "        expand('plots/{sample}_UMI_dropped.pdf', sample=samples.index),\n",
      "        'reports/filter.html',\n",
      "        'plots/BC_drop.pdf'\n",
      "        \n",
      "rule map:\n",
      "    input:  \n",
      "        expand('data/{sample}_final.bam', sample=samples.index),\n",
      "        expand('logs/{sample}_hist_out_cell.txt', sample=samples.index),\n",
      "        expand('plots/{sample}_knee_plot.pdf', sample=samples.index),\n",
      "        'reports/star.html',\n",
      "        'plots/yield.pdf'\n",
      "        \n",
      "rule extract:\n",
      "    input:\n",
      "        expand('logs/{sample}_umi_per_gene.tsv', sample=samples.index),\n",
      "        expand('plots/{sample}_rna_metrics.pdf', sample=samples.index),\n",
      "        'summary/umi_expression_matrix.tsv',\n",
      "        'summary/counts_expression_matrix.tsv'\n",
      "        \n",
      "\n",
      "rule split_species:\n",
      "    input:\n",
      "        expand('summary/{species}/{sample}_barcodes.csv', sample=samples.index, species=config['META']['species']),\n",
      "        expand('plots/{sample}_species_plot_genes.pdf', sample=samples.index),\n",
      "        expand('plots/{sample}_species_plot_transcripts.pdf', sample=samples.index),\n",
      "        expand('data/{species}/{sample}_unfiltered.bam', sample=samples.index, species=config['META']['species'])\n",
      "\n",
      "\n",
      "rule extract_species:\n",
      "    input:\n",
      "        expand('summary/{species}/{sample}_umi_expression_matrix.txt', sample=samples.index, species=config['META']['species']),\n",
      "        expand('summary/{species}/{sample}_counts_expression_matrix.txt', sample=samples.index, species=config['META']['species']),\n",
      "        expand('logs/{species}/{sample}_umi_per_gene.tsv', sample=samples.index, species=config['META']['species']),\n",
      "        expand('summary/Experiment_{species}_counts_expression_matrix.tsv', species=config['META']['species']),\n",
      "        expand('summary/Experiment_{species}_umi_expression_matrix.tsv', species=config['META']['species']),\n",
      "        expand('plots/{species}/{sample}_rna_metrics.pdf', sample=samples.index, species=config['META']['species'])\n",
      "        \n",
      "\n",
      "\n",
      "include: \"rules/generate_meta.smk\"\n",
      "include: \"rules/fastqc.smk\"\n",
      "include: \"rules/filter.smk\"\n",
      "include: \"rules/map.smk\"\n",
      "include: \"rules/extract_expression_single.smk\"\n",
      "include: \"rules/split_species.smk\"\n",
      "include: \"rules/extract_expression_species.smk\"(env-py3) "
     ]
    },
    {
     "ename": "",
     "evalue": "1",
     "output_type": "error",
     "traceback": []
    }
   ],
   "source": [
    "cat /data/clintko/Drop-seq_tools-1.13/dropSeqPipe/Snakefile"
   ]
  }
 ],
 "metadata": {
  "kernelspec": {
   "display_name": "Bash",
   "language": "bash",
   "name": "bash"
  },
  "language_info": {
   "codemirror_mode": "shell",
   "file_extension": ".sh",
   "mimetype": "text/x-sh",
   "name": "bash"
  }
 },
 "nbformat": 4,
 "nbformat_minor": 2
}
