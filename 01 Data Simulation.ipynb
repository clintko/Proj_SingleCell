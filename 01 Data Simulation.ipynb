{
 "cells": [
  {
   "cell_type": "markdown",
   "metadata": {},
   "source": [
    "# Description"
   ]
  },
  {
   "cell_type": "code",
   "execution_count": 62,
   "metadata": {},
   "outputs": [],
   "source": [
    "# tools\n",
    "import numpy as np\n",
    "import numpy.random as rand\n",
    "\n",
    "# plotting\n",
    "import matplotlib.pyplot as plt\n",
    "import seaborn as sns"
   ]
  },
  {
   "cell_type": "code",
   "execution_count": 32,
   "metadata": {},
   "outputs": [],
   "source": [
    "# number of groups\n",
    "num_groups = 2 \n",
    "\n",
    "# number of samples for each group (dim = m)\n",
    "num_samples_tot = 100\n",
    "num_samples = np.r_[70, 30]\n",
    "\n",
    "# number of cells for each sample\n",
    "num_cells_tot = 1000\n",
    "\n",
    "# number of cell types for each sample\n",
    "# for example: T cell and Bnum_samples_tot cell\n",
    "num_celltypes = 2\n",
    "\n",
    "# proportion of cell types (dim = k) \n",
    "# each vector sum to one\n",
    "pi_1 = [0.9, 0.1]\n",
    "pi_2 = [0.1, 0.9]\n",
    "pi = np.stack([pi_1, pi_2])\n",
    "\n",
    "# number of genes / markers / features (dim = p)\n",
    "# for example: CD3, CD8, IL-1-R\n",
    "num_features = 3 \n",
    "\n",
    "# mean value for gene expression measured by an experiment\n",
    "mu_11 = np.r_[ 0,  0,  0] # first  cell type of group 1\n",
    "mu_12 = np.r_[10, 10, 10] # second cell type of group 1\n",
    "mu_21 = np.r_[ 0,  0,  0] # first  cell type of group 2\n",
    "mu_22 = np.r_[10, 10, 10] # second cell type of group 2\n",
    "mu = np.stack((mu_11, mu_12, mu_21, mu_22), axis = 0)\n",
    "mu = np.expand_dims(mu, axis = 0)\n",
    "mu = mu.reshape(num_groups, num_celltypes, num_features)\n",
    "\n",
    "# var-cov of mu (mean value of gene expression) \n",
    "# --- covariance of sample mean (statistics)\n",
    "sig2_mu_11 = np.eye(num_features)\n",
    "sig2_mu_12 = np.eye(num_features)\n",
    "sig2_mu_21 = np.eye(num_features)\n",
    "sig2_mu_22 = np.eye(num_features)\n",
    "sig2_mu = np.stack((sig2_mu_11, sig2_mu_12, sig2_mu_21, sig2_mu_22), axis = 0)\n",
    "sig2_mu = np.expand_dims(sig2_mu, axis = 0)\n",
    "sig2_mu = np.expand_dims(sig2_mu, axis = 0)\n",
    "sig2_mu = sig2_mu.reshape(num_groups, num_celltypes, num_features, num_features)\n",
    "\n",
    "# var-cov of sample (gene expression) \n",
    "# --- covariance of sample value (random variables)\n",
    "sig2_11 = np.eye(num_features)\n",
    "sig2_12 = np.eye(num_features)\n",
    "sig2_21 = np.eye(num_features)\n",
    "sig2_22 = np.eye(num_features)\n",
    "sig2 = np.stack((sig2_11, sig2_12, sig2_21, sig2_22), axis = 0)\n",
    "sig2 = np.expand_dims(sig2, axis = 0)\n",
    "sig2 = np.expand_dims(sig2, axis = 0)\n",
    "sig2 = sig2.reshape(num_groups, num_celltypes, num_features, num_features)"
   ]
  },
  {
   "cell_type": "code",
   "execution_count": 35,
   "metadata": {},
   "outputs": [
    {
     "name": "stdout",
     "output_type": "stream",
     "text": [
      "# of groups:                     2\n",
      "# of samples in total:           100\n",
      "# of samples for each group:     [70 30]\n",
      "# of cells for each sample:      1000\n",
      "# of cell types for each sample: 2\n",
      "# of genes / markers / features: 3\n",
      "===========\n",
      "Proportion of cell types in different group\n",
      "(num_groups, num_celltypes)\n",
      "[[0.9 0.1]\n",
      " [0.1 0.9]]\n",
      "===========\n",
      "mean values of the gene expression for each cell types in each groups\n",
      "(num_groups, num_celltypes, num_features)\n",
      "[[[ 0  0  0]\n",
      "  [10 10 10]]\n",
      "\n",
      " [[ 0  0  0]\n",
      "  [10 10 10]]]\n",
      "===========\n",
      "var-cov of mu (mean value of gene expression)\n",
      "(num_groups, num_celltypes, num_features, num_features)\n",
      "[[[[1. 0. 0.]\n",
      "   [0. 1. 0.]\n",
      "   [0. 0. 1.]]\n",
      "\n",
      "  [[1. 0. 0.]\n",
      "   [0. 1. 0.]\n",
      "   [0. 0. 1.]]]\n",
      "\n",
      "\n",
      " [[[1. 0. 0.]\n",
      "   [0. 1. 0.]\n",
      "   [0. 0. 1.]]\n",
      "\n",
      "  [[1. 0. 0.]\n",
      "   [0. 1. 0.]\n",
      "   [0. 0. 1.]]]]\n",
      "===========\n",
      "var-cov of sample (gene expression)\n",
      "(num_groups, num_celltypes, num_features, num_features)\n",
      "[[[[1. 0. 0.]\n",
      "   [0. 1. 0.]\n",
      "   [0. 0. 1.]]\n",
      "\n",
      "  [[1. 0. 0.]\n",
      "   [0. 1. 0.]\n",
      "   [0. 0. 1.]]]\n",
      "\n",
      "\n",
      " [[[1. 0. 0.]\n",
      "   [0. 1. 0.]\n",
      "   [0. 0. 1.]]\n",
      "\n",
      "  [[1. 0. 0.]\n",
      "   [0. 1. 0.]\n",
      "   [0. 0. 1.]]]]\n"
     ]
    }
   ],
   "source": [
    "# num_groups, num_samples, num_cells, num_celltypes, num_genes / features\n",
    "print(\"# of groups:                    \", num_groups)\n",
    "print(\"# of samples in total:          \", num_samples_tot)\n",
    "print(\"# of samples for each group:    \", num_samples)\n",
    "print(\"# of cells for each sample:     \", num_cells_tot)\n",
    "print(\"# of cell types for each sample:\", num_celltypes)\n",
    "print(\"# of genes / markers / features:\", num_features)\n",
    "\n",
    "# pi[group_i]\n",
    "print(\"===========\")\n",
    "print(\"Proportion of cell types in different group\")\n",
    "print(\"(num_groups, num_celltypes)\")\n",
    "print(pi)\n",
    "\n",
    "# mu[group_i][celltype_j]\n",
    "print(\"===========\")\n",
    "print(\"mean values of the gene expression for each cell types in each groups\")\n",
    "print(\"(num_groups, num_celltypes, num_features)\")\n",
    "print(mu)\n",
    "\n",
    "# sig2_mu[group_i][celltype_j]\n",
    "print(\"===========\")\n",
    "print(\"var-cov of mu (mean value of gene expression)\")\n",
    "print(\"(num_groups, num_celltypes, num_features, num_features)\")\n",
    "print(sig2_mu)\n",
    "\n",
    "# sig2[group_i][celltype_j]\n",
    "print(\"===========\")\n",
    "print(\"Var-Cov matrix of features / gene expression\")\n",
    "print(\"(num_groups, num_celltypes, num_features, num_features)\")\n",
    "print(sig2)"
   ]
  },
  {
   "cell_type": "markdown",
   "metadata": {},
   "source": [
    "# Label the samples in each group"
   ]
  },
  {
   "cell_type": "code",
   "execution_count": 36,
   "metadata": {},
   "outputs": [
    {
     "name": "stdout",
     "output_type": "stream",
     "text": [
      "Group Labels\n",
      "[0, 0, 0, 0, 0, 0, 0, 0, 0, 0, 0, 0, 0, 0, 0, 0, 0, 0, 0, 0, 0, 0, 0, 0, 0, 0, 0, 0, 0, 0, 0, 0, 0, 0, 0, 0, 0, 0, 0, 0, 0, 0, 0, 0, 0, 0, 0, 0, 0, 0, 0, 0, 0, 0, 0, 0, 0, 0, 0, 0, 0, 0, 0, 0, 0, 0, 0, 0, 0, 0, 1, 1, 1, 1, 1, 1, 1, 1, 1, 1, 1, 1, 1, 1, 1, 1, 1, 1, 1, 1, 1, 1, 1, 1, 1, 1, 1, 1, 1, 1]\n",
      "Check Length\n",
      "True\n"
     ]
    }
   ],
   "source": [
    "# initialization\n",
    "label_groups = []\n",
    "\n",
    "# Create labels of each sample\n",
    "for idx in range(num_groups):\n",
    "    label_groups += [idx] * num_samples[idx]\n",
    "\n",
    "print(\"Group Labels\")\n",
    "print(label_groups)\n",
    "print(\"Check Length\")\n",
    "print(len(label_groups) == num_samples_tot)"
   ]
  },
  {
   "cell_type": "markdown",
   "metadata": {},
   "source": [
    "# create number of each cell types based on  πiπi  for each sample in each group"
   ]
  },
  {
   "cell_type": "code",
   "execution_count": 37,
   "metadata": {},
   "outputs": [
    {
     "name": "stdout",
     "output_type": "stream",
     "text": [
      "[[902  98]\n",
      " [911  89]\n",
      " [888 112]\n",
      " [912  88]\n",
      " [889 111]\n",
      " [899 101]\n",
      " [894 106]\n",
      " [908  92]\n",
      " [916  84]\n",
      " [891 109]\n",
      " [915  85]\n",
      " [892 108]\n",
      " [904  96]\n",
      " [911  89]\n",
      " [915  85]\n",
      " [905  95]\n",
      " [911  89]\n",
      " [906  94]\n",
      " [902  98]\n",
      " [896 104]\n",
      " [875 125]\n",
      " [894 106]\n",
      " [905  95]\n",
      " [896 104]\n",
      " [902  98]\n",
      " [878 122]\n",
      " [898 102]\n",
      " [898 102]\n",
      " [898 102]\n",
      " [895 105]\n",
      " [918  82]\n",
      " [883 117]\n",
      " [891 109]\n",
      " [894 106]\n",
      " [890 110]\n",
      " [890 110]\n",
      " [901  99]\n",
      " [888 112]\n",
      " [893 107]\n",
      " [908  92]\n",
      " [891 109]\n",
      " [897 103]\n",
      " [893 107]\n",
      " [899 101]\n",
      " [908  92]\n",
      " [886 114]\n",
      " [906  94]\n",
      " [909  91]\n",
      " [908  92]\n",
      " [906  94]\n",
      " [912  88]\n",
      " [889 111]\n",
      " [902  98]\n",
      " [898 102]\n",
      " [905  95]\n",
      " [920  80]\n",
      " [896 104]\n",
      " [884 116]\n",
      " [901  99]\n",
      " [873 127]\n",
      " [888 112]\n",
      " [902  98]\n",
      " [902  98]\n",
      " [891 109]\n",
      " [897 103]\n",
      " [911  89]\n",
      " [895 105]\n",
      " [905  95]\n",
      " [899 101]\n",
      " [901  99]\n",
      " [ 97 903]\n",
      " [ 81 919]\n",
      " [100 900]\n",
      " [ 94 906]\n",
      " [121 879]\n",
      " [ 94 906]\n",
      " [ 98 902]\n",
      " [111 889]\n",
      " [117 883]\n",
      " [106 894]\n",
      " [ 93 907]\n",
      " [103 897]\n",
      " [ 91 909]\n",
      " [112 888]\n",
      " [106 894]\n",
      " [ 98 902]\n",
      " [101 899]\n",
      " [ 84 916]\n",
      " [ 99 901]\n",
      " [ 90 910]\n",
      " [102 898]\n",
      " [ 92 908]\n",
      " [100 900]\n",
      " [106 894]\n",
      " [105 895]\n",
      " [ 92 908]\n",
      " [ 91 909]\n",
      " [ 73 927]\n",
      " [101 899]\n",
      " [104 896]]\n"
     ]
    }
   ],
   "source": [
    "num_cells = np.vstack([\n",
    "    rand.multinomial(\n",
    "        num_cells_tot, \n",
    "        pvals = pi[idx], \n",
    "        size = num_samples[idx]) \n",
    "    for idx in range(num_groups)\n",
    "])\n",
    "\n",
    "print(num_cells)"
   ]
  },
  {
   "cell_type": "markdown",
   "metadata": {},
   "source": [
    "# create mean value of gene expression for each cell type in each sample"
   ]
  },
  {
   "cell_type": "code",
   "execution_count": 52,
   "metadata": {},
   "outputs": [
    {
     "name": "stdout",
     "output_type": "stream",
     "text": [
      "4\n",
      "(70, 3)\n",
      "(70, 3)\n",
      "==========\n",
      "(100, 2, 3)\n"
     ]
    }
   ],
   "source": [
    "# Generate mean values of gene expression for each sample\n",
    "# from mulitvariate normal\n",
    "tmp = [\n",
    "    rand.multivariate_normal(\n",
    "        mu[idx_group][idx_celltype], \n",
    "        sig2_mu[idx_group][idx_celltype], \n",
    "        num_samples[idx_group])         \n",
    "    for idx_group in range(num_groups) \n",
    "    for idx_celltype in range(num_celltypes)]\n",
    "\n",
    "print(len(tmp))\n",
    "print(tmp[0].shape)\n",
    "print(tmp[1].shape)\n",
    "\n",
    "\n",
    "# arranage the dimension to (num_groups, num_celltypes, num_features)\n",
    "tmp = np.array(tmp)\n",
    "tmp = np.expand_dims(tmp, axis = 0)\n",
    "tmp = tmp.reshape(num_groups, num_celltypes)\n",
    "tmp = [np.stack(tmp[idx_group], axis = 2) for idx_group in range(num_groups)]\n",
    "tmp = [np.swapaxes(tmp[idx_group], 1, 2)  for idx_group in range(num_groups)]\n",
    "tmp = np.array(tmp)\n",
    "tmp = np.vstack(tmp)\n",
    "\n",
    "print(\"==========\")\n",
    "print(tmp.shape)\n",
    "\n",
    "# assign the result\n",
    "mean_features = tmp"
   ]
  },
  {
   "cell_type": "code",
   "execution_count": 54,
   "metadata": {},
   "outputs": [
    {
     "name": "stdout",
     "output_type": "stream",
     "text": [
      "[[[ 1.56067933  0.08055152 -0.74937992]\n",
      "  [10.050592    9.74442801 10.37487618]]\n",
      "\n",
      " [[-0.55952154  0.6571186  -0.68219614]\n",
      "  [10.29785192  9.9049643  10.00998144]]\n",
      "\n",
      " [[-0.08546678  1.13448769  1.19964293]\n",
      "  [ 9.73825726 11.55055395  9.23427608]]\n",
      "\n",
      " [[-0.74617779 -0.17447385 -1.67190462]\n",
      "  [11.81500758 10.32167648  8.71399946]]\n",
      "\n",
      " [[ 0.05880802  2.14552491  0.89832189]\n",
      "  [10.25763579 10.61482682 10.34237327]]\n",
      "\n",
      " [[ 0.2126913   2.19896086 -0.61998945]\n",
      "  [ 9.37484675 10.90032439  9.88856397]]]\n"
     ]
    }
   ],
   "source": [
    "print(mean_features[:6])"
   ]
  },
  {
   "cell_type": "markdown",
   "metadata": {},
   "source": [
    "# create data for each sample"
   ]
  },
  {
   "cell_type": "code",
   "execution_count": 59,
   "metadata": {},
   "outputs": [
    {
     "name": "stdout",
     "output_type": "stream",
     "text": [
      "(100, 1000, 3)\n"
     ]
    }
   ],
   "source": [
    "# initialize a container for all samples\n",
    "samples = list()\n",
    "\n",
    "# append array in loop\n",
    "# note: http://akuederle.com/create-numpy-array-with-for-loop\n",
    "for idx_sample in range(num_cells.shape[0]): # each sample can be viewed as a fcs file\n",
    "    a_sample = np.empty((0, 3))\n",
    "    idx_group = label_groups[idx_sample]\n",
    "    \n",
    "    for idx_celltype in range(num_cells.shape[1]): # each sample contains different cell types\n",
    "        \n",
    "        a_celltype = rand.multivariate_normal(\n",
    "            mean_features[idx_sample][idx_celltype], # mean\n",
    "            sig2[idx_group][idx_celltype],           # var-cov\n",
    "            num_cells[idx_sample][idx_celltype])     # size\n",
    "        \n",
    "        a_sample = np.r_[a_sample, a_celltype]\n",
    "        \n",
    "    samples.append(a_sample)\n",
    "\n",
    "# convert output in an array\n",
    "samples = np.array(samples)\n",
    "\n",
    "# Check dimension (num_samples_tot, num_cells_tot, num_features)\n",
    "print(samples.shape) "
   ]
  },
  {
   "cell_type": "markdown",
   "metadata": {},
   "source": [
    "# Plot the data"
   ]
  },
  {
   "cell_type": "code",
   "execution_count": 63,
   "metadata": {},
   "outputs": [
    {
     "data": {
      "image/png": "[encoded data removed]",
      "text/plain": [
       "<matplotlib.figure.Figure at 0x7f316a64e978>"
      ]
     },
     "metadata": {},
     "output_type": "display_data"
    }
   ],
   "source": [
    "fig, axes = plt.subplots(2, 2, figsize=(7,7))\n",
    "for idx_data, ax in zip([0, -31, -30, -1], axes.ravel()):\n",
    "    data = samples[idx_data]\n",
    "    ax.scatter(data[:, 0], data[:, 1], s=10, alpha=1)\n",
    "    ax.title.set_text(str(num_cells[idx_data]))\n",
    "plt.show()"
   ]
  },
  {
   "cell_type": "code",
   "execution_count": 64,
   "metadata": {},
   "outputs": [],
   "source": [
    "# output the value\n",
    "#file_Name = \"data_simulation\"\n",
    "\n",
    "# open the file for writing\n",
    "#fileObject = open(file_Name, 'wb') \n",
    "\n",
    "# write data to the file\n",
    "#pickle.dump(samples, fileObject)   \n",
    "\n",
    "# here we close the fileObject\n",
    "#fileObject.close()"
   ]
  },
  {
   "cell_type": "code",
   "execution_count": null,
   "metadata": {},
   "outputs": [],
   "source": []
  },
  {
   "cell_type": "code",
   "execution_count": null,
   "metadata": {},
   "outputs": [],
   "source": []
  }
 ],
 "metadata": {
  "kernelspec": {
   "display_name": "Python 3",
   "language": "python",
   "name": "python3"
  },
  "language_info": {
   "codemirror_mode": {
    "name": "ipython",
    "version": 3
   },
   "file_extension": ".py",
   "mimetype": "text/x-python",
   "name": "python",
   "nbconvert_exporter": "python",
   "pygments_lexer": "ipython3",
   "version": "3.6.3"
  }
 },
 "nbformat": 4,
 "nbformat_minor": 2
}
