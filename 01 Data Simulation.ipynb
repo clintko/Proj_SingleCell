{
 "cells": [
  {
   "cell_type": "code",
   "execution_count": 1,
   "metadata": {},
   "outputs": [],
   "source": [
    "# tools\n",
    "import numpy as np\n",
    "import numpy.random as rand\n",
    "import scipy as sp\n",
    "from sklearn.datasets.samples_generator import make_blobs\n",
    "\n",
    "# plotting\n",
    "import matplotlib.pyplot as plt\n",
    "import seaborn as sns"
   ]
  },
  {
   "cell_type": "markdown",
   "metadata": {},
   "source": [
    "# Set up Parameters"
   ]
  },
  {
   "cell_type": "code",
   "execution_count": 2,
   "metadata": {},
   "outputs": [],
   "source": [
    "# number of groups\n",
    "m = 2\n",
    "\n",
    "# number of samples for each group (dim = m)\n",
    "num_samples_tot = 100\n",
    "num_samples = np.r_[70, 30]\n",
    "\n",
    "# number of cells for each sample\n",
    "n = 1000\n",
    "\n",
    "# number of cell types for each sample\n",
    "# for example: T cell and Bnum_samples_tot cell\n",
    "k = 2\n",
    "\n",
    "# proportion of cell types (dim = k) \n",
    "# each vector sum to one\n",
    "pi_1 = [0.9, 0.1]\n",
    "pi_2 = [0.1, 0.9]\n",
    "pi = np.stack([pi_1, pi_2])\n",
    "\n",
    "# number of genes / markers / features (dim = p)\n",
    "# for example: CD3, CD8, IL-1-R\n",
    "p = 3 \n",
    "\n",
    "# mean value for gene expression measured by an experiment\n",
    "mu_11 = np.r_[ 0,  0,  0] # first  cell type of group 1\n",
    "mu_12 = np.r_[10, 10, 10] # second cell type of group 1\n",
    "mu_21 = np.r_[ 0,  0,  0] # first  cell type of group 2\n",
    "mu_22 = np.r_[10, 10, 10] # second cell type of group 2\n",
    "mu = np.stack((mu_11, mu_12, mu_21, mu_22), axis = 0)\n",
    "mu = np.expand_dims(mu, axis = 0)\n",
    "mu = mu.reshape(m, k, p)\n",
    "\n",
    "# var-cov of mu (mean value of gene expression) \n",
    "# --- covariance of sample mean (statistics)\n",
    "sig2_mu_11 = np.eye(p)\n",
    "sig2_mu_12 = np.eye(p)\n",
    "sig2_mu_21 = np.eye(p)\n",
    "sig2_mu_22 = np.eye(p)\n",
    "sig2_mu = np.stack((sig2_mu_11, sig2_mu_12, sig2_mu_21, sig2_mu_22), axis = 0)\n",
    "sig2_mu = np.expand_dims(sig2_mu, axis = 0)\n",
    "sig2_mu = np.expand_dims(sig2_mu, axis = 0)\n",
    "sig2_mu = sig2_mu.reshape(m, k, p, p)\n",
    "\n",
    "# var-cov of sample (gene expression) \n",
    "# --- covariance of sample value (random variables)\n",
    "sig2_11 = np.eye(p)\n",
    "sig2_12 = np.eye(p)\n",
    "sig2_21 = np.eye(p)\n",
    "sig2_22 = np.eye(p)\n",
    "sig2 = np.stack((sig2_11, sig2_12, sig2_21, sig2_22), axis = 0)\n",
    "sig2 = np.expand_dims(sig2, axis = 0)\n",
    "sig2 = np.expand_dims(sig2, axis = 0)\n",
    "sig2 = sig2.reshape(m, k, p, p)"
   ]
  },
  {
   "cell_type": "code",
   "execution_count": 3,
   "metadata": {},
   "outputs": [
    {
     "data": {
      "text/plain": [
       "array([[0.9, 0.1],\n",
       "       [0.1, 0.9]])"
      ]
     },
     "execution_count": 3,
     "metadata": {},
     "output_type": "execute_result"
    }
   ],
   "source": [
    "pi"
   ]
  },
  {
   "cell_type": "code",
   "execution_count": 4,
   "metadata": {},
   "outputs": [
    {
     "data": {
      "text/plain": [
       "array([[[ 0,  0,  0],\n",
       "        [10, 10, 10]],\n",
       "\n",
       "       [[ 0,  0,  0],\n",
       "        [10, 10, 10]]])"
      ]
     },
     "execution_count": 4,
     "metadata": {},
     "output_type": "execute_result"
    }
   ],
   "source": [
    "# mu[group_i][celltype_j]\n",
    "mu"
   ]
  },
  {
   "cell_type": "code",
   "execution_count": 5,
   "metadata": {},
   "outputs": [
    {
     "data": {
      "text/plain": [
       "array([[[[1., 0., 0.],\n",
       "         [0., 1., 0.],\n",
       "         [0., 0., 1.]],\n",
       "\n",
       "        [[1., 0., 0.],\n",
       "         [0., 1., 0.],\n",
       "         [0., 0., 1.]]],\n",
       "\n",
       "\n",
       "       [[[1., 0., 0.],\n",
       "         [0., 1., 0.],\n",
       "         [0., 0., 1.]],\n",
       "\n",
       "        [[1., 0., 0.],\n",
       "         [0., 1., 0.],\n",
       "         [0., 0., 1.]]]])"
      ]
     },
     "execution_count": 5,
     "metadata": {},
     "output_type": "execute_result"
    }
   ],
   "source": [
    "# sig2_mu[group_i][celltype_j]\n",
    "sig2_mu"
   ]
  },
  {
   "cell_type": "code",
   "execution_count": 6,
   "metadata": {},
   "outputs": [
    {
     "data": {
      "text/plain": [
       "array([[[[1., 0., 0.],\n",
       "         [0., 1., 0.],\n",
       "         [0., 0., 1.]],\n",
       "\n",
       "        [[1., 0., 0.],\n",
       "         [0., 1., 0.],\n",
       "         [0., 0., 1.]]],\n",
       "\n",
       "\n",
       "       [[[1., 0., 0.],\n",
       "         [0., 1., 0.],\n",
       "         [0., 0., 1.]],\n",
       "\n",
       "        [[1., 0., 0.],\n",
       "         [0., 1., 0.],\n",
       "         [0., 0., 1.]]]])"
      ]
     },
     "execution_count": 6,
     "metadata": {},
     "output_type": "execute_result"
    }
   ],
   "source": [
    "# sig2[group_i][celltype_j]\n",
    "sig2"
   ]
  },
  {
   "cell_type": "markdown",
   "metadata": {},
   "source": [
    "# create number of each cell types based on $\\pi_i$ for each sample in each group"
   ]
  },
  {
   "cell_type": "code",
   "execution_count": 7,
   "metadata": {},
   "outputs": [
    {
     "name": "stdout",
     "output_type": "stream",
     "text": [
      " 0 [903  97]\n",
      " 1 [902  98]\n",
      " 2 [907  93]\n",
      " 3 [906  94]\n",
      " 4 [915  85]\n",
      " 5 [920  80]\n",
      " 6 [909  91]\n",
      " 7 [893 107]\n",
      " 8 [895 105]\n",
      " 9 [892 108]\n",
      "10 [887 113]\n",
      "11 [900 100]\n",
      "12 [896 104]\n",
      "13 [891 109]\n",
      "14 [890 110]\n",
      "15 [899 101]\n",
      "16 [898 102]\n",
      "17 [890 110]\n",
      "18 [907  93]\n",
      "19 [903  97]\n",
      "20 [907  93]\n",
      "21 [896 104]\n",
      "22 [896 104]\n",
      "23 [898 102]\n",
      "24 [893 107]\n",
      "25 [899 101]\n",
      "26 [895 105]\n",
      "27 [897 103]\n",
      "28 [902  98]\n",
      "29 [888 112]\n",
      "30 [905  95]\n",
      "31 [912  88]\n",
      "32 [899 101]\n",
      "33 [897 103]\n",
      "34 [898 102]\n",
      "35 [909  91]\n",
      "36 [912  88]\n",
      "37 [897 103]\n",
      "38 [899 101]\n",
      "39 [912  88]\n",
      "40 [902  98]\n",
      "41 [900 100]\n",
      "42 [885 115]\n",
      "43 [888 112]\n",
      "44 [906  94]\n",
      "45 [895 105]\n",
      "46 [894 106]\n",
      "47 [908  92]\n",
      "48 [907  93]\n",
      "49 [880 120]\n",
      "50 [888 112]\n",
      "51 [891 109]\n",
      "52 [897 103]\n",
      "53 [891 109]\n",
      "54 [895 105]\n",
      "55 [911  89]\n",
      "56 [905  95]\n",
      "57 [903  97]\n",
      "58 [906  94]\n",
      "59 [909  91]\n",
      "60 [907  93]\n",
      "61 [877 123]\n",
      "62 [905  95]\n",
      "63 [904  96]\n",
      "64 [903  97]\n",
      "65 [896 104]\n",
      "66 [904  96]\n",
      "67 [896 104]\n",
      "68 [895 105]\n",
      "69 [896 104]\n",
      "----------\n",
      "70 [109 891]\n",
      "71 [ 88 912]\n",
      "72 [ 70 930]\n",
      "73 [108 892]\n",
      "74 [102 898]\n",
      "75 [101 899]\n",
      "76 [ 97 903]\n",
      "77 [102 898]\n",
      "78 [ 97 903]\n",
      "79 [119 881]\n",
      "80 [111 889]\n",
      "81 [105 895]\n",
      "82 [133 867]\n",
      "83 [101 899]\n",
      "84 [107 893]\n",
      "85 [ 99 901]\n",
      "86 [ 97 903]\n",
      "87 [112 888]\n",
      "88 [ 92 908]\n",
      "89 [101 899]\n",
      "90 [ 90 910]\n",
      "91 [105 895]\n",
      "92 [108 892]\n",
      "93 [ 96 904]\n",
      "94 [ 83 917]\n",
      "95 [ 87 913]\n",
      "96 [113 887]\n",
      "97 [105 895]\n",
      "98 [114 886]\n",
      "99 [ 95 905]\n"
     ]
    }
   ],
   "source": [
    "num_cells = np.vstack([rand.multinomial(n, pvals = pi[idx], size = num_samples[idx]) for idx in range(m)])\n",
    "for idx in range(num_cells.shape[0]):\n",
    "    if(idx == num_samples[0]):\n",
    "        print(\"----------\")\n",
    "    print(\"%2d\" % idx, num_cells[idx])\n",
    "    "
   ]
  },
  {
   "cell_type": "markdown",
   "metadata": {},
   "source": [
    "# create mean value of gene expression for each cell type in each sample"
   ]
  },
  {
   "cell_type": "code",
   "execution_count": 8,
   "metadata": {},
   "outputs": [
    {
     "name": "stdout",
     "output_type": "stream",
     "text": [
      "[0 0 0]\n",
      "-------\n",
      "[[1. 0. 0.]\n",
      " [0. 1. 0.]\n",
      " [0. 0. 1.]]\n"
     ]
    }
   ],
   "source": [
    "# ex: the mean values of gene expression for first cell type in first group of sample\n",
    "print(mu[0][0])\n",
    "print(\"-------\")\n",
    "# ex: sig2_mu -> the variance covariance matrix of sample mean\n",
    "print(sig2_mu[0][0])"
   ]
  },
  {
   "cell_type": "code",
   "execution_count": 9,
   "metadata": {},
   "outputs": [
    {
     "data": {
      "text/plain": [
       "(2, 2)"
      ]
     },
     "execution_count": 9,
     "metadata": {},
     "output_type": "execute_result"
    }
   ],
   "source": [
    "mean_val = [\n",
    "    rand.multivariate_normal(\n",
    "        mu[idx_group][idx_celltype], \n",
    "        sig2_mu[idx_group][idx_celltype], \n",
    "        num_samples[idx_group])         \n",
    "    for idx_group in range(m) \n",
    "    for idx_celltype in range(k)]\n",
    "\n",
    "mean_val = np.array(mean_val)\n",
    "mean_val = np.expand_dims(mean_val, axis = 0)\n",
    "mean_val = mean_val.reshape(m, k)\n",
    "mean_val.shape"
   ]
  },
  {
   "cell_type": "code",
   "execution_count": 10,
   "metadata": {},
   "outputs": [
    {
     "name": "stdout",
     "output_type": "stream",
     "text": [
      "[0 0 0]\n",
      "(70, 3)\n",
      "[[-1.09833804  1.94710322  0.05721732]\n",
      " [-0.01865685  0.19714297  0.37515936]\n",
      " [ 0.35438894 -1.12424442 -0.62685562]\n",
      " [ 0.01689629 -0.23172743 -0.41636791]\n",
      " [-0.39075058 -1.09913898  0.59489729]\n",
      " [ 0.19839033  1.26885362  1.82386291]]\n"
     ]
    }
   ],
   "source": [
    "# first cell type in group 1\n",
    "print(mu[0][0])\n",
    "print(mean_val[0][0].shape)\n",
    "print(mean_val[0][0][0:6])"
   ]
  },
  {
   "cell_type": "code",
   "execution_count": 11,
   "metadata": {},
   "outputs": [
    {
     "name": "stdout",
     "output_type": "stream",
     "text": [
      "[10 10 10]\n",
      "(70, 3)\n",
      "[[ 9.0981175   9.25051281 10.36495964]\n",
      " [ 9.80007287  8.03593129 10.69973518]\n",
      " [ 9.67085983  9.39057024  9.94627038]\n",
      " [ 9.67566039  8.73426567 11.08339598]\n",
      " [11.45673606  8.80682176  8.99892923]\n",
      " [10.63252414 10.25012213 10.89302304]]\n"
     ]
    }
   ],
   "source": [
    "# second cell type in group 1\n",
    "print(mu[0][1])\n",
    "print(mean_val[0][1].shape)\n",
    "print(mean_val[0][1][0:6])"
   ]
  },
  {
   "cell_type": "markdown",
   "metadata": {},
   "source": [
    "convert the shape of the mean values"
   ]
  },
  {
   "cell_type": "code",
   "execution_count": 12,
   "metadata": {},
   "outputs": [],
   "source": [
    "tmp = mean_val\n",
    "tmp = [np.stack(tmp[idx_group], axis = 2) for idx_group in range(m)]\n",
    "tmp = [np.swapaxes(tmp[idx_group], 1, 2) for idx_group in range(m)]\n",
    "#tmp = [tmp[idx_group].reshape(-1, k, p) for idx_group in range(m)] this does not work properly\n",
    "#https://stackoverflow.com/questions/42312670/how-does-numpy-swapaxes-work\n",
    "\n",
    "tmp = np.array(tmp)\n",
    "mean_val2 = np.vstack(tmp)"
   ]
  },
  {
   "cell_type": "code",
   "execution_count": 13,
   "metadata": {},
   "outputs": [
    {
     "name": "stdout",
     "output_type": "stream",
     "text": [
      "Group 01\n",
      "(70, 2, 3)\n",
      "[[-1.09833804  1.94710322  0.05721732]\n",
      " [ 9.0981175   9.25051281 10.36495964]]\n",
      "------------\n",
      "Group 02\n",
      "(30, 2, 3)\n",
      "[[-1.16389349 -0.62554539 -1.15994256]\n",
      " [ 9.37654891 11.04755951 10.1420391 ]]\n",
      "------------\n",
      "Combine -> array[idx_group][idx_celltype][idx_gene]\n",
      "(100, 2, 3)\n",
      "[[-1.09833804  1.94710322  0.05721732]\n",
      " [ 9.0981175   9.25051281 10.36495964]]\n"
     ]
    }
   ],
   "source": [
    "print(\"Group 01\")\n",
    "print(tmp[0].shape)\n",
    "print(tmp[0][0])\n",
    "print(\"------------\")\n",
    "print(\"Group 02\")\n",
    "print(tmp[1].shape)\n",
    "print(tmp[1][0])\n",
    "print(\"------------\")\n",
    "print(\"Combine -> array[idx_group][idx_celltype][idx_gene]\")\n",
    "print(mean_val2.shape)\n",
    "print(mean_val2[0])"
   ]
  },
  {
   "cell_type": "markdown",
   "metadata": {},
   "source": [
    "# create data for each sample"
   ]
  },
  {
   "cell_type": "markdown",
   "metadata": {},
   "source": [
    "what are the inputs? -> mean_val2, sig2, num_cells"
   ]
  },
  {
   "cell_type": "code",
   "execution_count": 14,
   "metadata": {},
   "outputs": [
    {
     "data": {
      "text/plain": [
       "array([[-1.09833804,  1.94710322,  0.05721732],\n",
       "       [ 9.0981175 ,  9.25051281, 10.36495964]])"
      ]
     },
     "execution_count": 14,
     "metadata": {},
     "output_type": "execute_result"
    }
   ],
   "source": [
    "# mean_val2[idx_sample][idx_celltype]\n",
    "mean_val2[0]"
   ]
  },
  {
   "cell_type": "code",
   "execution_count": 15,
   "metadata": {},
   "outputs": [
    {
     "name": "stdout",
     "output_type": "stream",
     "text": [
      "(100, 2)\n",
      "1000\n",
      "[903  97]\n"
     ]
    }
   ],
   "source": [
    "# Recall that:\n",
    "#     num_cells store the proportion values of each cell type\n",
    "#     num_cells is generated from the latent variable pi\n",
    "#     the dimension of num_cells = (num_samples_tot, k = number of celltypes)\n",
    "#     sum of each row = n = number of cels\n",
    "print(num_cells.shape)\n",
    "print(n)\n",
    "print(num_cells[0])"
   ]
  },
  {
   "cell_type": "code",
   "execution_count": 16,
   "metadata": {},
   "outputs": [
    {
     "name": "stdout",
     "output_type": "stream",
     "text": [
      "(2, 2, 3, 3)\n"
     ]
    }
   ],
   "source": [
    "# Recall\n",
    "#     sig2 is the sample covariance\n",
    "#     sig2[idx_group][idx_celltype][p][p]\n",
    "print(sig2.shape)"
   ]
  },
  {
   "cell_type": "markdown",
   "metadata": {},
   "source": [
    "it turns out that the n_samples of make_blobs cannot be given as a vector"
   ]
  },
  {
   "cell_type": "markdown",
   "metadata": {},
   "source": [
    "```\n",
    "# create data\n",
    "data, labels = make_blobs(\n",
    "    n_samples = points_per_feature * n_features, # number of total samples\n",
    "    n_features = n_features,                     # number of features (ex: X and Y --- 2)\n",
    "    centers = centers,                           # centers --- length of centers matchs the n_features\n",
    "    cluster_std=0.3,                             # variation\n",
    "    random_state=5                               # set seed\n",
    ")\n",
    "```"
   ]
  },
  {
   "cell_type": "code",
   "execution_count": 17,
   "metadata": {},
   "outputs": [
    {
     "data": {
      "text/plain": [
       "array([[ 2.44122749,  2.        ],\n",
       "       [ 4.43077119,  2.        ],\n",
       "       [ 2.10960984,  2.        ],\n",
       "       [ 1.0907676 ,  2.        ],\n",
       "       [ 2.18760323,  2.        ],\n",
       "       [10.        ,  9.79512349],\n",
       "       [10.        , 10.6034716 ],\n",
       "       [10.        ,  9.29982096],\n",
       "       [10.        , 11.85733101],\n",
       "       [10.        , 10.64484751]])"
      ]
     },
     "execution_count": 17,
     "metadata": {},
     "output_type": "execute_result"
    }
   ],
   "source": [
    "n_features = 2               # number of features (ex; X and Y --- 2)\n",
    "points_per_feature = 5       # for each category, generate how much data points\n",
    "centers = [(2, 2), (10, 10)] # specify the centers of each category\n",
    "\n",
    "# create data\n",
    "data, labels = make_blobs(\n",
    "    n_samples  = 10,         # number of total samples\n",
    "    n_features = 2,          # number of features (ex: X and Y --- 2)\n",
    "    centers    = centers,    # centers --- length of centers matchs the n_features\n",
    "    cluster_std=np.eye(2),   # variation\n",
    "    shuffle = False, \n",
    "    random_state=5           # set seed\n",
    ")\n",
    "data"
   ]
  },
  {
   "cell_type": "code",
   "execution_count": 18,
   "metadata": {},
   "outputs": [
    {
     "ename": "TypeError",
     "evalue": "unsupported operand type(s) for //: 'list' and 'int'",
     "output_type": "error",
     "traceback": [
      "\u001b[0;31m---------------------------------------------------------------------------\u001b[0m",
      "\u001b[0;31mTypeError\u001b[0m                                 Traceback (most recent call last)",
      "\u001b[0;32m<ipython-input-18-aebf980e775e>\u001b[0m in \u001b[0;36m<module>\u001b[0;34m()\u001b[0m\n\u001b[1;32m     10\u001b[0m     \u001b[0mcluster_std\u001b[0m\u001b[0;34m=\u001b[0m\u001b[0mnp\u001b[0m\u001b[0;34m.\u001b[0m\u001b[0meye\u001b[0m\u001b[0;34m(\u001b[0m\u001b[0;36m2\u001b[0m\u001b[0;34m)\u001b[0m\u001b[0;34m,\u001b[0m   \u001b[0;31m# variation\u001b[0m\u001b[0;34m\u001b[0m\u001b[0m\n\u001b[1;32m     11\u001b[0m     \u001b[0mshuffle\u001b[0m \u001b[0;34m=\u001b[0m \u001b[0;32mFalse\u001b[0m\u001b[0;34m,\u001b[0m\u001b[0;34m\u001b[0m\u001b[0m\n\u001b[0;32m---> 12\u001b[0;31m     \u001b[0mrandom_state\u001b[0m\u001b[0;34m=\u001b[0m\u001b[0;36m5\u001b[0m           \u001b[0;31m# set seed\u001b[0m\u001b[0;34m\u001b[0m\u001b[0m\n\u001b[0m\u001b[1;32m     13\u001b[0m )\n\u001b[1;32m     14\u001b[0m \u001b[0mdata\u001b[0m\u001b[0;34m\u001b[0m\u001b[0m\n",
      "\u001b[0;32m/local_data/env-py3/lib/python3.6/site-packages/sklearn/datasets/samples_generator.py\u001b[0m in \u001b[0;36mmake_blobs\u001b[0;34m(n_samples, n_features, centers, cluster_std, center_box, shuffle, random_state)\u001b[0m\n\u001b[1;32m    765\u001b[0m \u001b[0;34m\u001b[0m\u001b[0m\n\u001b[1;32m    766\u001b[0m     \u001b[0mn_centers\u001b[0m \u001b[0;34m=\u001b[0m \u001b[0mcenters\u001b[0m\u001b[0;34m.\u001b[0m\u001b[0mshape\u001b[0m\u001b[0;34m[\u001b[0m\u001b[0;36m0\u001b[0m\u001b[0;34m]\u001b[0m\u001b[0;34m\u001b[0m\u001b[0m\n\u001b[0;32m--> 767\u001b[0;31m     \u001b[0mn_samples_per_center\u001b[0m \u001b[0;34m=\u001b[0m \u001b[0;34m[\u001b[0m\u001b[0mint\u001b[0m\u001b[0;34m(\u001b[0m\u001b[0mn_samples\u001b[0m \u001b[0;34m//\u001b[0m \u001b[0mn_centers\u001b[0m\u001b[0;34m)\u001b[0m\u001b[0;34m]\u001b[0m \u001b[0;34m*\u001b[0m \u001b[0mn_centers\u001b[0m\u001b[0;34m\u001b[0m\u001b[0m\n\u001b[0m\u001b[1;32m    768\u001b[0m \u001b[0;34m\u001b[0m\u001b[0m\n\u001b[1;32m    769\u001b[0m     \u001b[0;32mfor\u001b[0m \u001b[0mi\u001b[0m \u001b[0;32min\u001b[0m \u001b[0mrange\u001b[0m\u001b[0;34m(\u001b[0m\u001b[0mn_samples\u001b[0m \u001b[0;34m%\u001b[0m \u001b[0mn_centers\u001b[0m\u001b[0;34m)\u001b[0m\u001b[0;34m:\u001b[0m\u001b[0;34m\u001b[0m\u001b[0m\n",
      "\u001b[0;31mTypeError\u001b[0m: unsupported operand type(s) for //: 'list' and 'int'"
     ]
    }
   ],
   "source": [
    "n_features = 2               # number of features (ex; X and Y --- 2)\n",
    "points_per_feature = 5       # for each category, generate how much data points\n",
    "centers = [(2, 2), (10, 10)] # specify the centers of each category\n",
    "\n",
    "# create data\n",
    "data, labels = make_blobs(\n",
    "    n_samples  = [7, 3],         # number of total samples\n",
    "    n_features = 2,          # number of features (ex: X and Y --- 2)\n",
    "    centers    = centers,    # centers --- length of centers matchs the n_features\n",
    "    cluster_std=np.eye(2),   # variation\n",
    "    shuffle = False, \n",
    "    random_state=5           # set seed\n",
    ")\n",
    "data"
   ]
  },
  {
   "cell_type": "markdown",
   "metadata": {},
   "source": [
    "Therefore, I used **multivariate_normal** function in numpy.random instead"
   ]
  },
  {
   "cell_type": "code",
   "execution_count": 40,
   "metadata": {},
   "outputs": [
    {
     "name": "stdout",
     "output_type": "stream",
     "text": [
      "[0, 0, 0, 0, 0, 0, 0, 0, 0, 0, 0, 0, 0, 0, 0, 0, 0, 0, 0, 0, 0, 0, 0, 0, 0, 0, 0, 0, 0, 0, 0, 0, 0, 0, 0, 0, 0, 0, 0, 0, 0, 0, 0, 0, 0, 0, 0, 0, 0, 0, 0, 0, 0, 0, 0, 0, 0, 0, 0, 0, 0, 0, 0, 0, 0, 0, 0, 0, 0, 0, 1, 1, 1, 1, 1, 1, 1, 1, 1, 1, 1, 1, 1, 1, 1, 1, 1, 1, 1, 1, 1, 1, 1, 1, 1, 1, 1, 1, 1, 1]\n"
     ]
    }
   ],
   "source": [
    "label_group = [0] * num_samples[0] + [1] * num_samples[1]\n",
    "label_group \n",
    "print(label_group)"
   ]
  },
  {
   "cell_type": "code",
   "execution_count": 22,
   "metadata": {},
   "outputs": [],
   "source": [
    "# initialize a container for all samples\n",
    "samples = list()\n",
    "\n",
    "# append array in loop\n",
    "# note: http://akuederle.com/create-numpy-array-with-for-loop\n",
    "for idx_sample in range(num_cells.shape[0]): # each sample can be viewed as a fcs file\n",
    "    a_sample = np.empty((0, 3))\n",
    "    idx_group = label_group[idx_sample]\n",
    "    \n",
    "    for idx_celltype in range(num_cells.shape[1]): # each sample contains different cell types\n",
    "        \n",
    "        a_celltype = rand.multivariate_normal(\n",
    "            mean_val2[idx_sample][idx_celltype], # mean\n",
    "            sig2[idx_group][idx_celltype],      # var-cov\n",
    "            num_cells[idx_sample][idx_celltype]) # number\n",
    "        \n",
    "        a_sample = np.r_[a_sample, a_celltype]\n",
    "        \n",
    "    samples.append(a_sample)\n",
    "\n",
    "# convert output in an array\n",
    "samples = np.array(samples)"
   ]
  },
  {
   "cell_type": "code",
   "execution_count": 23,
   "metadata": {},
   "outputs": [
    {
     "name": "stdout",
     "output_type": "stream",
     "text": [
      "100\n",
      "(1000, 3)\n"
     ]
    }
   ],
   "source": [
    "# check the dimensions\n",
    "print(len(samples))\n",
    "print(samples[0].shape)"
   ]
  },
  {
   "cell_type": "code",
   "execution_count": 24,
   "metadata": {},
   "outputs": [
    {
     "data": {
      "text/plain": [
       "(100, 1000, 3)"
      ]
     },
     "execution_count": 24,
     "metadata": {},
     "output_type": "execute_result"
    }
   ],
   "source": [
    "tmp = np.array(samples)\n",
    "tmp.shape"
   ]
  },
  {
   "cell_type": "code",
   "execution_count": 25,
   "metadata": {},
   "outputs": [
    {
     "data": {
      "image/png": "[encoded data removed]",
      "text/plain": [
       "<matplotlib.figure.Figure at 0x7f78612900b8>"
      ]
     },
     "metadata": {},
     "output_type": "display_data"
    }
   ],
   "source": [
    "#plt.figure(figsize=(3,3))\n",
    "#sub = plt.subplot(2, 2, 1)\n",
    "#plt.scatter(data[:, 0], data[:, 1], s=10, alpha=1) # alpha=0.3\n",
    "#plt.show()\n",
    "\n",
    "fig, axes = plt.subplots(2, 2, figsize=(7,7))\n",
    "for idx_data, ax in zip([0, -31, -30, -1], axes.ravel()):\n",
    "    data = samples[idx_data]\n",
    "    ax.scatter(data[:, 0], data[:, 1], s=10, alpha=1)\n",
    "    ax.title.set_text(str(num_cells[idx_data]))\n",
    "plt.show()"
   ]
  },
  {
   "cell_type": "markdown",
   "metadata": {},
   "source": [
    "# output the value"
   ]
  },
  {
   "cell_type": "code",
   "execution_count": 30,
   "metadata": {},
   "outputs": [],
   "source": [
    "import pickle\n",
    "# Note: https://pythontips.com/2013/08/02/what-is-pickle-in-python/"
   ]
  },
  {
   "cell_type": "code",
   "execution_count": 41,
   "metadata": {},
   "outputs": [],
   "source": [
    "# output the parameters\n",
    "np.savetxt(\"num_cells.csv\", num_cells, delimiter=\",\")\n",
    "np.savetxt(\"label_group.csv\", , delimiter=\",\")"
   ]
  },
  {
   "cell_type": "code",
   "execution_count": 37,
   "metadata": {},
   "outputs": [],
   "source": [
    "# output the parameters\n",
    "file_name = \"mean_val\"\n",
    "\n",
    "# open the file for writing\n",
    "file_object = open(file_name, 'wb') \n",
    "\n",
    "# write data to the file\n",
    "pickle.dump(mean_val2, file_object)   \n",
    "\n",
    "# here we close the fileObject\n",
    "file_object.close()"
   ]
  },
  {
   "cell_type": "code",
   "execution_count": 34,
   "metadata": {},
   "outputs": [],
   "source": [
    "# output the value\n",
    "file_Name = \"data_simulation\"\n",
    "\n",
    "# open the file for writing\n",
    "fileObject = open(file_Name, 'wb') \n",
    "\n",
    "# write data to the file\n",
    "pickle.dump(samples, fileObject)   \n",
    "\n",
    "# here we close the fileObject\n",
    "fileObject.close()"
   ]
  },
  {
   "cell_type": "code",
   "execution_count": 32,
   "metadata": {},
   "outputs": [
    {
     "name": "stdout",
     "output_type": "stream",
     "text": [
      "01 Data Simulation.ipynb                 data_simulation\r\n",
      "02 tSNE and Gaussian Kernel Image.ipynb  README.md\r\n"
     ]
    }
   ],
   "source": [
    "ls"
   ]
  }
 ],
 "metadata": {
  "kernelspec": {
   "display_name": "Python 3",
   "language": "python",
   "name": "python3"
  },
  "language_info": {
   "codemirror_mode": {
    "name": "ipython",
    "version": 3
   },
   "file_extension": ".py",
   "mimetype": "text/x-python",
   "name": "python",
   "nbconvert_exporter": "python",
   "pygments_lexer": "ipython3",
   "version": "3.6.3"
  }
 },
 "nbformat": 4,
 "nbformat_minor": 2
}
