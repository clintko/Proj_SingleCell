{
 "cells": [
  {
   "cell_type": "code",
   "execution_count": 1,
   "metadata": {},
   "outputs": [],
   "source": [
    "cat > Timer.py << EOF\n",
    "import time\n",
    "class Timer:\n",
    "    def __init__(self):\n",
    "        self.time1 = 0\n",
    "        self.time2 = 0\n",
    "        self.diff  = 0\n",
    "        \n",
    "    def start(self):\n",
    "        self.time1 = time.time()\n",
    "    \n",
    "    def stop(self):\n",
    "        self.time2 = time.time()\n",
    "        self.diff = self.time2 - self.time1\n",
    "        \n",
    "    def report(self, niter = 1):\n",
    "        val = self.diff / niter\n",
    "        return val // 3600, val // 60 % 60, val % 60\n",
    "EOF"
   ]
  },
  {
   "cell_type": "code",
   "execution_count": 2,
   "metadata": {},
   "outputs": [
    {
     "name": "stdout",
     "output_type": "stream",
     "text": [
      "import time\n",
      "class Timer:\n",
      "    def __init__(self):\n",
      "        self.time1 = 0\n",
      "        self.time2 = 0\n",
      "        self.diff  = 0\n",
      "        \n",
      "    def start(self):\n",
      "        self.time1 = time.time()\n",
      "    \n",
      "    def stop(self):\n",
      "        self.time2 = time.time()\n",
      "        self.diff = self.time2 - self.time1\n",
      "        \n",
      "    def report(self, niter = 1):\n",
      "        val = self.diff / niter\n",
      "        return val // 3600, val // 60 % 60, val % 60\n"
     ]
    }
   ],
   "source": [
    "cat Timer.py"
   ]
  }
 ],
 "metadata": {
  "kernelspec": {
   "display_name": "Bash",
   "language": "bash",
   "name": "bash"
  },
  "language_info": {
   "codemirror_mode": "shell",
   "file_extension": ".sh",
   "mimetype": "text/x-sh",
   "name": "bash"
  }
 },
 "nbformat": 4,
 "nbformat_minor": 2
}
