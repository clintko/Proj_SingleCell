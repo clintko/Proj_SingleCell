{
 "cells": [
  {
   "cell_type": "code",
   "execution_count": null,
   "metadata": {},
   "outputs": [],
   "source": []
  },
  {
   "cell_type": "code",
   "execution_count": 1,
   "metadata": {},
   "outputs": [],
   "source": [
    "import numpy as np\n",
    "\n",
    "from toolz import curry\n",
    "\n",
    "from sklearn.pipeline      import Pipeline\n",
    "from sklearn.pipeline      import FeatureUnion\n",
    "from sklearn.preprocessing import FunctionTransformer"
   ]
  },
  {
   "cell_type": "code",
   "execution_count": 9,
   "metadata": {},
   "outputs": [],
   "source": [
    "@curry\n",
    "def get_k_column(X, k = 0):\n",
    "    return X[:, k:k+1]\n",
    "\n",
    "@curry\n",
    "def get_k_row(X, k = 6):\n",
    "    return X[:k, :]"
   ]
  },
  {
   "cell_type": "code",
   "execution_count": 5,
   "metadata": {},
   "outputs": [],
   "source": [
    "X = np.random.randn(5, 5)"
   ]
  },
  {
   "cell_type": "code",
   "execution_count": 14,
   "metadata": {},
   "outputs": [
    {
     "name": "stdout",
     "output_type": "stream",
     "text": [
      "[[ 0.3764962  -0.78052591 -1.01310915 -0.20685905 -0.29203923]\n",
      " [ 1.34415119 -0.90207403 -1.10036878 -0.2787732   0.57052235]\n",
      " [-1.36211133 -1.01789    -0.96182592  0.67002618  0.23698224]\n",
      " [-0.29056166  0.24414599 -0.1660865   0.69560355 -0.61796607]\n",
      " [ 0.68259925  0.5488471   0.04558598 -2.11361428  0.10420734]]\n",
      "==========\n",
      "[[ 0.3764962 ]\n",
      " [ 1.34415119]\n",
      " [-1.36211133]\n",
      " [-0.29056166]\n",
      " [ 0.68259925]]\n",
      "==========\n",
      "[[-0.78052591]\n",
      " [-0.90207403]\n",
      " [-1.01789   ]\n",
      " [ 0.24414599]\n",
      " [ 0.5488471 ]]\n",
      "==========\n",
      "[[ 0.3764962  -0.78052591 -1.01310915 -0.20685905 -0.29203923]\n",
      " [ 1.34415119 -0.90207403 -1.10036878 -0.2787732   0.57052235]\n",
      " [-1.36211133 -1.01789    -0.96182592  0.67002618  0.23698224]]\n"
     ]
    }
   ],
   "source": [
    "print(X)\n",
    "print(\"==========\")\n",
    "print(get_k_column(k = 0)(X))\n",
    "print(\"==========\")\n",
    "print(get_k_column(k = 1)(X))\n",
    "print(\"==========\")\n",
    "print(get_k_row(k = 3)(X))"
   ]
  },
  {
   "cell_type": "code",
   "execution_count": 18,
   "metadata": {},
   "outputs": [],
   "source": [
    "pipe01 = FeatureUnion([\n",
    "    (\"column_0\", FunctionTransformer(get_k_column)), \n",
    "    (\"column_3\", FunctionTransformer(get_k_column(k = 3)))])\n",
    "\n",
    "pipe = Pipeline([\n",
    "    (\"column_0_3\", pipe01), \n",
    "    (\"row_3\",      FunctionTransformer(get_k_row(k = 3)))])"
   ]
  },
  {
   "cell_type": "code",
   "execution_count": 19,
   "metadata": {
    "scrolled": true
   },
   "outputs": [
    {
     "name": "stdout",
     "output_type": "stream",
     "text": [
      "[[ 0.3764962  -0.78052591 -1.01310915 -0.20685905 -0.29203923]\n",
      " [ 1.34415119 -0.90207403 -1.10036878 -0.2787732   0.57052235]\n",
      " [-1.36211133 -1.01789    -0.96182592  0.67002618  0.23698224]\n",
      " [-0.29056166  0.24414599 -0.1660865   0.69560355 -0.61796607]\n",
      " [ 0.68259925  0.5488471   0.04558598 -2.11361428  0.10420734]]\n",
      "===================\n",
      "[[ 0.3764962  -0.20685905]\n",
      " [ 1.34415119 -0.2787732 ]\n",
      " [-1.36211133  0.67002618]]\n"
     ]
    }
   ],
   "source": [
    "print(X)\n",
    "print(\"===================\")\n",
    "print(pipe.fit_transform(X))"
   ]
  },
  {
   "cell_type": "markdown",
   "metadata": {},
   "source": [
    "# What if two output is not the same"
   ]
  },
  {
   "cell_type": "code",
   "execution_count": 20,
   "metadata": {},
   "outputs": [],
   "source": [
    "pipe = FeatureUnion([\n",
    "    (\"column_0\", FunctionTransformer(get_k_column)), \n",
    "    (\"row_3\",    FunctionTransformer(get_k_row(k = 3)))])"
   ]
  },
  {
   "cell_type": "code",
   "execution_count": 21,
   "metadata": {},
   "outputs": [
    {
     "name": "stdout",
     "output_type": "stream",
     "text": [
      "[[ 0.3764962  -0.78052591 -1.01310915 -0.20685905 -0.29203923]\n",
      " [ 1.34415119 -0.90207403 -1.10036878 -0.2787732   0.57052235]\n",
      " [-1.36211133 -1.01789    -0.96182592  0.67002618  0.23698224]\n",
      " [-0.29056166  0.24414599 -0.1660865   0.69560355 -0.61796607]\n",
      " [ 0.68259925  0.5488471   0.04558598 -2.11361428  0.10420734]]\n",
      "===================\n"
     ]
    },
    {
     "ename": "ValueError",
     "evalue": "all the input array dimensions except for the concatenation axis must match exactly",
     "output_type": "error",
     "traceback": [
      "\u001b[0;31m---------------------------------------------------------------------------\u001b[0m",
      "\u001b[0;31mValueError\u001b[0m                                Traceback (most recent call last)",
      "\u001b[0;32m<ipython-input-21-cf538b236479>\u001b[0m in \u001b[0;36m<module>\u001b[0;34m()\u001b[0m\n\u001b[1;32m      1\u001b[0m \u001b[0mprint\u001b[0m\u001b[0;34m(\u001b[0m\u001b[0mX\u001b[0m\u001b[0;34m)\u001b[0m\u001b[0;34m\u001b[0m\u001b[0m\n\u001b[1;32m      2\u001b[0m \u001b[0mprint\u001b[0m\u001b[0;34m(\u001b[0m\u001b[0;34m\"===================\"\u001b[0m\u001b[0;34m)\u001b[0m\u001b[0;34m\u001b[0m\u001b[0m\n\u001b[0;32m----> 3\u001b[0;31m \u001b[0mprint\u001b[0m\u001b[0;34m(\u001b[0m\u001b[0mpipe\u001b[0m\u001b[0;34m.\u001b[0m\u001b[0mfit_transform\u001b[0m\u001b[0;34m(\u001b[0m\u001b[0mX\u001b[0m\u001b[0;34m)\u001b[0m\u001b[0;34m)\u001b[0m\u001b[0;34m\u001b[0m\u001b[0m\n\u001b[0m",
      "\u001b[0;32m/local_data/env-py3/lib/python3.6/site-packages/sklearn/pipeline.py\u001b[0m in \u001b[0;36mfit_transform\u001b[0;34m(self, X, y, **fit_params)\u001b[0m\n\u001b[1;32m    747\u001b[0m             \u001b[0mXs\u001b[0m \u001b[0;34m=\u001b[0m \u001b[0msparse\u001b[0m\u001b[0;34m.\u001b[0m\u001b[0mhstack\u001b[0m\u001b[0;34m(\u001b[0m\u001b[0mXs\u001b[0m\u001b[0;34m)\u001b[0m\u001b[0;34m.\u001b[0m\u001b[0mtocsr\u001b[0m\u001b[0;34m(\u001b[0m\u001b[0;34m)\u001b[0m\u001b[0;34m\u001b[0m\u001b[0m\n\u001b[1;32m    748\u001b[0m         \u001b[0;32melse\u001b[0m\u001b[0;34m:\u001b[0m\u001b[0;34m\u001b[0m\u001b[0m\n\u001b[0;32m--> 749\u001b[0;31m             \u001b[0mXs\u001b[0m \u001b[0;34m=\u001b[0m \u001b[0mnp\u001b[0m\u001b[0;34m.\u001b[0m\u001b[0mhstack\u001b[0m\u001b[0;34m(\u001b[0m\u001b[0mXs\u001b[0m\u001b[0;34m)\u001b[0m\u001b[0;34m\u001b[0m\u001b[0m\n\u001b[0m\u001b[1;32m    750\u001b[0m         \u001b[0;32mreturn\u001b[0m \u001b[0mXs\u001b[0m\u001b[0;34m\u001b[0m\u001b[0m\n\u001b[1;32m    751\u001b[0m \u001b[0;34m\u001b[0m\u001b[0m\n",
      "\u001b[0;32m/local_data/env-py3/lib/python3.6/site-packages/numpy/core/shape_base.py\u001b[0m in \u001b[0;36mhstack\u001b[0;34m(tup)\u001b[0m\n\u001b[1;32m    286\u001b[0m         \u001b[0;32mreturn\u001b[0m \u001b[0m_nx\u001b[0m\u001b[0;34m.\u001b[0m\u001b[0mconcatenate\u001b[0m\u001b[0;34m(\u001b[0m\u001b[0marrs\u001b[0m\u001b[0;34m,\u001b[0m \u001b[0;36m0\u001b[0m\u001b[0;34m)\u001b[0m\u001b[0;34m\u001b[0m\u001b[0m\n\u001b[1;32m    287\u001b[0m     \u001b[0;32melse\u001b[0m\u001b[0;34m:\u001b[0m\u001b[0;34m\u001b[0m\u001b[0m\n\u001b[0;32m--> 288\u001b[0;31m         \u001b[0;32mreturn\u001b[0m \u001b[0m_nx\u001b[0m\u001b[0;34m.\u001b[0m\u001b[0mconcatenate\u001b[0m\u001b[0;34m(\u001b[0m\u001b[0marrs\u001b[0m\u001b[0;34m,\u001b[0m \u001b[0;36m1\u001b[0m\u001b[0;34m)\u001b[0m\u001b[0;34m\u001b[0m\u001b[0m\n\u001b[0m\u001b[1;32m    289\u001b[0m \u001b[0;34m\u001b[0m\u001b[0m\n\u001b[1;32m    290\u001b[0m \u001b[0;34m\u001b[0m\u001b[0m\n",
      "\u001b[0;31mValueError\u001b[0m: all the input array dimensions except for the concatenation axis must match exactly"
     ]
    }
   ],
   "source": [
    "print(X)\n",
    "print(\"===================\")\n",
    "print(pipe.fit_transform(X))"
   ]
  },
  {
   "cell_type": "code",
   "execution_count": null,
   "metadata": {},
   "outputs": [],
   "source": []
  }
 ],
 "metadata": {
  "kernelspec": {
   "display_name": "Python 3",
   "language": "python",
   "name": "python3"
  },
  "language_info": {
   "codemirror_mode": {
    "name": "ipython",
    "version": 3
   },
   "file_extension": ".py",
   "mimetype": "text/x-python",
   "name": "python",
   "nbconvert_exporter": "python",
   "pygments_lexer": "ipython3",
   "version": "3.6.3"
  }
 },
 "nbformat": 4,
 "nbformat_minor": 2
}
