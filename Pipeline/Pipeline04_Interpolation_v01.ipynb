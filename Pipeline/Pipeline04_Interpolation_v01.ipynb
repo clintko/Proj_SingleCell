{
 "cells": [
  {
   "cell_type": "markdown",
   "metadata": {},
   "source": [
    "# Set Environment"
   ]
  },
  {
   "cell_type": "code",
   "execution_count": 60,
   "metadata": {},
   "outputs": [],
   "source": [
    "# load required packages\n",
    "import numpy as np\n",
    "from numpy import random\n",
    "from scipy.interpolate import Rbf\n",
    "\n",
    "import copy\n",
    "from collections import Counter\n",
    "\n",
    "from sklearn.preprocessing import FunctionTransformer\n",
    "from sklearn.preprocessing import MinMaxScaler\n",
    "from sklearn.pipeline      import Pipeline, FeatureUnion\n",
    "from sklearn.decomposition import PCA\n",
    "from sklearn.base          import BaseEstimator, TransformerMixin\n",
    "\n",
    "from sklearn import datasets\n",
    "\n",
    "import matplotlib.pyplot as plt\n",
    "\n",
    "# helper function\n",
    "head = lambda x, k = 6: x[:k]\n",
    "tail = lambda x, k = 6: x[-k:]"
   ]
  },
  {
   "cell_type": "markdown",
   "metadata": {},
   "source": [
    "# Data Wrapper"
   ]
  },
  {
   "cell_type": "code",
   "execution_count": 11,
   "metadata": {},
   "outputs": [],
   "source": [
    "class Data_Wrapper:\n",
    "    \"\"\" A wrapper with data matrix (N, M_i, p) and data labels\n",
    "    N   = number of samples\n",
    "    M_i = number of observations / data points in the ith sample\n",
    "    p   = number of variables for all sample\n",
    "    Args:\n",
    "        matrix (N, M_i, p): data values\n",
    "        label  (N,):        labels\n",
    "        coord  (Sum(M_i)):  \n",
    "    \"\"\"\n",
    "    def __init__(self, matrix, label, coord = None):\n",
    "        \n",
    "        # index of each sample\n",
    "        idx = [x.shape[0] for x in matrix]\n",
    "        idx = np.r_[0, idx]\n",
    "        idx = np.cumsum(idx)\n",
    "        self.sample_idx = idx\n",
    "        \n",
    "        # label        \n",
    "        self.label  = np.array(label)\n",
    "        assert self.label.shape[0] == matrix.shape[0], \"Dimension of matrix and label does not match\"\n",
    "        \n",
    "        # matrix\n",
    "        self.matrix = np.vstack(matrix)\n",
    "        \n",
    "        # coordinate\n",
    "        self.coord = np.array(coord)\n",
    "        assert self.coord.shape[0] == self.matrix.shape[0], \"Dimension of matrix and coordinate does not match\"\n",
    "        \n",
    "    def __repr__(self):\n",
    "        string = \"\"\n",
    "        string += (\"Number of samples:            \" + str(self.get_num_sample())   + \"\\n\")\n",
    "        string += (\"Number of variables:          \" + str(self.get_num_variable()) + \"\\n\")\n",
    "        string += (\"Number of total observations: \" + str(self.matrix.shape[0])    + \"\\n\")\n",
    "        \n",
    "        tmp = Counter(self.label)\n",
    "        for k, v in tmp.items():\n",
    "            string += (\"Label \" + str(k) + \" : \" + str(v) + \"\\n\")\n",
    "    \n",
    "        return string\n",
    "    \n",
    "    def get_num_sample(self):\n",
    "        return self.label.shape[0]\n",
    "    \n",
    "    def get_num_variable(self):\n",
    "        return self.matrix.shape[1]\n",
    "    \n",
    "    def get_num_total_obs(self):\n",
    "        return self.matrix.shape[0]\n",
    "    \n",
    "    def get_sample_size(self):\n",
    "        return self.sample_idx[1:] - self.sample_idx[:-1]\n",
    "    \n",
    "    def get_sample(self, k):\n",
    "        return self.matrix[self.sample_idx[k] : self.sample_idx[k + 1]] \n",
    "    \n",
    "    def get_label(self, k):\n",
    "        return self.label[k]\n",
    "    \n",
    "    def get_coord(self, k):\n",
    "        return self.coord[self.sample_idx[k] : self.sample_idx[k + 1]] \n",
    "        \n",
    "    def set_matrix(self, matrix):\n",
    "        assert self.matrix.shape == matrix.shape\n",
    "        self.matrix = matrix\n",
    "    \n",
    "    def set_coord(self, coord):\n",
    "        # Check to make sure coord has the same number of samples\n",
    "        assert self.matrix.shape[0] == coord.shape[0]\n",
    "        self.coord = coord\n",
    "        \n",
    "    def plot(self, ax, idx_sample, idx_feature, s = 1, alpha = 0.7, cmap_color = \"Reds\"):\n",
    "        coord   = self.get_coord(idx_sample)\n",
    "        matrix  = self.get_sample(kidx_sample)\n",
    "        feature = matrix[:, idx_feature]\n",
    "        \n",
    "        ax.scatter(\n",
    "            coord[:, 0], \n",
    "            coord[:, 1],\n",
    "            c = feature,\n",
    "            s = s\n",
    "            alpha = alpha\n",
    "            cmap=plt.get_cmap(cmap_color))\n",
    "        \n",
    "        return ax"
   ]
  },
  {
   "cell_type": "markdown",
   "metadata": {},
   "source": [
    "### Initializing a iris dataset"
   ]
  },
  {
   "cell_type": "code",
   "execution_count": 79,
   "metadata": {},
   "outputs": [
    {
     "name": "stdout",
     "output_type": "stream",
     "text": [
      "[ 50 100 150]\n"
     ]
    }
   ],
   "source": [
    "iris = datasets.load_iris()\n",
    "X = iris.data\n",
    "y = iris.target\n",
    "\n",
    "print(np.cumsum([sum(y == 0), sum(y == 1), sum(y == 2)]))"
   ]
  },
  {
   "cell_type": "code",
   "execution_count": 77,
   "metadata": {},
   "outputs": [
    {
     "name": "stdout",
     "output_type": "stream",
     "text": [
      "[0 0 0 0 0 0 0 0 0 0 0 0 0 0 0 0 0 0 0 0 0 0 0 0 0 0 0 0 0 0 0 0 0 0 0 0 0\n",
      " 0 0 0 0 0 0 0 0 0 0 0 0 0]\n",
      "[1 1 1 1 1 1 1 1 1 1 1 1 1 1 1 1 1 1 1 1 1 1 1 1 1 1 1 1 1 1 1 1 1 1 1 1 1\n",
      " 1 1 1 1 1 1 1 1 1 1 1 1 1]\n",
      "[2 2 2 2 2 2 2 2 2 2 2 2 2 2 2 2 2 2 2 2 2 2 2 2 2 2 2 2 2 2 2 2 2 2 2 2 2\n",
      " 2 2 2 2 2 2 2 2 2 2 2 2 2]\n"
     ]
    }
   ],
   "source": [
    "print(y[0:50])\n",
    "print(y[50:100])\n",
    "print(y[100:])"
   ]
  },
  {
   "cell_type": "code",
   "execution_count": 76,
   "metadata": {},
   "outputs": [
    {
     "name": "stdout",
     "output_type": "stream",
     "text": [
      "(3, 50, 4)\n"
     ]
    }
   ],
   "source": [
    "MATRIX = np.array([X[0:50], X[50:100], X[100:]])\n",
    "print(MATRIX.shape)"
   ]
  },
  {
   "cell_type": "code",
   "execution_count": 78,
   "metadata": {},
   "outputs": [
    {
     "name": "stdout",
     "output_type": "stream",
     "text": [
      "[0 1 2]\n"
     ]
    }
   ],
   "source": [
    "LABEL = np.array([0, 1, 2])\n",
    "print(LABEL)"
   ]
  },
  {
   "cell_type": "code",
   "execution_count": 85,
   "metadata": {},
   "outputs": [
    {
     "data": {
      "text/plain": [
       "array([[-2.68420713,  0.32660731],\n",
       "       [-2.71539062, -0.16955685],\n",
       "       [-2.88981954, -0.13734561],\n",
       "       [-2.7464372 , -0.31112432],\n",
       "       [-2.72859298,  0.33392456],\n",
       "       [-2.27989736,  0.74778271]])"
      ]
     },
     "execution_count": 85,
     "metadata": {},
     "output_type": "execute_result"
    }
   ],
   "source": [
    "COORD = PCA(n_components = 2).fit_transform(X)\n",
    "head(COORD)"
   ]
  },
  {
   "cell_type": "code",
   "execution_count": 84,
   "metadata": {},
   "outputs": [
    {
     "name": "stdout",
     "output_type": "stream",
     "text": [
      "Number of samples:            3\n",
      "Number of variables:          4\n",
      "Number of total observations: 150\n",
      "Label 0 : 1\n",
      "Label 1 : 1\n",
      "Label 2 : 1\n",
      "\n",
      "[50 50 50]\n"
     ]
    }
   ],
   "source": [
    "mydata = Data_Wrapper(MATRIX, LABEL, COORD)\n",
    "print(mydata)\n",
    "print(mydata.get_sample_size())"
   ]
  },
  {
   "cell_type": "markdown",
   "metadata": {},
   "source": [
    "### Initializing a test data"
   ]
  },
  {
   "cell_type": "code",
   "execution_count": 10,
   "metadata": {},
   "outputs": [
    {
     "name": "stdout",
     "output_type": "stream",
     "text": [
      "# Labels:  (3,)\n",
      "# Samples: (3,)\n",
      "===========================\n",
      "Sample 01: (2, 3)\n",
      "Sample 02: (4, 3)\n",
      "Sample 03: (10, 3)\n",
      "===========================\n",
      "labels: [0 1 1]\n",
      "===========================\n",
      "Samples:\n",
      "[[-1.89922446e+00  2.24490208e-03 -7.59824829e-01]\n",
      " [ 5.68149518e-01 -1.88764075e-03  9.33833642e-01]]\n",
      "[[-0.26656338 -1.37279728  1.54056539]\n",
      " [ 0.56234108 -0.62685833 -0.90807627]\n",
      " [ 1.29761338  0.26678552  1.61261266]\n",
      " [ 0.53487134 -0.81655796 -0.20861074]]\n",
      "[[-0.17516346  1.23556388 -0.00552846]\n",
      " [ 0.24405583  0.46960682 -0.08912715]\n",
      " [ 1.45926032 -0.57815178 -1.30585035]\n",
      " [ 0.11435801  0.76704464 -0.01481093]\n",
      " [ 1.02437477 -0.82087797  0.37315936]\n",
      " [-0.18305452  1.30610405 -0.33696567]\n",
      " [ 1.42787317 -0.10760653  0.28981324]\n",
      " [-1.86495899  0.86916421 -0.61510391]\n",
      " [ 0.15225314  0.85126218  0.29408535]\n",
      " [-0.36086203  1.24805791 -0.67001259]]\n"
     ]
    }
   ],
   "source": [
    "N_SAMPLE = 2\n",
    "N_MARKER = 3\n",
    "N_ROW    = [2, 4, 10]\n",
    "\n",
    "MATRIX = np.array([random.randn(nrow, N_MARKER) for nrow in N_ROW])\n",
    "LABEL  = np.array([0, 1, 1])\n",
    "COORD  = np.array([\n",
    "    np.arange(np.sum(N_ROW)) \n",
    "    for _ in range(N_SAMPLE)]).T\n",
    "\n",
    "print(\"# Labels: \", LABEL.shape)\n",
    "print(\"# Samples:\", MATRIX.shape)\n",
    "print(\"===========================\")\n",
    "print(\"Sample 01:\", MATRIX[0].shape)\n",
    "print(\"Sample 02:\", MATRIX[1].shape)\n",
    "print(\"Sample 03:\", MATRIX[2].shape)\n",
    "print(\"===========================\")\n",
    "print(\"labels:\", LABEL)\n",
    "print(\"===========================\")\n",
    "print(\"Samples:\");\n",
    "for matrix in MATRIX:\n",
    "    print(matrix)"
   ]
  },
  {
   "cell_type": "code",
   "execution_count": 12,
   "metadata": {},
   "outputs": [
    {
     "name": "stdout",
     "output_type": "stream",
     "text": [
      "Number of samples:            3\n",
      "Number of variables:          3\n",
      "Number of total observations: 16\n",
      "Label 0 : 1\n",
      "Label 1 : 2\n",
      "\n",
      "[ 2  4 10]\n"
     ]
    }
   ],
   "source": [
    "flow_data = Data_Wrapper(MATRIX, LABEL, COORD)\n",
    "print(flow_data)\n",
    "print(flow_data.get_sample_size())"
   ]
  },
  {
   "cell_type": "code",
   "execution_count": 15,
   "metadata": {},
   "outputs": [
    {
     "data": {
      "text/plain": [
       "array([[-1.89922446e+00,  2.24490208e-03, -7.59824829e-01],\n",
       "       [ 5.68149518e-01, -1.88764075e-03,  9.33833642e-01],\n",
       "       [-2.66563384e-01, -1.37279728e+00,  1.54056539e+00],\n",
       "       [ 5.62341081e-01, -6.26858326e-01, -9.08076272e-01],\n",
       "       [ 1.29761338e+00,  2.66785515e-01,  1.61261266e+00],\n",
       "       [ 5.34871341e-01, -8.16557957e-01, -2.08610737e-01],\n",
       "       [-1.75163463e-01,  1.23556388e+00, -5.52845620e-03],\n",
       "       [ 2.44055826e-01,  4.69606820e-01, -8.91271475e-02],\n",
       "       [ 1.45926032e+00, -5.78151784e-01, -1.30585035e+00],\n",
       "       [ 1.14358008e-01,  7.67044639e-01, -1.48109277e-02],\n",
       "       [ 1.02437477e+00, -8.20877969e-01,  3.73159364e-01],\n",
       "       [-1.83054522e-01,  1.30610405e+00, -3.36965669e-01],\n",
       "       [ 1.42787317e+00, -1.07606533e-01,  2.89813236e-01],\n",
       "       [-1.86495899e+00,  8.69164210e-01, -6.15103912e-01],\n",
       "       [ 1.52253138e-01,  8.51262181e-01,  2.94085349e-01],\n",
       "       [-3.60862026e-01,  1.24805791e+00, -6.70012588e-01]])"
      ]
     },
     "execution_count": 15,
     "metadata": {},
     "output_type": "execute_result"
    }
   ],
   "source": [
    "flow_data.matrix"
   ]
  },
  {
   "cell_type": "code",
   "execution_count": 20,
   "metadata": {},
   "outputs": [],
   "source": [
    "scaler = MinMaxScaler(feature_range=(0, 1))\n",
    "matrix = scaler.fit_transform(flow_data.matrix)\n",
    "\n",
    "pca = PCA(n_components=2)\n",
    "coord  = pca.fit_transform(flow_data.matrix)"
   ]
  },
  {
   "cell_type": "code",
   "execution_count": 22,
   "metadata": {},
   "outputs": [],
   "source": [
    "flow_data.set_matrix(matrix)\n",
    "flow_data.set_coord(coord)"
   ]
  },
  {
   "cell_type": "code",
   "execution_count": 27,
   "metadata": {},
   "outputs": [
    {
     "name": "stdout",
     "output_type": "stream",
     "text": [
      "[[0.         0.51328586 0.18709352]\n",
      " [0.7346688  0.51174324 0.76741901]\n",
      " [0.48613026 0.         0.97531328]\n",
      " [0.73293932 0.27844958 0.13629574]\n",
      " [0.95186909 0.61203553 1.        ]\n",
      " [0.72476011 0.20763711 0.37596489]\n",
      " [0.51334489 0.97366825 0.44555024]\n",
      " [0.63816883 0.68774616 0.41690547]\n",
      " [1.         0.29663112 0.        ]\n",
      " [0.59955087 0.79877594 0.44236964]\n",
      " [0.87051138 0.2060245  0.57530615]\n",
      " [0.5109953  1.         0.33198457]\n",
      " [0.99065437 0.47227971 0.54674792]\n",
      " [0.01020266 0.83689588 0.23668158]\n",
      " [0.61083427 0.83021328 0.54821174]\n",
      " [0.45805253 0.97833211 0.21786734]]\n",
      "===============================\n",
      "[[ 0.44345787  0.30063788]\n",
      " [-0.2516286  -0.22689169]\n",
      " [-0.53357958 -0.06887455]\n",
      " [-0.13549148  0.41702327]\n",
      " [-0.41585465 -0.49139584]\n",
      " [-0.28106456  0.26766558]\n",
      " [ 0.33022581 -0.22346338]\n",
      " [ 0.07543229 -0.04197902]\n",
      " [-0.22626746  0.49234792]\n",
      " [ 0.16224515 -0.12479414]\n",
      " [-0.45605365  0.09632053]\n",
      " [ 0.39813144 -0.14787557]\n",
      " [-0.33804521 -0.04887579]\n",
      " [ 0.63280663  0.06837814]\n",
      " [ 0.1309664  -0.22917972]\n",
      " [ 0.4647196  -0.03904362]]\n"
     ]
    }
   ],
   "source": [
    "print(flow_data.matrix)\n",
    "print(\"===============================\")\n",
    "print(flow_data.coord)"
   ]
  },
  {
   "cell_type": "markdown",
   "metadata": {},
   "source": [
    "# Interpolation"
   ]
  },
  {
   "cell_type": "code",
   "execution_count": 106,
   "metadata": {},
   "outputs": [],
   "source": [
    "# initialization\n",
    "N_GRID  = 128\n",
    "lst_img = []\n",
    "\n",
    "for idx_sample in range(mydata.get_num_sample()):\n",
    "    \n",
    "    #label  = mydata.get_label(idx_sample)\n",
    "    \n",
    "    # Coordinate from dimensional reduction\n",
    "    coord  = mydata.get_coord(idx_sample)\n",
    "    x = coord[:, 0]\n",
    "    y = coord[:, 1]\n",
    "    \n",
    "    # generate a grid\n",
    "    x_c = np.linspace(min(x), max(x), N_GRID)\n",
    "    y_c = np.linspace(min(y), max(y), N_GRID)\n",
    "    x_c, y_c = np.meshgrid(x_c, y_c)\n",
    "    \n",
    "    # Sample data\n",
    "    matrix = mydata.get_sample(idx_sample)\n",
    "    \n",
    "    # images generated from interpolation \n",
    "    img = []\n",
    "    for idx_feature in range(matrix.shape[1]):\n",
    "        \n",
    "        # interpolation\n",
    "        z = matrix[:, idx_feature]\n",
    "        rbfi = Rbf(x, y, z, function = 'multiquadric', smooth = 1)\n",
    "        \n",
    "        # store into a list \"img\"\n",
    "        z_c = rbfi(x_c, y_c)\n",
    "        img.append(z_c)\n",
    "        \n",
    "    img = np.array(img)    \n",
    "    lst_img.append(img)\n",
    "    \n",
    "lst_img = np.array(lst_img)\n",
    "lst_img_new = lst_img.reshape(-1, 128, 128)"
   ]
  },
  {
   "cell_type": "markdown",
   "metadata": {},
   "source": [
    "# Reshape the matrix"
   ]
  },
  {
   "cell_type": "code",
   "execution_count": 39,
   "metadata": {},
   "outputs": [
    {
     "data": {
      "text/plain": [
       "(3, 3, 128, 128)"
      ]
     },
     "execution_count": 39,
     "metadata": {},
     "output_type": "execute_result"
    }
   ],
   "source": [
    "lst_img.shape"
   ]
  },
  {
   "cell_type": "code",
   "execution_count": 41,
   "metadata": {},
   "outputs": [
    {
     "data": {
      "text/plain": [
       "(128, 128)"
      ]
     },
     "execution_count": 41,
     "metadata": {},
     "output_type": "execute_result"
    }
   ],
   "source": [
    "lst_img[0][0].shape"
   ]
  },
  {
   "cell_type": "code",
   "execution_count": 46,
   "metadata": {},
   "outputs": [
    {
     "data": {
      "text/plain": [
       "True"
      ]
     },
     "execution_count": 46,
     "metadata": {},
     "output_type": "execute_result"
    }
   ],
   "source": [
    "np.allclose(lst_img_new[0], lst_img[0][0])"
   ]
  },
  {
   "cell_type": "code",
   "execution_count": 48,
   "metadata": {},
   "outputs": [
    {
     "data": {
      "text/plain": [
       "True"
      ]
     },
     "execution_count": 48,
     "metadata": {},
     "output_type": "execute_result"
    }
   ],
   "source": [
    "np.allclose(lst_img_new[1], lst_img[0][1])"
   ]
  },
  {
   "cell_type": "code",
   "execution_count": 47,
   "metadata": {},
   "outputs": [
    {
     "data": {
      "text/plain": [
       "False"
      ]
     },
     "execution_count": 47,
     "metadata": {},
     "output_type": "execute_result"
    }
   ],
   "source": [
    "np.allclose(lst_img_new[1], lst_img[1][0])"
   ]
  },
  {
   "cell_type": "code",
   "execution_count": 49,
   "metadata": {},
   "outputs": [
    {
     "data": {
      "text/plain": [
       "True"
      ]
     },
     "execution_count": 49,
     "metadata": {},
     "output_type": "execute_result"
    }
   ],
   "source": [
    "np.allclose(lst_img_new[2], lst_img[0][2])"
   ]
  },
  {
   "cell_type": "code",
   "execution_count": 50,
   "metadata": {},
   "outputs": [
    {
     "data": {
      "text/plain": [
       "True"
      ]
     },
     "execution_count": 50,
     "metadata": {},
     "output_type": "execute_result"
    }
   ],
   "source": [
    "np.allclose(lst_img_new[3], lst_img[1][0])"
   ]
  },
  {
   "cell_type": "markdown",
   "metadata": {},
   "source": [
    "# Plot the results"
   ]
  },
  {
   "cell_type": "markdown",
   "metadata": {},
   "source": [
    "nrow, ncol = 4, 8\n",
    "fig, axes = plt.subplots(nrow, ncol, figsize = (ncol * 3, nrow * 3))"
   ]
  },
  {
   "cell_type": "code",
   "execution_count": 107,
   "metadata": {},
   "outputs": [
    {
     "data": {
      "text/plain": [
       "(12, 128, 128)"
      ]
     },
     "execution_count": 107,
     "metadata": {},
     "output_type": "execute_result"
    }
   ],
   "source": [
    "lst_img_new.shape"
   ]
  },
  {
   "cell_type": "code",
   "execution_count": 96,
   "metadata": {},
   "outputs": [],
   "source": [
    "x   = COORD[:, 0]\n",
    "y   = COORD[:, 1]\n",
    "x_c = np.linspace(min(x), max(x), N_GRID)\n",
    "y_c = np.linspace(min(y), max(y), N_GRID)\n",
    "x_c, y_c = np.meshgrid(x_c, y_c)"
   ]
  },
  {
   "cell_type": "code",
   "execution_count": 120,
   "metadata": {},
   "outputs": [
    {
     "data": {
      "text/plain": [
       "(50,)"
      ]
     },
     "execution_count": 120,
     "metadata": {},
     "output_type": "execute_result"
    }
   ],
   "source": [
    "z = mydata.get_sample(0)[:, 0]\n",
    "z.shape"
   ]
  },
  {
   "cell_type": "code",
   "execution_count": 126,
   "metadata": {},
   "outputs": [
    {
     "name": "stdout",
     "output_type": "stream",
     "text": [
      "(128, 128)\n",
      "(128, 128)\n"
     ]
    }
   ],
   "source": [
    "print(x_c.shape)\n",
    "print(z_c.shape)"
   ]
  },
  {
   "cell_type": "code",
   "execution_count": 124,
   "metadata": {},
   "outputs": [
    {
     "data": {
      "image/png": "[encoded data removed]",
      "text/plain": [
       "<Figure size 288x288 with 1 Axes>"
      ]
     },
     "metadata": {},
     "output_type": "display_data"
    }
   ],
   "source": [
    "fig, ax = plt.subplots(1, 1, figsize = (4, 4))\n",
    "\n",
    "z_c = lst_img_new[0]\n",
    "ax.scatter(\n",
    "    x_c, y_c, c = z_c, \n",
    "    s = 1, alpha = 1.0, \n",
    "    cmap = plt.get_cmap('Blues'))\n",
    "\n",
    "z = mydata.get_sample(0)[:, 0]\n",
    "ax.scatter(\n",
    "    x, y, c = z, \n",
    "    s = 2, alpha = 1.0, \n",
    "    cmap = plt.get_cmap('Reds'))\n",
    "\n",
    "plt.show()"
   ]
  },
  {
   "cell_type": "code",
   "execution_count": null,
   "metadata": {},
   "outputs": [],
   "source": []
  },
  {
   "cell_type": "markdown",
   "metadata": {},
   "source": [
    "# Reference Code for plotting"
   ]
  },
  {
   "cell_type": "code",
   "execution_count": 90,
   "metadata": {},
   "outputs": [],
   "source": [
    "def plot_tsne_nocolor(ax, tsne, point_size = 2, alpha = 0.5):\n",
    "    \"\"\"plot plain\"\"\"\n",
    "    x   = tsne[:, 0]\n",
    "    y   = tsne[:, 1]\n",
    "    ax.scatter(\n",
    "        x, y, s=point_size, alpha=alpha)\n",
    "    \n",
    "def plot_tsne(ax, tsne, sample, idx_feature = 0, n_grid = 128, point_size = 2, alpha = 0.5):\n",
    "    \"\"\"plot tsne with color of a feature\"\"\"\n",
    "    x   = tsne[:, 0]\n",
    "    y   = tsne[:, 1]\n",
    "    z   = sample[:, idx_feature]\n",
    "    \n",
    "    ax.scatter(\n",
    "        x, y, c = z, \n",
    "        s=point_size, alpha=alpha, \n",
    "        cmap=plt.get_cmap('Reds'))\n",
    "    \n",
    "################################################    \n",
    "# because the difference of dimension\n",
    "def plot_img(ax, tsne, img, idx_feature = 0, n_grid = 128, point_size = 2, alpha = 0.5):\n",
    "    \"\"\"plot images created from tsne\"\"\"\n",
    "    x   = tsne[:, 0]\n",
    "    y   = tsne[:, 1]\n",
    "    x_c = np.linspace(min(x), max(x), n_grid)\n",
    "    y_c = np.linspace(min(y), max(y), n_grid)\n",
    "    x_c, y_c = np.meshgrid(x_c, y_c)\n",
    "    #z_c = img[:,idx_feature] \n",
    "    z_c = img[idx_feature]\n",
    "    \n",
    "    ax.scatter(\n",
    "        x_c, y_c, c = z_c, \n",
    "        s=point_size, alpha=alpha, \n",
    "        cmap=plt.get_cmap('Blues'))"
   ]
  },
  {
   "cell_type": "markdown",
   "metadata": {},
   "source": [
    "# Design Pipeline"
   ]
  },
  {
   "cell_type": "code",
   "execution_count": null,
   "metadata": {},
   "outputs": [],
   "source": [
    "class Transform_subsampling(BaseEstimator, TransformerMixin):\n",
    "    def __init__(self, num_subsample = None, num_subsample_size = None, random_state = 0):\n",
    "        self.indices = None\n",
    "        self.num_subsample = num_subsample\n",
    "        self.num_subsample_size = num_subsample_size\n",
    "        \n",
    "    def fit(self, dat, y = None):\n",
    "        num_sample_sizes = dat.get_sample_size()     # array contain nrows of each sample\n",
    "        num_subsample = self.num_subsample           # number of subsample created\n",
    "        num_subsample_size = self.num_subsample_size # the size of each subsample\n",
    "        \n",
    "        self.indices = np.vstack([\n",
    "            \n",
    "            # generate indices of a subsample\n",
    "            random.randint(\n",
    "                low = 0,\n",
    "                high = num_sample_size, \n",
    "                size = num_subsample_size)\n",
    "            for num_sample_size in num_sample_sizes  # outter for loop: foreach sample\n",
    "            for _ in range(num_subsample)])          # inner  for loop: create subsamples\n",
    "        \n",
    "        return self\n",
    "\n",
    "    def transform(self, dat):\n",
    "        # initialization\n",
    "        lst_label  = []\n",
    "        lst_matrix = []\n",
    "        lst_coord  = []\n",
    "\n",
    "        for idx_sample in range(flow_data.get_num_sample()):\n",
    "            label  = flow_data.get_label(idx_sample)\n",
    "            sample = flow_data.get_sample(idx_sample)\n",
    "            coord  = flow_data.get_coord(idx_sample)\n",
    "        \n",
    "            for idx_subsample in range(num_subsample):\n",
    "                # get\n",
    "                idx = idx_sample + idx_subsample\n",
    "                mat1 = sample[indices[idx]]\n",
    "                mat2 = coord[indices[idx]]\n",
    "            \n",
    "                # store\n",
    "                lst_label.append(label)\n",
    "                lst_matrix.append(mat1)\n",
    "                lst_coord.append(mat2)\n",
    "        flow_data_new = Data_Wrapper(lst_matrix, lst_label, lst_coord)\n",
    "        return flow_data_new"
   ]
  },
  {
   "cell_type": "code",
   "execution_count": null,
   "metadata": {},
   "outputs": [],
   "source": []
  }
 ],
 "metadata": {
  "kernelspec": {
   "display_name": "Python 3",
   "language": "python",
   "name": "python3"
  },
  "language_info": {
   "codemirror_mode": {
    "name": "ipython",
    "version": 3
   },
   "file_extension": ".py",
   "mimetype": "text/x-python",
   "name": "python",
   "nbconvert_exporter": "python",
   "pygments_lexer": "ipython3",
   "version": "3.6.3"
  }
 },
 "nbformat": 4,
 "nbformat_minor": 2
}
