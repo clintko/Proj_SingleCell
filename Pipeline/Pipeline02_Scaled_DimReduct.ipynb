{
 "cells": [
  {
   "cell_type": "markdown",
   "metadata": {},
   "source": [
    "# Set Environment"
   ]
  },
  {
   "cell_type": "code",
   "execution_count": 120,
   "metadata": {},
   "outputs": [],
   "source": [
    "import numpy as np\n",
    "from numpy import random\n",
    "\n",
    "import copy\n",
    "from toolz import curry\n",
    "\n",
    "from sklearn.preprocessing import FunctionTransformer\n",
    "from sklearn.preprocessing import MinMaxScaler\n",
    "from sklearn.pipeline      import Pipeline, FeatureUnion\n",
    "from sklearn.decomposition import PCA\n",
    "from sklearn.base          import BaseEstimator, TransformerMixin\n",
    "\n",
    "import matplotlib.pyplot as plt"
   ]
  },
  {
   "cell_type": "markdown",
   "metadata": {},
   "source": [
    "### Initializing a test data"
   ]
  },
  {
   "cell_type": "code",
   "execution_count": 210,
   "metadata": {},
   "outputs": [
    {
     "name": "stdout",
     "output_type": "stream",
     "text": [
      "# Labels:  (2,)\n",
      "# Samples: (2,)\n",
      "===========================\n",
      "Sample 01: (4, 3)\n",
      "Sample 02: (5, 3)\n",
      "===========================\n",
      "Samples:\n",
      "\n",
      "[array([[ 1.72486301, -1.74161635, -1.60443276],\n",
      "       [ 0.47096821,  1.07675167, -0.58467308],\n",
      "       [-0.85483657, -0.57482064, -0.60647885],\n",
      "       [ 1.24821705, -1.66500948, -1.0301062 ]])\n",
      " array([[ 1.24460359,  1.29236521, -0.07777386],\n",
      "       [ 1.94157103,  0.53071106,  2.0030456 ],\n",
      "       [ 0.136027  ,  1.72157823,  0.33852869],\n",
      "       [ 1.19233839,  0.64058474,  0.33085767],\n",
      "       [-0.32593714, -0.38823698, -0.47930752]])]\n"
     ]
    }
   ],
   "source": [
    "N_SAMPLE = 2\n",
    "N_MARKER = 3\n",
    "N_ROW    = [4, 5]\n",
    "\n",
    "matrix = np.array([random.randn(nrow, N_MARKER) for nrow in N_ROW])\n",
    "label  = random.randint(low = 0, high = 2, size = N_SAMPLE)\n",
    "\n",
    "print(\"# Labels: \", label.shape)\n",
    "print(\"# Samples:\", matrix.shape)\n",
    "print(\"===========================\")\n",
    "print(\"Sample 01:\", matrix[0].shape)\n",
    "print(\"Sample 02:\", matrix[1].shape)\n",
    "print(\"===========================\")\n",
    "print(\"Samples:\\n\"); print(matrix)"
   ]
  },
  {
   "cell_type": "code",
   "execution_count": 217,
   "metadata": {},
   "outputs": [],
   "source": [
    "class Data_Wrapper:\n",
    "    \"\"\" A wrapper with data matrix (N, M_i, p) and data labels\n",
    "    N   = number of samples\n",
    "    M_i = number of observations / data points in the ith sample\n",
    "    p   = number of variables for all sample\n",
    "    Args:\n",
    "        matrix (N, M_i, p): data values\n",
    "        label  (N,):        labels\n",
    "        coord  (Sum(M_i)):  \n",
    "    \"\"\"\n",
    "    def __init__(self, matrix, label, coord = None):\n",
    "        \n",
    "        idx = [x.shape[0] for x in matrix]\n",
    "        idx = np.r_[0, idx]\n",
    "        idx = np.cumsum(idx)\n",
    "        \n",
    "        self.sample_idx = idx\n",
    "        self.matrix = np.vstack(matrix)\n",
    "        self.label  = label\n",
    "        self.coord  = coord\n",
    "        \n",
    "    def get_num_sample(self):\n",
    "        return self.label.shape[0]\n",
    "    \n",
    "    def get_num_variable(self):\n",
    "        return self.matrix.shape[1]\n",
    "    \n",
    "    def get_sample(self, k):\n",
    "        return self.matrix[self.sample_idx[k] : self.sample_idx[k + 1]] \n",
    "    \n",
    "    def get_label(self, k):\n",
    "        return self.label[k]\n",
    "    \n",
    "    def get_coord(self, k):\n",
    "        return self.coord[self.sample_idx[k] : self.sample_idx[k + 1]] \n",
    "    \n",
    "    def set_matrix(self, matrix):\n",
    "        assert self.matrix.shape == matrix.shape\n",
    "        self.matrix = matrix\n",
    "    \n",
    "    def set_coord(self, coord):\n",
    "        # Check to make sure coord has the same number of samples\n",
    "        assert self.matrix.shape[0] == coord.shape[0]\n",
    "        self.coord = coord\n",
    "    #def copy(self):\n",
    "    #    self_copy = Data_wrapper(copy.copy(self.matrix), copy.copy(self.label))\n",
    "    #    return self_copy"
   ]
  },
  {
   "cell_type": "code",
   "execution_count": 218,
   "metadata": {},
   "outputs": [],
   "source": [
    "flow_data = Data_Wrapper(matrix, label)"
   ]
  },
  {
   "cell_type": "markdown",
   "metadata": {},
   "source": [
    "# Design transformer"
   ]
  },
  {
   "cell_type": "code",
   "execution_count": 219,
   "metadata": {},
   "outputs": [],
   "source": [
    "class Transform_MinMaxScaler(BaseEstimator, TransformerMixin):\n",
    "    def __init__(self, k = 0):\n",
    "        self.x_min = 0\n",
    "        self.x_max = 1\n",
    "        self.k     = k\n",
    "        \n",
    "    def fit(self, dat, y = None):\n",
    "        x_selected = dat.get_sample(self.k)\n",
    "        self.x_min = np.apply_along_axis(np.min, 0, x_selected)\n",
    "        self.x_max = np.apply_along_axis(np.max, 0, x_selected)\n",
    "        return self\n",
    "\n",
    "    def transform(self, dat):\n",
    "        dat_copy = copy.deepcopy(dat)\n",
    "        dat_copy.set_matrix((dat.matrix - self.x_min) / (self.x_max - self.x_min))\n",
    "        return dat_copy"
   ]
  },
  {
   "cell_type": "markdown",
   "metadata": {},
   "source": [
    "try to transform by myself"
   ]
  },
  {
   "cell_type": "code",
   "execution_count": 220,
   "metadata": {},
   "outputs": [
    {
     "name": "stdout",
     "output_type": "stream",
     "text": [
      "[[ 1.72486301 -1.74161635 -1.60443276]\n",
      " [ 0.47096821  1.07675167 -0.58467308]\n",
      " [-0.85483657 -0.57482064 -0.60647885]\n",
      " [ 1.24821705 -1.66500948 -1.0301062 ]\n",
      " [ 1.24460359  1.29236521 -0.07777386]\n",
      " [ 1.94157103  0.53071106  2.0030456 ]\n",
      " [ 0.136027    1.72157823  0.33852869]\n",
      " [ 1.19233839  0.64058474  0.33085767]\n",
      " [-0.32593714 -0.38823698 -0.47930752]]\n",
      "======================================\n",
      "[[ 1.72486301 -1.74161635 -1.60443276]\n",
      " [ 0.47096821  1.07675167 -0.58467308]\n",
      " [-0.85483657 -0.57482064 -0.60647885]\n",
      " [ 1.24821705 -1.66500948 -1.0301062 ]]\n",
      "======================================\n",
      "[[1.         0.         0.        ]\n",
      " [0.51393767 1.         1.        ]\n",
      " [0.         0.41399693 0.97861675]\n",
      " [0.81523199 0.02718129 0.56319795]\n",
      " [0.81383126 1.07650297 1.49707713]\n",
      " [1.08400514 0.80625646 3.53757698]\n",
      " [0.38410037 1.22879431 1.90531308]\n",
      " [0.79357107 0.84524131 1.89779069]\n",
      " [0.20502365 0.48019966 1.10332391]]\n"
     ]
    }
   ],
   "source": [
    "flow_data = Data_Wrapper(matrix, label)\n",
    "x_selected = flow_data.get_sample(0)\n",
    "print(flow_data.matrix)\n",
    "print(\"======================================\")\n",
    "print(x_selected)\n",
    "print(\"======================================\")\n",
    "x_min = np.apply_along_axis(np.min, 0, x_selected)\n",
    "x_max = np.apply_along_axis(np.max, 0, x_selected)\n",
    "print((flow_data.matrix - x_min) / (x_max - x_min))"
   ]
  },
  {
   "cell_type": "markdown",
   "metadata": {},
   "source": [
    "try transform using transfomer"
   ]
  },
  {
   "cell_type": "code",
   "execution_count": 221,
   "metadata": {},
   "outputs": [],
   "source": [
    "pipe = Pipeline([\n",
    "    (\"Scaler\", Transform_MinMaxScaler())\n",
    "]) # end Pipeline\n",
    "\n",
    "pipe.fit(flow_data)\n",
    "tmp = pipe.transform(flow_data)"
   ]
  },
  {
   "cell_type": "code",
   "execution_count": 222,
   "metadata": {},
   "outputs": [
    {
     "name": "stdout",
     "output_type": "stream",
     "text": [
      "[[ 1.72486301 -1.74161635 -1.60443276]\n",
      " [ 0.47096821  1.07675167 -0.58467308]\n",
      " [-0.85483657 -0.57482064 -0.60647885]\n",
      " [ 1.24821705 -1.66500948 -1.0301062 ]\n",
      " [ 1.24460359  1.29236521 -0.07777386]\n",
      " [ 1.94157103  0.53071106  2.0030456 ]\n",
      " [ 0.136027    1.72157823  0.33852869]\n",
      " [ 1.19233839  0.64058474  0.33085767]\n",
      " [-0.32593714 -0.38823698 -0.47930752]]\n",
      "======================================\n",
      "[[1.         0.         0.        ]\n",
      " [0.51393767 1.         1.        ]\n",
      " [0.         0.41399693 0.97861675]\n",
      " [0.81523199 0.02718129 0.56319795]\n",
      " [0.81383126 1.07650297 1.49707713]\n",
      " [1.08400514 0.80625646 3.53757698]\n",
      " [0.38410037 1.22879431 1.90531308]\n",
      " [0.79357107 0.84524131 1.89779069]\n",
      " [0.20502365 0.48019966 1.10332391]]\n"
     ]
    }
   ],
   "source": [
    "print(flow_data.matrix)\n",
    "print(\"======================================\")\n",
    "print(tmp.matrix)"
   ]
  },
  {
   "cell_type": "markdown",
   "metadata": {},
   "source": [
    "-----"
   ]
  },
  {
   "cell_type": "markdown",
   "metadata": {},
   "source": [
    "# Dimensional reduction"
   ]
  },
  {
   "cell_type": "code",
   "execution_count": 223,
   "metadata": {},
   "outputs": [],
   "source": [
    "class Transform_PCA(BaseEstimator, TransformerMixin):\n",
    "    def __init__(self):\n",
    "        pass\n",
    "    \n",
    "    def fit(self, dat, y = None):\n",
    "        self.pca = PCA(n_components = 2)\n",
    "        self.pca.fit(dat.matrix)          \n",
    "        return self\n",
    "\n",
    "    def transform(self, dat):\n",
    "        dat_copy = copy.deepcopy(dat)\n",
    "        dat_copy.set_coord(pca.transform(dat.matrix))\n",
    "        return dat_copy"
   ]
  },
  {
   "cell_type": "markdown",
   "metadata": {},
   "source": [
    "### transform manually"
   ]
  },
  {
   "cell_type": "code",
   "execution_count": 224,
   "metadata": {},
   "outputs": [
    {
     "data": {
      "text/plain": [
       "array([[ 2.29070887,  0.91217267],\n",
       "       [-0.54835753, -0.65795579],\n",
       "       [ 0.83746131, -1.39978021],\n",
       "       [ 1.90462973,  0.65434963],\n",
       "       [-1.0441931 ,  0.14849587],\n",
       "       [-1.67616529,  1.6851859 ],\n",
       "       [-1.60301413, -0.82916529],\n",
       "       [-0.75718735,  0.41957691],\n",
       "       [ 0.59611749, -0.93287969]])"
      ]
     },
     "execution_count": 224,
     "metadata": {},
     "output_type": "execute_result"
    }
   ],
   "source": [
    "pca = PCA(n_components = 2)\n",
    "pca.fit(flow_data.matrix)\n",
    "pca.transform(flow_data.matrix)"
   ]
  },
  {
   "cell_type": "markdown",
   "metadata": {},
   "source": [
    "### try transformer"
   ]
  },
  {
   "cell_type": "code",
   "execution_count": 227,
   "metadata": {},
   "outputs": [],
   "source": [
    "pipe_DimRed = Pipeline([\n",
    "    (\"PCA\",    Transform_PCA())\n",
    "]) # end Pipeline\n",
    "\n",
    "pipe_DimRed.fit(flow_data)\n",
    "tmp = pipe_DimRed.transform(flow_data)"
   ]
  },
  {
   "cell_type": "code",
   "execution_count": 229,
   "metadata": {},
   "outputs": [
    {
     "name": "stdout",
     "output_type": "stream",
     "text": [
      "[[ 1.72486301 -1.74161635 -1.60443276]\n",
      " [ 0.47096821  1.07675167 -0.58467308]\n",
      " [-0.85483657 -0.57482064 -0.60647885]\n",
      " [ 1.24821705 -1.66500948 -1.0301062 ]\n",
      " [ 1.24460359  1.29236521 -0.07777386]\n",
      " [ 1.94157103  0.53071106  2.0030456 ]\n",
      " [ 0.136027    1.72157823  0.33852869]\n",
      " [ 1.19233839  0.64058474  0.33085767]\n",
      " [-0.32593714 -0.38823698 -0.47930752]]\n",
      "======================================\n",
      "[[ 2.29070887  0.91217267]\n",
      " [-0.54835753 -0.65795579]\n",
      " [ 0.83746131 -1.39978021]\n",
      " [ 1.90462973  0.65434963]\n",
      " [-1.0441931   0.14849587]\n",
      " [-1.67616529  1.6851859 ]\n",
      " [-1.60301413 -0.82916529]\n",
      " [-0.75718735  0.41957691]\n",
      " [ 0.59611749 -0.93287969]]\n"
     ]
    }
   ],
   "source": [
    "print(flow_data.matrix)\n",
    "print(\"======================================\")\n",
    "print(tmp.coord)"
   ]
  },
  {
   "cell_type": "markdown",
   "metadata": {},
   "source": [
    "# Combine both"
   ]
  },
  {
   "cell_type": "markdown",
   "metadata": {},
   "source": [
    "### Transform and reduce manually"
   ]
  },
  {
   "cell_type": "code",
   "execution_count": 230,
   "metadata": {},
   "outputs": [
    {
     "name": "stdout",
     "output_type": "stream",
     "text": [
      "data matrix\n",
      "[[ 1.72486301 -1.74161635 -1.60443276]\n",
      " [ 0.47096821  1.07675167 -0.58467308]\n",
      " [-0.85483657 -0.57482064 -0.60647885]\n",
      " [ 1.24821705 -1.66500948 -1.0301062 ]\n",
      " [ 1.24460359  1.29236521 -0.07777386]\n",
      " [ 1.94157103  0.53071106  2.0030456 ]\n",
      " [ 0.136027    1.72157823  0.33852869]\n",
      " [ 1.19233839  0.64058474  0.33085767]\n",
      " [-0.32593714 -0.38823698 -0.47930752]]\n",
      "======================================\n",
      "select one sample\n",
      "[[ 1.72486301 -1.74161635 -1.60443276]\n",
      " [ 0.47096821  1.07675167 -0.58467308]\n",
      " [-0.85483657 -0.57482064 -0.60647885]\n",
      " [ 1.24821705 -1.66500948 -1.0301062 ]]\n",
      "======================================\n",
      "scaled data matrix\n",
      "[[1.         0.         0.        ]\n",
      " [0.51393767 1.         1.        ]\n",
      " [0.         0.41399693 0.97861675]\n",
      " [0.81523199 0.02718129 0.56319795]\n",
      " [0.81383126 1.07650297 1.49707713]\n",
      " [1.08400514 0.80625646 3.53757698]\n",
      " [0.38410037 1.22879431 1.90531308]\n",
      " [0.79357107 0.84524131 1.89779069]\n",
      " [0.20502365 0.48019966 1.10332391]]\n",
      "======================================\n",
      "Dimension reduction\n",
      "[[-1.48046602  0.52700593]\n",
      " [-0.27866885 -0.35311761]\n",
      " [-0.5093928  -0.37322502]\n",
      " [-0.95026639  0.44047915]\n",
      " [ 0.24222947 -0.11094225]\n",
      " [ 2.13413552  0.52487341]\n",
      " [ 0.64042898 -0.48303633]\n",
      " [ 0.55659479  0.07170336]\n",
      " [-0.3545947  -0.24374064]]\n"
     ]
    }
   ],
   "source": [
    "flow_data = Data_Wrapper(matrix, label)\n",
    "x_selected = flow_data.get_sample(0)\n",
    "\n",
    "print(\"data matrix\")\n",
    "print(flow_data.matrix)\n",
    "print(\"======================================\")\n",
    "print(\"select one sample\")\n",
    "print(x_selected)\n",
    "print(\"======================================\")\n",
    "print(\"scaled data matrix\")\n",
    "x_min = np.apply_along_axis(np.min, 0, x_selected)\n",
    "x_max = np.apply_along_axis(np.max, 0, x_selected)\n",
    "x_scaled = (flow_data.matrix - x_min) / (x_max - x_min)\n",
    "print(x_scaled)\n",
    "print(\"======================================\")\n",
    "print(\"Dimension reduction\")\n",
    "pca = PCA(n_components = 2)\n",
    "print(pca.fit_transform(x_scaled))"
   ]
  },
  {
   "cell_type": "markdown",
   "metadata": {},
   "source": [
    "### Transform using pipeline"
   ]
  },
  {
   "cell_type": "code",
   "execution_count": 232,
   "metadata": {},
   "outputs": [
    {
     "name": "stdout",
     "output_type": "stream",
     "text": [
      "<__main__.Data_Wrapper object at 0x7f32a810c518>\n"
     ]
    }
   ],
   "source": [
    "pipe = Pipeline([\n",
    "    (\"Scaler\", Transform_MinMaxScaler()), \n",
    "    (\"PCA\",    Transform_PCA())\n",
    "]) # end Pipeline\n",
    "\n",
    "pipe.fit(flow_data)\n",
    "tmp = pipe.transform(flow_data)"
   ]
  },
  {
   "cell_type": "code",
   "execution_count": 233,
   "metadata": {},
   "outputs": [
    {
     "name": "stdout",
     "output_type": "stream",
     "text": [
      "[[ 1.72486301 -1.74161635 -1.60443276]\n",
      " [ 0.47096821  1.07675167 -0.58467308]\n",
      " [-0.85483657 -0.57482064 -0.60647885]\n",
      " [ 1.24821705 -1.66500948 -1.0301062 ]\n",
      " [ 1.24460359  1.29236521 -0.07777386]\n",
      " [ 1.94157103  0.53071106  2.0030456 ]\n",
      " [ 0.136027    1.72157823  0.33852869]\n",
      " [ 1.19233839  0.64058474  0.33085767]\n",
      " [-0.32593714 -0.38823698 -0.47930752]]\n",
      "======================================\n",
      "[[1.         0.         0.        ]\n",
      " [0.51393767 1.         1.        ]\n",
      " [0.         0.41399693 0.97861675]\n",
      " [0.81523199 0.02718129 0.56319795]\n",
      " [0.81383126 1.07650297 1.49707713]\n",
      " [1.08400514 0.80625646 3.53757698]\n",
      " [0.38410037 1.22879431 1.90531308]\n",
      " [0.79357107 0.84524131 1.89779069]\n",
      " [0.20502365 0.48019966 1.10332391]]\n",
      "======================================\n",
      "[[-1.48046602  0.52700593]\n",
      " [-0.27866885 -0.35311761]\n",
      " [-0.5093928  -0.37322502]\n",
      " [-0.95026639  0.44047915]\n",
      " [ 0.24222947 -0.11094225]\n",
      " [ 2.13413552  0.52487341]\n",
      " [ 0.64042898 -0.48303633]\n",
      " [ 0.55659479  0.07170336]\n",
      " [-0.3545947  -0.24374064]]\n"
     ]
    }
   ],
   "source": [
    "print(flow_data.matrix)\n",
    "print(\"======================================\")\n",
    "print(tmp.matrix)\n",
    "print(\"======================================\")\n",
    "print(tmp.coord)"
   ]
  }
 ],
 "metadata": {
  "kernelspec": {
   "display_name": "Python 3",
   "language": "python",
   "name": "python3"
  },
  "language_info": {
   "codemirror_mode": {
    "name": "ipython",
    "version": 3
   },
   "file_extension": ".py",
   "mimetype": "text/x-python",
   "name": "python",
   "nbconvert_exporter": "python",
   "pygments_lexer": "ipython3",
   "version": "3.6.3"
  }
 },
 "nbformat": 4,
 "nbformat_minor": 2
}
