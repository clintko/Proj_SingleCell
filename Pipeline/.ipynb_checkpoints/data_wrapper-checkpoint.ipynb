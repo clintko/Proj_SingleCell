{
 "cells": [
  {
   "cell_type": "code",
   "execution_count": 4,
   "metadata": {},
   "outputs": [],
   "source": [
    "import numpy as np\n",
    "from numpy import random"
   ]
  },
  {
   "cell_type": "code",
   "execution_count": 5,
   "metadata": {},
   "outputs": [],
   "source": [
    "class Data_Wrapper:\n",
    "    \"\"\"\n",
    "    \"\"\"\n",
    "    def __init__(self, matrix, label):\n",
    "        \n",
    "        idx = [x.shape[0] for x in matrix]\n",
    "        idx = np.r_[0, idx]\n",
    "        idx = np.cumsum(idx)\n",
    "        \n",
    "        self.sample_idx = idx\n",
    "        self.matrix = np.vstack(matrix)\n",
    "        self.label  = label\n",
    "        self.n_variable = self.matrix.shape[1]\n",
    "        \n",
    "    def get_sample(self, k):\n",
    "        return self.matrix[self.sample_idx[k] : self.sample_idx[k + 1]] "
   ]
  },
  {
   "cell_type": "code",
   "execution_count": 6,
   "metadata": {},
   "outputs": [],
   "source": [
    "nrows = [3, 4, 5]\n",
    "tmp_mat = np.array([random.randn(nrow, 3) for nrow in nrows])\n",
    "tmp_lab = [0, 1, 0]\n",
    "flow_data = Data_Wrapper(tmp_mat, tmp_lab)"
   ]
  },
  {
   "cell_type": "code",
   "execution_count": 7,
   "metadata": {},
   "outputs": [
    {
     "name": "stdout",
     "output_type": "stream",
     "text": [
      "[array([[-0.855635  ,  2.02507782,  0.70961544],\n",
      "       [ 0.33533399, -0.09367821,  0.53134735],\n",
      "       [ 1.52150254, -0.81689694,  0.36649753]])\n",
      " array([[ 0.37796645,  0.44755345, -0.70986377],\n",
      "       [-0.56872691,  0.72012443,  0.05841695],\n",
      "       [ 0.21465511, -0.827472  , -1.22733798],\n",
      "       [ 1.15792441, -1.42678017,  0.228354  ]])\n",
      " array([[ 0.52009717,  0.32988569,  0.14314417],\n",
      "       [-0.50027038, -0.20990933,  0.42627388],\n",
      "       [ 0.80879327,  1.89252201, -0.43886967],\n",
      "       [-0.45113955, -0.38043389, -0.15755055],\n",
      "       [-0.67980216,  0.41672869,  2.06741694]])]\n",
      "=====================\n",
      "[[-0.855635    2.02507782  0.70961544]\n",
      " [ 0.33533399 -0.09367821  0.53134735]\n",
      " [ 1.52150254 -0.81689694  0.36649753]\n",
      " [ 0.37796645  0.44755345 -0.70986377]\n",
      " [-0.56872691  0.72012443  0.05841695]\n",
      " [ 0.21465511 -0.827472   -1.22733798]\n",
      " [ 1.15792441 -1.42678017  0.228354  ]\n",
      " [ 0.52009717  0.32988569  0.14314417]\n",
      " [-0.50027038 -0.20990933  0.42627388]\n",
      " [ 0.80879327  1.89252201 -0.43886967]\n",
      " [-0.45113955 -0.38043389 -0.15755055]\n",
      " [-0.67980216  0.41672869  2.06741694]]\n",
      "=====================\n",
      "(12, 3)\n",
      "=====================\n",
      "3\n",
      "=====================\n",
      "[ 0  3  7 12]\n",
      "=====================\n",
      "[[-0.855635    2.02507782  0.70961544]\n",
      " [ 0.33533399 -0.09367821  0.53134735]\n",
      " [ 1.52150254 -0.81689694  0.36649753]]\n",
      "=====================\n",
      "[[ 0.37796645  0.44755345 -0.70986377]\n",
      " [-0.56872691  0.72012443  0.05841695]\n",
      " [ 0.21465511 -0.827472   -1.22733798]\n",
      " [ 1.15792441 -1.42678017  0.228354  ]]\n",
      "=====================\n",
      "[[ 0.52009717  0.32988569  0.14314417]\n",
      " [-0.50027038 -0.20990933  0.42627388]\n",
      " [ 0.80879327  1.89252201 -0.43886967]\n",
      " [-0.45113955 -0.38043389 -0.15755055]\n",
      " [-0.67980216  0.41672869  2.06741694]]\n"
     ]
    }
   ],
   "source": [
    "print(tmp_mat)\n",
    "print(\"=====================\")\n",
    "print(flow_data.matrix)\n",
    "print(\"=====================\")\n",
    "print(flow_data.matrix.shape)\n",
    "print(\"=====================\")\n",
    "print(flow_data.n_variable)\n",
    "print(\"=====================\")\n",
    "print(flow_data.sample_idx)\n",
    "print(\"=====================\")\n",
    "print(flow_data.get_sample(0))\n",
    "print(\"=====================\")\n",
    "print(flow_data.get_sample(1))\n",
    "print(\"=====================\")\n",
    "print(flow_data.get_sample(2))"
   ]
  },
  {
   "cell_type": "code",
   "execution_count": null,
   "metadata": {},
   "outputs": [],
   "source": []
  },
  {
   "cell_type": "code",
   "execution_count": null,
   "metadata": {},
   "outputs": [],
   "source": []
  }
 ],
 "metadata": {
  "kernelspec": {
   "display_name": "Python 3",
   "language": "python",
   "name": "python3"
  },
  "language_info": {
   "codemirror_mode": {
    "name": "ipython",
    "version": 3
   },
   "file_extension": ".py",
   "mimetype": "text/x-python",
   "name": "python",
   "nbconvert_exporter": "python",
   "pygments_lexer": "ipython3",
   "version": "3.6.3"
  }
 },
 "nbformat": 4,
 "nbformat_minor": 2
}
