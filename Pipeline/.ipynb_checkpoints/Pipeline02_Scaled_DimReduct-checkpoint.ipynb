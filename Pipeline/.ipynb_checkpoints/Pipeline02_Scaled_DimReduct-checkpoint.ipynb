{
 "cells": [
  {
   "cell_type": "code",
   "execution_count": 120,
   "metadata": {},
   "outputs": [],
   "source": [
    "import numpy as np\n",
    "from numpy import random\n",
    "\n",
    "import copy\n",
    "from toolz import curry\n",
    "\n",
    "from sklearn.preprocessing import FunctionTransformer\n",
    "from sklearn.preprocessing import MinMaxScaler\n",
    "from sklearn.pipeline      import Pipeline, FeatureUnion\n",
    "from sklearn.decomposition import PCA\n",
    "from sklearn.base          import BaseEstimator, TransformerMixin\n",
    "\n",
    "import matplotlib.pyplot as plt"
   ]
  },
  {
   "cell_type": "code",
   "execution_count": 155,
   "metadata": {},
   "outputs": [
    {
     "name": "stdout",
     "output_type": "stream",
     "text": [
      "# Labels:  (2,)\n",
      "# Samples: (2,)\n",
      "===========================\n",
      "Sample 01: (4, 3)\n",
      "Sample 02: (5, 3)\n",
      "===========================\n",
      "Samples:\n",
      "\n",
      "[array([[-0.3635574 ,  0.42167195, -0.41792284],\n",
      "       [-0.5740922 , -0.57360284, -0.39873352],\n",
      "       [ 0.29392975, -0.3097114 , -0.37262199],\n",
      "       [ 0.24550633,  1.53278596, -0.19830045]])\n",
      " array([[ 0.84823766, -1.11282407,  1.11572724],\n",
      "       [ 1.67877408,  0.66214016, -1.56027171],\n",
      "       [-1.73480624, -0.83291109, -1.65652   ],\n",
      "       [-0.11422291, -1.05040769,  0.7165132 ],\n",
      "       [-1.4656596 , -0.32292487,  0.65447603]])]\n"
     ]
    }
   ],
   "source": [
    "N_SAMPLE = 2\n",
    "N_MARKER = 3\n",
    "N_ROW    = [4, 5]\n",
    "\n",
    "matrix = np.array([random.randn(nrow, N_MARKER) for nrow in N_ROW])\n",
    "label  = random.randint(low = 0, high = 2, size = N_SAMPLE)\n",
    "\n",
    "print(\"# Labels: \", label.shape)\n",
    "print(\"# Samples:\", matrix.shape)\n",
    "print(\"===========================\")\n",
    "print(\"Sample 01:\", matrix[0].shape)\n",
    "print(\"Sample 02:\", matrix[1].shape)\n",
    "print(\"===========================\")\n",
    "print(\"Samples:\\n\"); print(matrix)"
   ]
  },
  {
   "cell_type": "code",
   "execution_count": 138,
   "metadata": {},
   "outputs": [],
   "source": [
    "class Data_Wrapper:\n",
    "    \"\"\" A wrapper with data matrix (n, M_i, p) and data labels\n",
    "    N   = number of samples\n",
    "    M_i = number of observations / data points in the ith sample\n",
    "    p   = number of variables for all sample\n",
    "    \n",
    "    matrix\n",
    "    label\n",
    "    coord\n",
    "    \"\"\"\n",
    "    def __init__(self, matrix, label, coord = None):\n",
    "        \n",
    "        idx = [x.shape[0] for x in matrix]\n",
    "        idx = np.r_[0, idx]\n",
    "        idx = np.cumsum(idx)\n",
    "        \n",
    "        self.sample_idx = idx\n",
    "        self.matrix = np.vstack(matrix)\n",
    "        self.label  = label\n",
    "        self.coord  = coord\n",
    "        \n",
    "    def get_num_sample(self):\n",
    "        return self.label.shape[0]\n",
    "    \n",
    "    def get_num_variable(self):\n",
    "        return self.matrix.shape[1]\n",
    "    \n",
    "    def get_sample(self, k):\n",
    "        return self.matrix[self.sample_idx[k] : self.sample_idx[k + 1]] \n",
    "    \n",
    "    def get_label(self, k):\n",
    "        return self.label[k]\n",
    "    \n",
    "    def get_coord(self, k):\n",
    "        return self.coord[self.sample_idx[k] : self.sample_idx[k + 1]] \n",
    "    \n",
    "    def set_matrix(self, matrix):\n",
    "        assert self.matrix.shape == matrix.shape\n",
    "        self.matrix = matrix\n",
    "    \n",
    "    def set_coord(self, coord):\n",
    "        # Check to make sure coord has the same number of samples\n",
    "        assert self.matrix.shape[0] == coord.shape[0]\n",
    "        self.coord = coord\n",
    "    #def copy(self):\n",
    "    #    self_copy = Data_wrapper(copy.copy(self.matrix), copy.copy(self.label))\n",
    "    #    return self_copy"
   ]
  },
  {
   "cell_type": "code",
   "execution_count": 158,
   "metadata": {},
   "outputs": [
    {
     "data": {
      "text/plain": [
       "10"
      ]
     },
     "execution_count": 158,
     "metadata": {},
     "output_type": "execute_result"
    }
   ],
   "source": [
    "np.arange(10).shape[0]"
   ]
  },
  {
   "cell_type": "code",
   "execution_count": 130,
   "metadata": {},
   "outputs": [],
   "source": [
    "flow_data = Data_Wrapper(matrix, label)"
   ]
  },
  {
   "cell_type": "code",
   "execution_count": 137,
   "metadata": {},
   "outputs": [
    {
     "data": {
      "text/plain": [
       "True"
      ]
     },
     "execution_count": 137,
     "metadata": {},
     "output_type": "execute_result"
    }
   ],
   "source": [
    "(1, 2) == (1, 2)"
   ]
  },
  {
   "cell_type": "markdown",
   "metadata": {},
   "source": [
    "# Design transformer"
   ]
  },
  {
   "cell_type": "code",
   "execution_count": 145,
   "metadata": {},
   "outputs": [],
   "source": [
    "class Transform_MinMaxScaler(BaseEstimator, TransformerMixin):\n",
    "    def __init__(self, k = 0):\n",
    "        self.x_min = 0\n",
    "        self.x_max = 1\n",
    "        self.k     = k\n",
    "        \n",
    "    def fit(self, dat, y = None):\n",
    "        x_selected = dat.get_sample(self.k)\n",
    "        self.x_min = np.apply_along_axis(np.min, 0, x_selected)\n",
    "        self.x_max = np.apply_along_axis(np.max, 0, x_selected)\n",
    "        return self\n",
    "\n",
    "    def transform(self, dat):\n",
    "        dat_copy = copy.deepcopy(dat)\n",
    "        dat_copy.set_matrix((dat.matrix - self.x_min) / (self.x_max - self.x_min))\n",
    "        return dat_copy"
   ]
  },
  {
   "cell_type": "markdown",
   "metadata": {},
   "source": [
    "try to transform by myself"
   ]
  },
  {
   "cell_type": "code",
   "execution_count": 163,
   "metadata": {},
   "outputs": [
    {
     "name": "stdout",
     "output_type": "stream",
     "text": [
      "[[-0.3635574   0.42167195 -0.41792284]\n",
      " [-0.5740922  -0.57360284 -0.39873352]\n",
      " [ 0.29392975 -0.3097114  -0.37262199]\n",
      " [ 0.24550633  1.53278596 -0.19830045]\n",
      " [ 0.84823766 -1.11282407  1.11572724]\n",
      " [ 1.67877408  0.66214016 -1.56027171]\n",
      " [-1.73480624 -0.83291109 -1.65652   ]\n",
      " [-0.11422291 -1.05040769  0.7165132 ]\n",
      " [-1.4656596  -0.32292487  0.65447603]]\n",
      "======================================\n",
      "[[-0.3635574   0.42167195 -0.41792284]\n",
      " [-0.5740922  -0.57360284 -0.39873352]\n",
      " [ 0.29392975 -0.3097114  -0.37262199]\n",
      " [ 0.24550633  1.53278596 -0.19830045]]\n",
      "======================================\n",
      "[[ 0.24254548  0.47250289  0.        ]\n",
      " [ 0.          0.          0.08737418]\n",
      " [ 1.          0.12528145  0.20626698]\n",
      " [ 0.94421406  1.          1.        ]\n",
      " [ 1.63858745 -0.25599321  6.98312252]\n",
      " [ 2.59540244  0.58666425 -5.20142255]\n",
      " [-1.33719436 -0.12310559 -5.63966693]\n",
      " [ 0.52978993 -0.22636127  5.16539331]\n",
      " [-1.02712542  0.1190084   4.88292134]]\n"
     ]
    }
   ],
   "source": [
    "flow_data = Data_Wrapper(matrix, label)\n",
    "x_selected = flow_data.get_sample(0)\n",
    "print(flow_data.matrix)\n",
    "print(\"======================================\")\n",
    "print(x_selected)\n",
    "print(\"======================================\")\n",
    "x_min = np.apply_along_axis(np.min, 0, x_selected)\n",
    "x_max = np.apply_along_axis(np.max, 0, x_selected)\n",
    "print((flow_data.matrix - x_min) / (x_max - x_min))"
   ]
  },
  {
   "cell_type": "markdown",
   "metadata": {},
   "source": [
    "try transform using transfomer"
   ]
  },
  {
   "cell_type": "code",
   "execution_count": 149,
   "metadata": {},
   "outputs": [],
   "source": [
    "pipe = Pipeline([\n",
    "    (\"Scaler\", Transform_MinMaxScaler())\n",
    "]) # end Pipeline\n",
    "\n",
    "pipe.fit(flow_data)\n",
    "tmp = pipe.transform(flow_data)"
   ]
  },
  {
   "cell_type": "code",
   "execution_count": 164,
   "metadata": {},
   "outputs": [
    {
     "name": "stdout",
     "output_type": "stream",
     "text": [
      "[[-0.3635574   0.42167195 -0.41792284]\n",
      " [-0.5740922  -0.57360284 -0.39873352]\n",
      " [ 0.29392975 -0.3097114  -0.37262199]\n",
      " [ 0.24550633  1.53278596 -0.19830045]\n",
      " [ 0.84823766 -1.11282407  1.11572724]\n",
      " [ 1.67877408  0.66214016 -1.56027171]\n",
      " [-1.73480624 -0.83291109 -1.65652   ]\n",
      " [-0.11422291 -1.05040769  0.7165132 ]\n",
      " [-1.4656596  -0.32292487  0.65447603]]\n",
      "======================================\n",
      "[[ 0.          1.          0.69591158]\n",
      " [ 0.4406594   0.          0.        ]\n",
      " [ 1.          0.96257408  0.30737942]\n",
      " [ 0.32450718  0.58541438  1.        ]\n",
      " [ 0.09921739  0.59040545 -0.04112325]\n",
      " [ 0.78066093  0.06979367  0.33845644]\n",
      " [ 0.67998849 -0.26704964 -0.5599621 ]\n",
      " [ 0.38211138  0.12318218 -0.6056701 ]\n",
      " [ 1.00530039  0.61730762  0.15311992]]\n"
     ]
    }
   ],
   "source": [
    "print(flow_data.matrix)\n",
    "print(\"======================================\")\n",
    "print(tmp.matrix)"
   ]
  },
  {
   "cell_type": "markdown",
   "metadata": {},
   "source": [
    "-----"
   ]
  },
  {
   "cell_type": "markdown",
   "metadata": {},
   "source": [
    "# Dimensional reduction"
   ]
  },
  {
   "cell_type": "markdown",
   "metadata": {},
   "source": [
    "### transform manually"
   ]
  },
  {
   "cell_type": "code",
   "execution_count": 200,
   "metadata": {},
   "outputs": [
    {
     "data": {
      "text/plain": [
       "array([[ 0.22871517,  0.42414595],\n",
       "       [-0.49750018,  0.27718279],\n",
       "       [ 0.2906834 , -0.16380167],\n",
       "       [ 1.23421408,  0.18831937],\n",
       "       [-0.27124459, -1.85063388],\n",
       "       [ 2.2906546 ,  0.24098829],\n",
       "       [-1.06953362,  1.85533047],\n",
       "       [-0.81471208, -0.98037242],\n",
       "       [-1.39127678,  0.0088411 ]])"
      ]
     },
     "execution_count": 200,
     "metadata": {},
     "output_type": "execute_result"
    }
   ],
   "source": [
    "pca = PCA(n_components = 2)\n",
    "pca.fit(flow_data.matrix)\n",
    "pca.transform(flow_data.matrix)"
   ]
  },
  {
   "cell_type": "markdown",
   "metadata": {},
   "source": [
    "### try transformer"
   ]
  },
  {
   "cell_type": "code",
   "execution_count": 204,
   "metadata": {},
   "outputs": [],
   "source": [
    "class Transform_PCA(BaseEstimator, TransformerMixin):\n",
    "    def __init__(self):\n",
    "        pass\n",
    "    \n",
    "    def fit(self, dat, y = None):\n",
    "        self.pca = PCA(n_components = 2)\n",
    "        self.pca.fit(dat.matrix)          \n",
    "        return self\n",
    "\n",
    "    def transform(self, dat):\n",
    "        return self.pca.transform(dat.matrix)"
   ]
  },
  {
   "cell_type": "code",
   "execution_count": 205,
   "metadata": {},
   "outputs": [],
   "source": [
    "pipe_DimRed = Pipeline([\n",
    "    #(\"Scaler\", Transform_MinMaxScaler()), \n",
    "    (\"PCA\",    Transform_PCA())\n",
    "]) # end Pipeline"
   ]
  },
  {
   "cell_type": "code",
   "execution_count": 206,
   "metadata": {},
   "outputs": [
    {
     "name": "stdout",
     "output_type": "stream",
     "text": [
      "[[ 0.22871517  0.42414595]\n",
      " [-0.49750018  0.27718279]\n",
      " [ 0.2906834  -0.16380167]\n",
      " [ 1.23421408  0.18831937]\n",
      " [-0.27124459 -1.85063388]\n",
      " [ 2.2906546   0.24098829]\n",
      " [-1.06953362  1.85533047]\n",
      " [-0.81471208 -0.98037242]\n",
      " [-1.39127678  0.0088411 ]]\n"
     ]
    }
   ],
   "source": [
    "pipe_DimRed.fit(flow_data)\n",
    "tmp = pipe_DimRed.transform(flow_data)\n",
    "print(tmp)"
   ]
  },
  {
   "cell_type": "markdown",
   "metadata": {},
   "source": [
    "# Combine both"
   ]
  },
  {
   "cell_type": "markdown",
   "metadata": {},
   "source": [
    "### Transform manually"
   ]
  },
  {
   "cell_type": "code",
   "execution_count": 209,
   "metadata": {},
   "outputs": [
    {
     "name": "stdout",
     "output_type": "stream",
     "text": [
      "[[-0.3635574   0.42167195 -0.41792284]\n",
      " [-0.5740922  -0.57360284 -0.39873352]\n",
      " [ 0.29392975 -0.3097114  -0.37262199]\n",
      " [ 0.24550633  1.53278596 -0.19830045]\n",
      " [ 0.84823766 -1.11282407  1.11572724]\n",
      " [ 1.67877408  0.66214016 -1.56027171]\n",
      " [-1.73480624 -0.83291109 -1.65652   ]\n",
      " [-0.11422291 -1.05040769  0.7165132 ]\n",
      " [-1.4656596  -0.32292487  0.65447603]]\n",
      "======================================\n",
      "[[-0.3635574   0.42167195 -0.41792284]\n",
      " [-0.5740922  -0.57360284 -0.39873352]\n",
      " [ 0.29392975 -0.3097114  -0.37262199]\n",
      " [ 0.24550633  1.53278596 -0.19830045]]\n",
      "======================================\n",
      "[[ 0.24254548  0.47250289  0.        ]\n",
      " [ 0.          0.          0.08737418]\n",
      " [ 1.          0.12528145  0.20626698]\n",
      " [ 0.94421406  1.          1.        ]\n",
      " [ 1.63858745 -0.25599321  6.98312252]\n",
      " [ 2.59540244  0.58666425 -5.20142255]\n",
      " [-1.33719436 -0.12310559 -5.63966693]\n",
      " [ 0.52978993 -0.22636127  5.16539331]\n",
      " [-1.02712542  0.1190084   4.88292134]]\n",
      "======================================\n",
      "[[ 0.84157851 -0.23093253]\n",
      " [ 0.73919201 -0.52924395]\n",
      " [ 0.62106682  0.47864328]\n",
      " [-0.14254927  0.53044978]\n",
      " [-6.16699239  1.07012341]\n",
      " [ 6.03557873  2.11508552]\n",
      " [ 6.4635085  -1.87498853]\n",
      " [-4.34540409 -0.02789831]\n",
      " [-4.04597883 -1.53123867]]\n"
     ]
    }
   ],
   "source": [
    "flow_data = Data_Wrapper(matrix, label)\n",
    "x_selected = flow_data.get_sample(0)\n",
    "print(flow_data.matrix)\n",
    "print(\"======================================\")\n",
    "print(x_selected)\n",
    "print(\"======================================\")\n",
    "x_min = np.apply_along_axis(np.min, 0, x_selected)\n",
    "x_max = np.apply_along_axis(np.max, 0, x_selected)\n",
    "x_scaled = (flow_data.matrix - x_min) / (x_max - x_min)\n",
    "print(x_scaled)\n",
    "print(\"======================================\")\n",
    "pca = PCA(n_components = 2)\n",
    "print(pca.fit_transform(x_scaled))"
   ]
  },
  {
   "cell_type": "markdown",
   "metadata": {},
   "source": [
    "### Transform using pipeline"
   ]
  },
  {
   "cell_type": "code",
   "execution_count": 207,
   "metadata": {},
   "outputs": [],
   "source": [
    "pipe_DimRed = Pipeline([\n",
    "    (\"Scaler\", Transform_MinMaxScaler()), \n",
    "    (\"PCA\",    Transform_PCA())\n",
    "]) # end Pipeline"
   ]
  },
  {
   "cell_type": "code",
   "execution_count": 208,
   "metadata": {},
   "outputs": [
    {
     "name": "stdout",
     "output_type": "stream",
     "text": [
      "[[ 0.84157851 -0.23093253]\n",
      " [ 0.73919201 -0.52924395]\n",
      " [ 0.62106682  0.47864328]\n",
      " [-0.14254927  0.53044978]\n",
      " [-6.16699239  1.07012341]\n",
      " [ 6.03557873  2.11508552]\n",
      " [ 6.4635085  -1.87498853]\n",
      " [-4.34540409 -0.02789831]\n",
      " [-4.04597883 -1.53123867]]\n"
     ]
    }
   ],
   "source": [
    "pipe_DimRed.fit(flow_data)\n",
    "tmp = pipe_DimRed.transform(flow_data)\n",
    "print(tmp)"
   ]
  },
  {
   "cell_type": "code",
   "execution_count": null,
   "metadata": {},
   "outputs": [],
   "source": []
  },
  {
   "cell_type": "code",
   "execution_count": null,
   "metadata": {},
   "outputs": [],
   "source": []
  },
  {
   "cell_type": "code",
   "execution_count": 21,
   "metadata": {},
   "outputs": [],
   "source": []
  },
  {
   "cell_type": "code",
   "execution_count": 31,
   "metadata": {},
   "outputs": [],
   "source": [
    "@curry\n",
    "def subsample(x, nrow = 6):\n",
    "    \"\"\"sub sampling data points, coord of dimensional reduction and the label of sample\"\"\"\n",
    "    n_sample = x.shape[0]\n",
    "    idx = random.permutation(n_sample)[:nrow]\n",
    "    return x[idx]"
   ]
  },
  {
   "cell_type": "code",
   "execution_count": 32,
   "metadata": {},
   "outputs": [],
   "source": [
    "pipe_subsample = Pipeline([\n",
    "    (\"subsample\", FunctionTransformer(subsample(nrow = 2)))\n",
    "])"
   ]
  },
  {
   "cell_type": "code",
   "execution_count": 33,
   "metadata": {},
   "outputs": [
    {
     "name": "stdout",
     "output_type": "stream",
     "text": [
      "[[[ 0.17238212  0.39151234 -0.54390176 -1.0096922   0.8740321 ]\n",
      "  [-0.58338941  1.1658701  -0.07259138 -2.20195907  0.9870215 ]\n",
      "  [ 0.39534672  0.45950065  2.39209856  1.1825191  -0.7163661 ]\n",
      "  [ 0.61646448 -0.34695849 -0.15823722 -0.22296149 -0.7697378 ]\n",
      "  [-0.46238923  0.25289381  0.40916255  1.05299205 -0.03077782]]\n",
      "\n",
      " [[ 0.10658001 -0.17137064 -0.99267222 -0.54834638 -0.63653958]\n",
      "  [-1.46728337 -0.38473923  0.03043906  0.76245502  0.19391931]\n",
      "  [-1.19811674  0.50462747  0.86662192  1.69378961 -1.21865115]\n",
      "  [-0.75676848 -0.27360749  0.40084885 -0.70385175  0.89916968]\n",
      "  [-1.64055038  0.30439335  0.77566228 -1.71747428  0.11914506]]]\n"
     ]
    }
   ],
   "source": [
    "print(X)"
   ]
  },
  {
   "cell_type": "code",
   "execution_count": 34,
   "metadata": {},
   "outputs": [
    {
     "data": {
      "text/plain": [
       "array([[ 0.39534672,  0.45950065,  2.39209856,  1.1825191 , -0.7163661 ],\n",
       "       [ 0.17238212,  0.39151234, -0.54390176, -1.0096922 ,  0.8740321 ]])"
      ]
     },
     "execution_count": 34,
     "metadata": {},
     "output_type": "execute_result"
    }
   ],
   "source": [
    "pipe_subsample.fit_transform(X[0])"
   ]
  }
 ],
 "metadata": {
  "kernelspec": {
   "display_name": "Python 3",
   "language": "python",
   "name": "python3"
  },
  "language_info": {
   "codemirror_mode": {
    "name": "ipython",
    "version": 3
   },
   "file_extension": ".py",
   "mimetype": "text/x-python",
   "name": "python",
   "nbconvert_exporter": "python",
   "pygments_lexer": "ipython3",
   "version": "3.6.3"
  }
 },
 "nbformat": 4,
 "nbformat_minor": 2
}
