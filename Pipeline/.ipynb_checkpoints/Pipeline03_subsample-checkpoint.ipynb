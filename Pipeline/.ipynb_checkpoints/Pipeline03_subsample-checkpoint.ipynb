{
 "cells": [
  {
   "cell_type": "markdown",
   "metadata": {},
   "source": [
    "# Set Environment"
   ]
  },
  {
   "cell_type": "code",
   "execution_count": 1,
   "metadata": {},
   "outputs": [],
   "source": [
    "import numpy as np\n",
    "from numpy import random\n",
    "\n",
    "import copy\n",
    "from collections import Counter\n",
    "\n",
    "from sklearn.preprocessing import FunctionTransformer\n",
    "from sklearn.preprocessing import MinMaxScaler\n",
    "from sklearn.pipeline      import Pipeline, FeatureUnion\n",
    "from sklearn.decomposition import PCA\n",
    "from sklearn.base          import BaseEstimator, TransformerMixin\n",
    "\n",
    "import matplotlib.pyplot as plt"
   ]
  },
  {
   "cell_type": "markdown",
   "metadata": {},
   "source": [
    "### Initializing a test data"
   ]
  },
  {
   "cell_type": "code",
   "execution_count": 77,
   "metadata": {},
   "outputs": [
    {
     "data": {
      "text/plain": [
       "array([[0, 1, 2, 3, 4, 5, 6],\n",
       "       [0, 1, 2, 3, 4, 5, 6]])"
      ]
     },
     "execution_count": 77,
     "metadata": {},
     "output_type": "execute_result"
    }
   ],
   "source": []
  },
  {
   "cell_type": "code",
   "execution_count": 78,
   "metadata": {},
   "outputs": [
    {
     "name": "stdout",
     "output_type": "stream",
     "text": [
      "# Labels:  (2,)\n",
      "# Samples: (2,)\n",
      "===========================\n",
      "Sample 01: (2, 3)\n",
      "Sample 02: (5, 3)\n",
      "===========================\n",
      "labels: [0 1]\n",
      "===========================\n",
      "Samples:\n",
      "\n",
      "[array([[ 1.35783517, -1.14786721, -0.68554454],\n",
      "       [ 0.32674818,  0.61081051,  0.82888398]])\n",
      " array([[ 0.04449691, -0.5109881 ,  0.71315925],\n",
      "       [ 0.912753  ,  0.53297061, -1.73570579],\n",
      "       [ 0.32142442, -0.85487087,  1.84871604],\n",
      "       [ 0.06598704,  0.73085306,  2.93833743],\n",
      "       [-0.31872737,  0.20856326, -0.85830712]])]\n"
     ]
    }
   ],
   "source": [
    "N_SAMPLE = 2\n",
    "N_MARKER = 3\n",
    "N_ROW    = [2, 5]\n",
    "\n",
    "MATRIX = np.array([random.randn(nrow, N_MARKER) for nrow in N_ROW])\n",
    "LABEL  = np.array([0, 1])\n",
    "COORD  = np.array([\n",
    "    np.arange(np.sum(N_ROW)) \n",
    "    for _ in range(N_SAMPLE)]).T\n",
    "\n",
    "print(\"# Labels: \", LABEL.shape)\n",
    "print(\"# Samples:\", MATRIX.shape)\n",
    "print(\"===========================\")\n",
    "print(\"Sample 01:\", MATRIX[0].shape)\n",
    "print(\"Sample 02:\", MATRIX[1].shape)\n",
    "print(\"===========================\")\n",
    "print(\"labels:\", LABEL)\n",
    "print(\"===========================\")\n",
    "print(\"Samples:\\n\"); print(MATRIX)"
   ]
  },
  {
   "cell_type": "code",
   "execution_count": 69,
   "metadata": {},
   "outputs": [],
   "source": [
    "class Data_Wrapper:\n",
    "    \"\"\" A wrapper with data matrix (N, M_i, p) and data labels\n",
    "    N   = number of samples\n",
    "    M_i = number of observations / data points in the ith sample\n",
    "    p   = number of variables for all sample\n",
    "    Args:\n",
    "        matrix (N, M_i, p): data values\n",
    "        label  (N,):        labels\n",
    "        coord  (Sum(M_i)):  \n",
    "    \"\"\"\n",
    "    def __init__(self, matrix, label, coord = None):\n",
    "        \n",
    "        # index of each sample\n",
    "        idx = [x.shape[0] for x in matrix]\n",
    "        idx = np.r_[0, idx]\n",
    "        idx = np.cumsum(idx)\n",
    "        self.sample_idx = idx\n",
    "        \n",
    "        # matrix and label\n",
    "        self.matrix = np.vstack(matrix)\n",
    "        self.label  = np.array(label)\n",
    "        \n",
    "        # coordinate\n",
    "        self.coord = np.array(coord)\n",
    "        assert self.coord.shape[0] == self.matrix.shape[0], \"Dimension of matrix and coordinate does not fit\"\n",
    "        \n",
    "\n",
    "    def __repr__(self):\n",
    "        string = \"\"\n",
    "        string += (\"Number of samples:            \" + str(self.get_num_sample())   + \"\\n\")\n",
    "        string += (\"Number of variables:          \" + str(self.get_num_variable()) + \"\\n\")\n",
    "        string += (\"Number of total observations: \" + str(self.matrix.shape[0])    + \"\\n\")\n",
    "        \n",
    "        tmp = Counter(self.label)\n",
    "        for k, v in tmp.items():\n",
    "            string += (\"Label \" + str(k) + \" : \" + str(v) + \"\\n\")\n",
    "    \n",
    "        return string\n",
    "    \n",
    "    def get_num_sample(self):\n",
    "        return self.label.shape[0]\n",
    "    \n",
    "    def get_num_variable(self):\n",
    "        return self.matrix.shape[1]\n",
    "    \n",
    "    def get_num_total_obs(self):\n",
    "        return self.matrix.shape[0]\n",
    "    \n",
    "    def get_sample_size(self):\n",
    "        return self.sample_idx[1:] - self.sample_idx[:-1]\n",
    "    \n",
    "    def get_sample(self, k):\n",
    "        return self.matrix[self.sample_idx[k] : self.sample_idx[k + 1]] \n",
    "    \n",
    "    def get_label(self, k):\n",
    "        return self.label[k]\n",
    "    \n",
    "    def get_coord(self, k):\n",
    "        return self.coord[self.sample_idx[k] : self.sample_idx[k + 1]] \n",
    "        \n",
    "    def set_matrix(self, matrix):\n",
    "        assert self.matrix.shape == matrix.shape\n",
    "        self.matrix = matrix\n",
    "    \n",
    "    def set_coord(self, coord):\n",
    "        # Check to make sure coord has the same number of samples\n",
    "        assert self.matrix.shape[0] == coord.shape[0]\n",
    "        self.coord = coord"
   ]
  },
  {
   "cell_type": "code",
   "execution_count": 79,
   "metadata": {},
   "outputs": [
    {
     "name": "stdout",
     "output_type": "stream",
     "text": [
      "Number of samples:            2\n",
      "Number of variables:          3\n",
      "Number of total observations: 7\n",
      "Label 0 : 1\n",
      "Label 1 : 1\n",
      "\n",
      "[2 5]\n"
     ]
    }
   ],
   "source": [
    "flow_data = Data_Wrapper(MATRIX, LABEL, COORD)\n",
    "print(flow_data)\n",
    "print(flow_data.get_sample_size())"
   ]
  },
  {
   "cell_type": "markdown",
   "metadata": {},
   "source": [
    "# Subsampling"
   ]
  },
  {
   "cell_type": "markdown",
   "metadata": {},
   "source": [
    "subsample without replacement"
   ]
  },
  {
   "cell_type": "code",
   "execution_count": 14,
   "metadata": {},
   "outputs": [
    {
     "data": {
      "text/plain": [
       "array([[ 0,  1,  2],\n",
       "       [ 0,  2,  3],\n",
       "       [ 8, 84, 39],\n",
       "       [61,  3, 90]])"
      ]
     },
     "execution_count": 14,
     "metadata": {},
     "output_type": "execute_result"
    }
   ],
   "source": [
    "num_subsample      = 2\n",
    "num_subsample_size = 3\n",
    "num_sample_sizes   = [4, 100]\n",
    "\n",
    "np.vstack([\n",
    "    random.permutation(num_sample_size)[:num_subsample_size]\n",
    "    for num_sample_size in num_sample_sizes  # outter for loop: foreach sample\n",
    "    for _ in range(num_subsample)])  # inner  for loop: create subsamples"
   ]
  },
  {
   "cell_type": "markdown",
   "metadata": {},
   "source": [
    "subsample with replacement"
   ]
  },
  {
   "cell_type": "code",
   "execution_count": 15,
   "metadata": {},
   "outputs": [
    {
     "data": {
      "text/plain": [
       "array([[ 0,  0,  0],\n",
       "       [ 1,  0,  1],\n",
       "       [93, 29,  9],\n",
       "       [24, 44, 62]])"
      ]
     },
     "execution_count": 15,
     "metadata": {},
     "output_type": "execute_result"
    }
   ],
   "source": [
    "num_subsample      = 2\n",
    "num_subsample_size = 3\n",
    "num_sample_sizes   = [2, 100]\n",
    "\n",
    "np.vstack([\n",
    "    # generate indices of a subsample\n",
    "    random.randint(\n",
    "        low = 0,\n",
    "        high = num_sample_size, \n",
    "        size = num_subsample_size)\n",
    "    for num_sample_size in num_sample_sizes  # outter for loop: foreach sample\n",
    "    for _ in range(num_subsample)])          # inner  for loop: create subsamples"
   ]
  },
  {
   "cell_type": "markdown",
   "metadata": {},
   "source": [
    "design transformer"
   ]
  },
  {
   "cell_type": "code",
   "execution_count": 85,
   "metadata": {},
   "outputs": [],
   "source": [
    "class Transform_subsampling(BaseEstimator, TransformerMixin):\n",
    "    def __init__(self, num_subsample = None, num_subsample_size = None, random_state = 0):\n",
    "        self.indices = None\n",
    "        self.num_subsample = num_subsample\n",
    "        self.num_subsample_size = num_subsample_size\n",
    "        \n",
    "    def fit(self, dat, y = None):\n",
    "        num_sample_sizes = dat.get_sample_size()     # array contain nrows of each sample\n",
    "        num_subsample = self.num_subsample           # number of subsample created\n",
    "        num_subsample_size = self.num_subsample_size # the size of each subsample\n",
    "        \n",
    "        self.indices = np.vstack([\n",
    "            \n",
    "            # generate indices of a subsample\n",
    "            random.randint(\n",
    "                low = 0,\n",
    "                high = num_sample_size, \n",
    "                size = num_subsample_size)\n",
    "            for num_sample_size in num_sample_sizes  # outter for loop: foreach sample\n",
    "            for _ in range(num_subsample)])          # inner  for loop: create subsamples\n",
    "        \n",
    "        return self\n",
    "\n",
    "    def transform(self, dat):\n",
    "        # initialization\n",
    "        lst_label  = []\n",
    "        lst_matrix = []\n",
    "        lst_coord  = []\n",
    "\n",
    "        for idx_sample in range(flow_data.get_num_sample()):\n",
    "            label  = flow_data.get_label(idx_sample)\n",
    "            sample = flow_data.get_sample(idx_sample)\n",
    "            coord  = flow_data.get_coord(idx_sample)\n",
    "        \n",
    "            for idx_subsample in range(num_subsample):\n",
    "                # get\n",
    "                idx = idx_sample + idx_subsample\n",
    "                mat1 = sample[indices[idx]]\n",
    "                mat2 = coord[indices[idx]]\n",
    "            \n",
    "                # store\n",
    "                lst_label.append(label)\n",
    "                lst_matrix.append(mat1)\n",
    "                lst_coord.append(mat2)\n",
    "        flow_data_new = Data_Wrapper(lst_matrix, lst_label, lst_coord)\n",
    "        return flow_data_new"
   ]
  },
  {
   "cell_type": "code",
   "execution_count": 87,
   "metadata": {},
   "outputs": [],
   "source": [
    "pipe = Pipeline([\n",
    "    (\"Scaler\", Transform_subsampling(num_subsample = 3, num_subsample_size = 4))\n",
    "]) # end Pipeline"
   ]
  },
  {
   "cell_type": "code",
   "execution_count": 88,
   "metadata": {},
   "outputs": [],
   "source": [
    "pipe.fit(flow_data)\n",
    "flow_data_new = pipe.transform(flow_data)"
   ]
  },
  {
   "cell_type": "code",
   "execution_count": 90,
   "metadata": {},
   "outputs": [
    {
     "data": {
      "text/plain": [
       "Number of samples:            2\n",
       "Number of variables:          3\n",
       "Number of total observations: 7\n",
       "Label 0 : 1\n",
       "Label 1 : 1"
      ]
     },
     "execution_count": 90,
     "metadata": {},
     "output_type": "execute_result"
    }
   ],
   "source": [
    "flow_data"
   ]
  },
  {
   "cell_type": "code",
   "execution_count": 89,
   "metadata": {},
   "outputs": [
    {
     "data": {
      "text/plain": [
       "Number of samples:            6\n",
       "Number of variables:          3\n",
       "Number of total observations: 24\n",
       "Label 0 : 3\n",
       "Label 1 : 3"
      ]
     },
     "execution_count": 89,
     "metadata": {},
     "output_type": "execute_result"
    }
   ],
   "source": [
    "flow_data_new"
   ]
  },
  {
   "cell_type": "markdown",
   "metadata": {},
   "source": [
    "### Try do it manually"
   ]
  },
  {
   "cell_type": "code",
   "execution_count": 83,
   "metadata": {},
   "outputs": [
    {
     "name": "stdout",
     "output_type": "stream",
     "text": [
      "[0, 0, 0, 1, 1, 1]\n",
      "=================\n",
      "[[ 0.32674818  0.61081051  0.82888398]\n",
      " [ 0.32674818  0.61081051  0.82888398]\n",
      " [ 0.32674818  0.61081051  0.82888398]\n",
      " [ 1.35783517 -1.14786721 -0.68554454]]\n",
      "[[ 0.32674818  0.61081051  0.82888398]\n",
      " [ 1.35783517 -1.14786721 -0.68554454]\n",
      " [ 1.35783517 -1.14786721 -0.68554454]\n",
      " [ 0.32674818  0.61081051  0.82888398]]\n",
      "[[ 1.35783517 -1.14786721 -0.68554454]\n",
      " [ 0.32674818  0.61081051  0.82888398]\n",
      " [ 0.32674818  0.61081051  0.82888398]\n",
      " [ 0.32674818  0.61081051  0.82888398]]\n",
      "[[ 0.912753    0.53297061 -1.73570579]\n",
      " [ 0.04449691 -0.5109881   0.71315925]\n",
      " [ 0.04449691 -0.5109881   0.71315925]\n",
      " [ 0.912753    0.53297061 -1.73570579]]\n",
      "[[ 0.04449691 -0.5109881   0.71315925]\n",
      " [ 0.912753    0.53297061 -1.73570579]\n",
      " [ 0.912753    0.53297061 -1.73570579]\n",
      " [ 0.912753    0.53297061 -1.73570579]]\n",
      "[[ 0.32142442 -0.85487087  1.84871604]\n",
      " [ 0.32142442 -0.85487087  1.84871604]\n",
      " [ 0.912753    0.53297061 -1.73570579]\n",
      " [-0.31872737  0.20856326 -0.85830712]]\n",
      "=================\n",
      "[[1 1]\n",
      " [1 1]\n",
      " [1 1]\n",
      " [0 0]]\n",
      "[[1 1]\n",
      " [0 0]\n",
      " [0 0]\n",
      " [1 1]]\n",
      "[[0 0]\n",
      " [1 1]\n",
      " [1 1]\n",
      " [1 1]]\n",
      "[[3 3]\n",
      " [2 2]\n",
      " [2 2]\n",
      " [3 3]]\n",
      "[[2 2]\n",
      " [3 3]\n",
      " [3 3]\n",
      " [3 3]]\n",
      "[[4 4]\n",
      " [4 4]\n",
      " [3 3]\n",
      " [6 6]]\n"
     ]
    }
   ],
   "source": [
    "lst_label  = []\n",
    "lst_matrix = []\n",
    "lst_coord  = []\n",
    "\n",
    "for k in range(flow_data.get_num_sample()):\n",
    "    label  = flow_data.get_label(k)\n",
    "    sample = flow_data.get_sample(k)\n",
    "    coord  = flow_data.get_coord(k)\n",
    "    for i in range(num_subsample):\n",
    "        idx = k + i\n",
    "        mat1 = sample[indices[idx]]\n",
    "        mat2 = coord[indices[idx]]\n",
    "        lst_label.append(label)\n",
    "        lst_matrix.append(mat1)\n",
    "        lst_coord.append(mat2)\n",
    "print(lst_label)\n",
    "print(\"=================\")\n",
    "for mat in lst_matrix:\n",
    "    print(mat)\n",
    "print(\"=================\")\n",
    "for mat in lst_coord:\n",
    "    print(mat)"
   ]
  },
  {
   "cell_type": "code",
   "execution_count": 84,
   "metadata": {},
   "outputs": [
    {
     "data": {
      "text/plain": [
       "Number of samples:            6\n",
       "Number of variables:          3\n",
       "Number of total observations: 24\n",
       "Label 0 : 3\n",
       "Label 1 : 3"
      ]
     },
     "execution_count": 84,
     "metadata": {},
     "output_type": "execute_result"
    }
   ],
   "source": [
    "Data_Wrapper(lst_matrix, lst_label, lst_coord)"
   ]
  }
 ],
 "metadata": {
  "kernelspec": {
   "display_name": "Python 3",
   "language": "python",
   "name": "python3"
  },
  "language_info": {
   "codemirror_mode": {
    "name": "ipython",
    "version": 3
   },
   "file_extension": ".py",
   "mimetype": "text/x-python",
   "name": "python",
   "nbconvert_exporter": "python",
   "pygments_lexer": "ipython3",
   "version": "3.6.3"
  }
 },
 "nbformat": 4,
 "nbformat_minor": 2
}
