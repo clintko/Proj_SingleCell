{
 "cells": [
  {
   "cell_type": "markdown",
   "metadata": {},
   "source": [
    "https://stackoverflow.com/questions/3386259/how-to-make-a-multidimension-numpy-array-with-a-varying-row-size"
   ]
  },
  {
   "cell_type": "code",
   "execution_count": 1,
   "metadata": {},
   "outputs": [],
   "source": [
    "import numpy as np"
   ]
  },
  {
   "cell_type": "code",
   "execution_count": 17,
   "metadata": {},
   "outputs": [],
   "source": [
    "x = np.array([[11, 12, 13], [14, 15, 16]])\n",
    "y = np.array([[21, 22, 23], [24, 25, 26], [27, 28, 29]])\n",
    "z = np.array([[31, 32, 33]])\n",
    "arr = np.array([x, y, z])"
   ]
  },
  {
   "cell_type": "code",
   "execution_count": 18,
   "metadata": {},
   "outputs": [
    {
     "name": "stdout",
     "output_type": "stream",
     "text": [
      "[array([[11, 12, 13],\n",
      "       [14, 15, 16]])\n",
      " array([[21, 22, 23],\n",
      "       [24, 25, 26],\n",
      "       [27, 28, 29]])\n",
      " array([[31, 32, 33]])]\n"
     ]
    }
   ],
   "source": [
    "print(arr)"
   ]
  },
  {
   "cell_type": "markdown",
   "metadata": {},
   "source": [
    "# Check shape"
   ]
  },
  {
   "cell_type": "code",
   "execution_count": 28,
   "metadata": {},
   "outputs": [
    {
     "data": {
      "text/plain": [
       "3"
      ]
     },
     "execution_count": 28,
     "metadata": {},
     "output_type": "execute_result"
    }
   ],
   "source": [
    "arr.size"
   ]
  },
  {
   "cell_type": "code",
   "execution_count": 20,
   "metadata": {},
   "outputs": [
    {
     "data": {
      "text/plain": [
       "(3,)"
      ]
     },
     "execution_count": 20,
     "metadata": {},
     "output_type": "execute_result"
    }
   ],
   "source": [
    "arr.shape"
   ]
  },
  {
   "cell_type": "code",
   "execution_count": 21,
   "metadata": {},
   "outputs": [
    {
     "data": {
      "text/plain": [
       "(2, 3)"
      ]
     },
     "execution_count": 21,
     "metadata": {},
     "output_type": "execute_result"
    }
   ],
   "source": [
    "arr[0].shape"
   ]
  },
  {
   "cell_type": "code",
   "execution_count": 22,
   "metadata": {},
   "outputs": [
    {
     "data": {
      "text/plain": [
       "(3, 3)"
      ]
     },
     "execution_count": 22,
     "metadata": {},
     "output_type": "execute_result"
    }
   ],
   "source": [
    "arr[1].shape"
   ]
  },
  {
   "cell_type": "markdown",
   "metadata": {},
   "source": [
    "# convert forward and backward"
   ]
  },
  {
   "cell_type": "code",
   "execution_count": 23,
   "metadata": {},
   "outputs": [
    {
     "data": {
      "text/plain": [
       "array([[11, 12, 13],\n",
       "       [14, 15, 16],\n",
       "       [21, 22, 23],\n",
       "       [24, 25, 26],\n",
       "       [27, 28, 29],\n",
       "       [31, 32, 33]])"
      ]
     },
     "execution_count": 23,
     "metadata": {},
     "output_type": "execute_result"
    }
   ],
   "source": [
    "np.vstack(arr)"
   ]
  },
  {
   "cell_type": "code",
   "execution_count": 27,
   "metadata": {},
   "outputs": [
    {
     "name": "stdout",
     "output_type": "stream",
     "text": [
      "===== Results =====\n",
      "[array([[11, 12, 13],\n",
      "       [14, 15, 16]])\n",
      " array([[21, 22, 23],\n",
      "       [24, 25, 26],\n",
      "       [27, 28, 29]])\n",
      " array([[31, 32, 33]])]\n",
      "\n",
      "===== Original array =====\n",
      "[array([[11, 12, 13],\n",
      "       [14, 15, 16]])\n",
      " array([[21, 22, 23],\n",
      "       [24, 25, 26],\n",
      "       [27, 28, 29]])\n",
      " array([[31, 32, 33]])]\n"
     ]
    }
   ],
   "source": [
    "tmp = arr\n",
    "tmp = np.vstack(tmp)\n",
    "tmp = np.split(tmp, [2, 5])\n",
    "tmp = np.array(tmp)\n",
    "print(\"===== Results =====\")\n",
    "print(tmp)\n",
    "print(\"\\n===== Original array =====\")\n",
    "print(arr)"
   ]
  },
  {
   "cell_type": "code",
   "execution_count": 31,
   "metadata": {},
   "outputs": [
    {
     "data": {
      "text/plain": [
       "[2, 3, 1]"
      ]
     },
     "execution_count": 31,
     "metadata": {},
     "output_type": "execute_result"
    }
   ],
   "source": [
    "[tmp.shape[0] for tmp in arr]"
   ]
  },
  {
   "cell_type": "code",
   "execution_count": 35,
   "metadata": {},
   "outputs": [
    {
     "data": {
      "text/plain": [
       "array([2, 5])"
      ]
     },
     "execution_count": 35,
     "metadata": {},
     "output_type": "execute_result"
    }
   ],
   "source": [
    "np.cumsum([tmp.shape[0] for tmp in arr])[:-1]"
   ]
  },
  {
   "cell_type": "code",
   "execution_count": 37,
   "metadata": {},
   "outputs": [
    {
     "name": "stdout",
     "output_type": "stream",
     "text": [
      "===== Results =====\n",
      "[array([[11, 12, 13],\n",
      "       [14, 15, 16]])\n",
      " array([[21, 22, 23],\n",
      "       [24, 25, 26],\n",
      "       [27, 28, 29]])\n",
      " array([[31, 32, 33]])]\n",
      "\n",
      "===== Original array =====\n",
      "[array([[11, 12, 13],\n",
      "       [14, 15, 16]])\n",
      " array([[21, 22, 23],\n",
      "       [24, 25, 26],\n",
      "       [27, 28, 29]])\n",
      " array([[31, 32, 33]])]\n"
     ]
    }
   ],
   "source": [
    "idx = np.cumsum([tmp.shape[0] for tmp in arr])[:-1]\n",
    "\n",
    "tmp = arr\n",
    "tmp = np.vstack(tmp)\n",
    "tmp = np.split(tmp, idx)\n",
    "tmp = np.array(tmp)\n",
    "print(\"===== Results =====\")\n",
    "print(tmp)\n",
    "print(\"\\n===== Original array =====\")\n",
    "print(arr)"
   ]
  }
 ],
 "metadata": {
  "kernelspec": {
   "display_name": "Python 3",
   "language": "python",
   "name": "python3"
  },
  "language_info": {
   "codemirror_mode": {
    "name": "ipython",
    "version": 3
   },
   "file_extension": ".py",
   "mimetype": "text/x-python",
   "name": "python",
   "nbconvert_exporter": "python",
   "pygments_lexer": "ipython3",
   "version": "3.6.3"
  }
 },
 "nbformat": 4,
 "nbformat_minor": 2
}
