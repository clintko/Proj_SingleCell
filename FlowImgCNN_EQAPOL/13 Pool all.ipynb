{
 "cells": [
  {
   "cell_type": "code",
   "execution_count": 2,
   "metadata": {},
   "outputs": [],
   "source": [
    "import numpy as np\n",
    "import numpy.random as rand\n",
    "from collections import Counter\n",
    "from scipy.interpolate import Rbf\n",
    "from sklearn.manifold import TSNE\n",
    "\n",
    "import glob\n",
    "import time\n",
    "\n",
    "import matplotlib.pyplot as plt\n",
    "import seaborn as sns"
   ]
  },
  {
   "cell_type": "markdown",
   "metadata": {},
   "source": [
    "# Import EQAPOL Normal Flow Data"
   ]
  },
  {
   "cell_type": "code",
   "execution_count": 3,
   "metadata": {},
   "outputs": [
    {
     "name": "stdout",
     "output_type": "stream",
     "text": [
      "read Costim\n",
      "read CMV\n",
      "read SEB\n",
      "read markers\n",
      "The data are input.\n"
     ]
    }
   ],
   "source": [
    "# input the value\n",
    "tmp_dir = \"/data/deep-learning-group/test_data/flow_EQAPOL/\"\n",
    "fname_Costim = \"data_Costim.np\"\n",
    "fname_CMV    = \"data_CMV.np\"\n",
    "fname_SEB    = \"data_SEB.np\"\n",
    "\n",
    "# open and write the file\n",
    "print(\"read Costim\")\n",
    "file_object = open(tmp_dir + fname_Costim, 'rb')\n",
    "data_Costim = np.load(file_object)\n",
    "file_object.close()\n",
    "\n",
    "print(\"read CMV\")\n",
    "file_object = open(tmp_dir + fname_CMV, 'rb')\n",
    "data_CMV = np.load(file_object)\n",
    "file_object.close()\n",
    "\n",
    "print(\"read SEB\")\n",
    "file_object = open(tmp_dir + fname_SEB, 'rb')\n",
    "data_SEB = np.load(file_object)\n",
    "file_object.close()\n",
    "\n",
    "print(\"read markers\")\n",
    "file_object = open(tmp_dir + \"markers.np\", 'rb')\n",
    "markers = np.load(file_object)\n",
    "markers_dict = {items[1]: idx for idx, items in enumerate(markers)}\n",
    "file_object.close()\n",
    "\n",
    "print(\"The data are input.\")"
   ]
  },
  {
   "cell_type": "code",
   "execution_count": 6,
   "metadata": {},
   "outputs": [
    {
     "name": "stdout",
     "output_type": "stream",
     "text": [
      "check dimension\n",
      "================\n",
      "Labels:   (33,)\n",
      "Counter({0: 11, 1: 11, 2: 11})\n",
      "================\n",
      "Samples:  (33,)\n",
      "Samples:  (455472, 14)\n",
      "Samples:  (607410, 14)\n",
      "================\n",
      "Costim:  (11,)\n",
      "Costim:  (455472, 14)\n",
      "Costim:  (607410, 14)\n",
      "================\n",
      "CMV:     (11,)\n",
      "CMV:     (411894, 14)\n",
      "CMV:     (515178, 14)\n",
      "================\n",
      "SEB:     (11,)\n",
      "SEB:     (422658, 14)\n",
      "SEB:     (519426, 14)\n"
     ]
    }
   ],
   "source": [
    "data_samples = np.array(list(data_Costim) + list(data_CMV) + list(data_SEB))\n",
    "label_groups = np.array(            \\\n",
    "    [0] * len(list(data_Costim)) +  \\\n",
    "    [1] * len(list(data_CMV)) +     \\\n",
    "    [2] * len(list(data_SEB)))\n",
    "    \n",
    "print(\"check dimension\")\n",
    "print(\"================\")\n",
    "print(\"Labels:  \", label_groups.shape)\n",
    "print(Counter(label_groups))\n",
    "print(\"================\")\n",
    "print(\"Samples: \", data_samples.shape)\n",
    "print(\"Samples: \", data_samples[0].shape)\n",
    "print(\"Samples: \", data_samples[1].shape)\n",
    "print(\"================\")\n",
    "print(\"Costim: \", data_Costim.shape)\n",
    "print(\"Costim: \", data_Costim[0].shape)\n",
    "print(\"Costim: \", data_Costim[1].shape)\n",
    "print(\"================\")\n",
    "print(\"CMV:    \", data_CMV.shape)\n",
    "print(\"CMV:    \", data_CMV[0].shape)\n",
    "print(\"CMV:    \", data_CMV[1].shape)\n",
    "print(\"================\")\n",
    "print(\"SEB:    \", data_SEB.shape)\n",
    "print(\"SEB:    \", data_SEB[0].shape)\n",
    "print(\"SEB:    \", data_SEB[1].shape)"
   ]
  },
  {
   "cell_type": "markdown",
   "metadata": {},
   "source": [
    "# Convert flow data to image"
   ]
  },
  {
   "cell_type": "code",
   "execution_count": 13,
   "metadata": {
    "scrolled": true
   },
   "outputs": [
    {
     "name": "stdout",
     "output_type": "stream",
     "text": [
      "(33,)\n",
      "(455472, 14)\n",
      "(607410, 14)\n"
     ]
    }
   ],
   "source": [
    "print(data_samples.shape)\n",
    "print(data_samples[0].shape)\n",
    "print(data_samples[1].shape)"
   ]
  },
  {
   "cell_type": "code",
   "execution_count": 14,
   "metadata": {},
   "outputs": [
    {
     "data": {
      "text/plain": [
       "1062882"
      ]
     },
     "execution_count": 14,
     "metadata": {},
     "output_type": "execute_result"
    }
   ],
   "source": [
    "455472 + 607410"
   ]
  },
  {
   "cell_type": "code",
   "execution_count": 11,
   "metadata": {},
   "outputs": [],
   "source": [
    "samples = data_samples[0:2]"
   ]
  },
  {
   "cell_type": "code",
   "execution_count": 21,
   "metadata": {},
   "outputs": [],
   "source": [
    "tmp = np.vstack(samples)"
   ]
  },
  {
   "cell_type": "code",
   "execution_count": 22,
   "metadata": {},
   "outputs": [
    {
     "data": {
      "text/plain": [
       "(1062882, 14)"
      ]
     },
     "execution_count": 22,
     "metadata": {},
     "output_type": "execute_result"
    }
   ],
   "source": [
    "tmp.shape"
   ]
  },
  {
   "cell_type": "code",
   "execution_count": 18,
   "metadata": {},
   "outputs": [
    {
     "data": {
      "text/plain": [
       "(2,)"
      ]
     },
     "execution_count": 18,
     "metadata": {},
     "output_type": "execute_result"
    }
   ],
   "source": [
    "z.shape"
   ]
  },
  {
   "cell_type": "code",
   "execution_count": 20,
   "metadata": {},
   "outputs": [
    {
     "data": {
      "text/plain": [
       "(5, 3)"
      ]
     },
     "execution_count": 20,
     "metadata": {},
     "output_type": "execute_result"
    }
   ],
   "source": [
    "np.vstack(z)"
   ]
  },
  {
   "cell_type": "code",
   "execution_count": null,
   "metadata": {},
   "outputs": [],
   "source": [
    "tsne = TSNE(\n",
    "    n_components = tsne_dimension, \n",
    "    verbose      = tsne_verbose, \n",
    "    perplexity   = tsne_perplexity, \n",
    "    n_iter       = tsne_iter, \n",
    "    random_state = tsne_rand_seed)"
   ]
  },
  {
   "cell_type": "code",
   "execution_count": null,
   "metadata": {},
   "outputs": [],
   "source": []
  },
  {
   "cell_type": "code",
   "execution_count": 29,
   "metadata": {},
   "outputs": [
    {
     "name": "stdout",
     "output_type": "stream",
     "text": [
      "=====  1000  (E3) cells ======\n",
      "Data Subsetting...\n",
      "...Finish\n",
      "Create t-SNE plots...\n",
      "\tPrepare t-SNE plot of the 0 sample\n",
      "...Finish\n"
     ]
    }
   ],
   "source": [
    "tmp = data_samples\n",
    "samples_std = data_standardization(tmp)\n",
    "idx = [0, 1, 11, 12, 22, 23]\n",
    "\n",
    "#################################\n",
    "print(\"=====  1000  (E3) cells ======\")\n",
    "data_labels_E3, data_samples_E3 = data_subsetting(\n",
    "    samples_std, \n",
    "    label_groups, \n",
    "    k = 1000, \n",
    "    num_subsets = 1, \n",
    "    verbose = True)\n",
    "\n",
    "\n",
    "# stack everything \n",
    "tmp = data_samples_E3[idx]\n",
    "tmp = np.vstack(tmp)\n",
    "tmp = np.expand_dims(tmp, axis = 0)\n",
    "data_samples_E3_subset = tmp\n",
    "\n",
    "# choose the first sample of each group to create tsne\n",
    "# since the num_subsets is one, the idx of first sample\n",
    "# in each group = 0, 11, 22\n",
    "data_tsne_E3_subset = create_tsne(\n",
    "    data_samples_E3_subset, \n",
    "    verbose = True)"
   ]
  },
  {
   "cell_type": "code",
   "execution_count": 31,
   "metadata": {},
   "outputs": [
    {
     "name": "stdout",
     "output_type": "stream",
     "text": [
      "(1, 6000, 2)\n",
      "(1, 6000, 14)\n"
     ]
    }
   ],
   "source": [
    "tsne, sample = data_tsne_E3_subset, data_samples_E3_subset\n",
    "print(tsne.shape)\n",
    "print(sample.shape)"
   ]
  },
  {
   "cell_type": "code",
   "execution_count": 35,
   "metadata": {},
   "outputs": [
    {
     "data": {
      "text/plain": [
       "(6, 1000, 2)"
      ]
     },
     "execution_count": 35,
     "metadata": {},
     "output_type": "execute_result"
    }
   ],
   "source": [
    "tmp = tsne.reshape(6, 1000, 2)\n",
    "tmp.shape"
   ]
  },
  {
   "cell_type": "code",
   "execution_count": 38,
   "metadata": {},
   "outputs": [
    {
     "data": {
      "text/plain": [
       "(6, 1000, 14)"
      ]
     },
     "execution_count": 38,
     "metadata": {},
     "output_type": "execute_result"
    }
   ],
   "source": [
    "tmp = data_samples_E3[idx]\n",
    "tmp.shape"
   ]
  },
  {
   "cell_type": "code",
   "execution_count": 40,
   "metadata": {},
   "outputs": [],
   "source": [
    "tmp = tmp.reshape([1, -1, 14])"
   ]
  },
  {
   "cell_type": "code",
   "execution_count": 41,
   "metadata": {},
   "outputs": [
    {
     "data": {
      "text/plain": [
       "(1, 6000, 14)"
      ]
     },
     "execution_count": 41,
     "metadata": {},
     "output_type": "execute_result"
    }
   ],
   "source": [
    "tmp.shape"
   ]
  },
  {
   "cell_type": "code",
   "execution_count": 32,
   "metadata": {},
   "outputs": [
    {
     "name": "stdout",
     "output_type": "stream",
     "text": [
      "Create images from t-SNE plot...\n",
      "\tPrepare image of the 0 sample\n",
      "\t\tinterpolating the 0 feature\n",
      "\t\tinterpolating the 1 feature\n",
      "\t\tinterpolating the 2 feature\n",
      "\t\tinterpolating the 3 feature\n",
      "\t\tinterpolating the 4 feature\n",
      "\t\tinterpolating the 5 feature\n",
      "\t\tinterpolating the 6 feature\n",
      "\t\tinterpolating the 7 feature\n",
      "\t\tinterpolating the 8 feature\n",
      "\t\tinterpolating the 9 feature\n",
      "\t\tinterpolating the 10 feature\n",
      "\t\tinterpolating the 11 feature\n",
      "\t\tinterpolating the 12 feature\n",
      "\t\tinterpolating the 13 feature\n",
      "...Finish\n"
     ]
    }
   ],
   "source": [
    "# convert tsne to image\n",
    "tsne, sample = data_tsne_E3_subset, data_samples_E3_subset\n",
    "data_img_E3_subset  = create_img(\n",
    "    tsne, \n",
    "    sample, \n",
    "    verbose = True, \n",
    "    verbose_sample = True, \n",
    "    verbose_marker = True)"
   ]
  },
  {
   "cell_type": "code",
   "execution_count": 33,
   "metadata": {},
   "outputs": [
    {
     "data": {
      "text/plain": [
       "(1, 14, 128, 128)"
      ]
     },
     "execution_count": 33,
     "metadata": {},
     "output_type": "execute_result"
    }
   ],
   "source": [
    "data_img_E3_subset.shape"
   ]
  },
  {
   "cell_type": "code",
   "execution_count": null,
   "metadata": {},
   "outputs": [],
   "source": []
  },
  {
   "cell_type": "code",
   "execution_count": null,
   "metadata": {},
   "outputs": [],
   "source": []
  },
  {
   "cell_type": "code",
   "execution_count": null,
   "metadata": {},
   "outputs": [],
   "source": []
  },
  {
   "cell_type": "code",
   "execution_count": null,
   "metadata": {},
   "outputs": [],
   "source": []
  },
  {
   "cell_type": "code",
   "execution_count": 25,
   "metadata": {},
   "outputs": [
    {
     "data": {
      "text/plain": [
       "(6000, 14)"
      ]
     },
     "execution_count": 25,
     "metadata": {},
     "output_type": "execute_result"
    }
   ],
   "source": [
    "tmp = np.vstack(data_samples_E3_subset)\n",
    "tmp.shape"
   ]
  },
  {
   "cell_type": "code",
   "execution_count": 27,
   "metadata": {},
   "outputs": [],
   "source": [
    "tmp = np.expand_dims(tmp, axis = 0)"
   ]
  },
  {
   "cell_type": "code",
   "execution_count": 28,
   "metadata": {},
   "outputs": [
    {
     "data": {
      "text/plain": [
       "(1, 6000, 14)"
      ]
     },
     "execution_count": 28,
     "metadata": {},
     "output_type": "execute_result"
    }
   ],
   "source": [
    "tmp.shape"
   ]
  },
  {
   "cell_type": "code",
   "execution_count": null,
   "metadata": {},
   "outputs": [],
   "source": [
    "data_tsne_E3_subset = create_tsne(\n",
    "    data_samples_E3_subset, \n",
    "    verbose = True)\n",
    "\n",
    "\n",
    "# convert tsne to image\n",
    "tsne, sample = data_tsne_E3_subset, data_samples_E3_subset\n",
    "data_img_E3_subset  = create_img(\n",
    "    tsne, \n",
    "    sample, \n",
    "    verbose = True, \n",
    "    verbose_sample = True, \n",
    "    verbose_marker = True)"
   ]
  },
  {
   "cell_type": "code",
   "execution_count": 5,
   "metadata": {},
   "outputs": [],
   "source": [
    "def check_dimension(samples):\n",
    "    \"\"\" Check the dimension of an numpy array, the function \n",
    "    allows different number of the second dimention\n",
    "    \n",
    "    For example:\n",
    "        len(shapes.shape) = 2 && shapes.shape[1] = 2\n",
    "        => result: 2 - 1 + 2 = 3\n",
    "    \n",
    "    >>> import numpy as np\n",
    "    >>> arr = np.array([[[1], [2]], [[3], [4]]])\n",
    "    >>> arr.shape\n",
    "    (2, 2, 1)\n",
    "    >>> check_dimension(arr)\n",
    "    (3, 'Wrong input dimension; Expected 3 but 3 given; the samples should contain (samples, events, markers)')\n",
    "    \n",
    "    >>> x = np.array([[11, 12, 13], [14, 15, 16]])\n",
    "    >>> y = np.array([[21, 22, 23], [24, 25, 26], [27, 28, 29]])\n",
    "    >>> z = np.array([[31, 32, 33]])\n",
    "    >>> arr = np.array([x, y, z])\n",
    "    >>> check_dimension(arr)\n",
    "    (3, 'Wrong input dimension; Expected 3 but 3 given; the samples should contain (samples, events, markers)')\n",
    "    \"\"\"\n",
    "    shapes = np.array([sample.shape for sample in samples])\n",
    "    checked_value = len(shapes.shape) - 1 + shapes.shape[1] \n",
    "    \n",
    "    error_message = \\\n",
    "        \"Wrong input dimension; Expected 3 but \" + str(checked_value) + \\\n",
    "        \" given; the samples should contain (samples, events, markers)\"\n",
    "        \n",
    "    return checked_value, error_message\n",
    "\n",
    "################################################################################\n",
    "\n",
    "def data_standardization(samples, idx_sample = 0, verbose = False):\n",
    "    \"\"\"standardized features of all samples using one group of samples\n",
    "    \n",
    "    Position arguments:\n",
    "    samples    --- numpy array; (num_samples_tot, num_cells_tot, num_features)\n",
    "                   note: the num_cells_tot is not fixed for each samples\n",
    "    idx_sample --- int; which sample is used for standardization; default to 0\n",
    "    \n",
    "    Keyword arguments:\n",
    "    verbose --- print out the running process\n",
    "    \"\"\"\n",
    "    \n",
    "    if (verbose):\n",
    "        print(\"Data Standardization...\")\n",
    "    \n",
    "    # num_samples_tot, num_cells_tot, num_features\n",
    "    # => correct value: len(shapes.shape) = 2 && shapes.shape[1] = 2\n",
    "    checked_value, error_message = check_dimension(samples)\n",
    "    assert (checked_value == 3), error_message\n",
    "    assert samples.shape[0] > idx_sample, \"Incorrect input of idx_sample\"\n",
    "    \n",
    "    # calculate mu and sd\n",
    "    res = samples[idx_sample] \n",
    "    mu  = np.mean(res, axis=0)\n",
    "    sd  = np.std( res, axis=0)\n",
    "    \n",
    "    # standardize\n",
    "    samples_stdard = np.array( [(sample - mu) / sd for sample in samples] )    \n",
    "    \n",
    "    if (verbose):\n",
    "        print(\"...Finish\")\n",
    "        \n",
    "    return(samples_stdard)\n",
    "\n",
    "##############################################################################\n",
    "\n",
    "def data_subsetting(samples, label_groups, k = 1000, num_subsets = 10, rand_seed = 0, verbose = False):\n",
    "    \"\"\"create subsets for each sample\n",
    "    \n",
    "    Position arguments:\n",
    "    samples      --- numpy array; (num_samples_tot, num_cells_tot, num_features)\n",
    "    label_groups --- list or numpy array; label of each sample in samples\n",
    "    \n",
    "    Keyword arguments:\n",
    "    k           --- number of cells get from the each sample\n",
    "    num_subsets --- number of subsets; each subset contain k cells\n",
    "    rand_seed   --- random seed\n",
    "    verbose     --- print out the running process\n",
    "    \"\"\"\n",
    "    \n",
    "    if (verbose):\n",
    "        print(\"Data Subsetting...\")\n",
    "        \n",
    "    # check the dimension\n",
    "    checked_value, error_message = check_dimension(samples)\n",
    "    assert (checked_value == 3), error_message\n",
    "    \n",
    "    # initialization\n",
    "    #num_samples_tot, num_cells_tot, num_features = samples.shape\n",
    "    num_samples_tot = samples.shape[0]\n",
    "    rand.seed(rand_seed)\n",
    "    result_samples = []\n",
    "    result_labels  = []\n",
    "    \n",
    "    # iterate through all samples\n",
    "    for idx_sample in range(num_samples_tot):\n",
    "        \n",
    "        # initialization in each loop\n",
    "        sample = samples[idx_sample]\n",
    "        num_cells_tot = sample.shape[0]\n",
    "        num_features  = sample.shape[1]\n",
    "        \n",
    "        # record the corresponding label\n",
    "        group  = label_groups[idx_sample]\n",
    "        result_labels += ([group] * num_subsets)\n",
    "        \n",
    "        # generate subsets in each sample\n",
    "        for _ in range(num_subsets):\n",
    "            \n",
    "            # choose k cells randomly\n",
    "            idx = rand.permutation(num_cells_tot)[:k]\n",
    "            result_samples.append(sample[idx])\n",
    "              \n",
    "    # convert results from list to numpy array\n",
    "    result_samples = np.array(result_samples) # (num_samples_tot * num_subsets, k, num_genes)\n",
    "    result_labels  = np.array(result_labels)  # (num_samples_tot * num_subsets,)\n",
    "    \n",
    "    if (verbose):\n",
    "        print(\"...Finish\")\n",
    "    \n",
    "    return result_labels, result_samples\n",
    "\n",
    "##############################################################################\n",
    "\n",
    "def create_tsne(samples, verbose = False,\n",
    "                tsne_dimension  = 2,\n",
    "                tsne_perplexity = 40, \n",
    "                tsne_iter       = 300, \n",
    "                tsne_verbose    = 0,\n",
    "                tsne_rand_seed  = 0):\n",
    "    \"\"\"create t-SNE plot for each sample\n",
    "    \n",
    "    Position arguments:\n",
    "    samples --- numpy array; (num_samples_tot, num_cells_tot, num_features)\n",
    "    \n",
    "    Keyword arguments:\n",
    "    rand_seed --- random seed\n",
    "    verbose   --- print out the running process\n",
    "    \"\"\"\n",
    "    \n",
    "    if (verbose):\n",
    "        print(\"Create t-SNE plots...\")\n",
    "        \n",
    "    # check the dimension\n",
    "    checked_value, error_message = check_dimension(samples)\n",
    "    assert (checked_value == 3), error_message\n",
    "    \n",
    "    # initialization\n",
    "    num_samples_tot = samples.shape[0]\n",
    "    result_tsne = []\n",
    "    \n",
    "    # generate tsne plot for each sample\n",
    "    for idx_sample in range(num_samples_tot):\n",
    "        if (verbose):\n",
    "            print(\"\\tPrepare t-SNE plot of the\", idx_sample, \"sample\")\n",
    "        \n",
    "        # initialization in each loop\n",
    "        sample = samples[idx_sample]\n",
    "        num_cells_tot = sample.shape[0]\n",
    "        num_features  = sample.shape[1]\n",
    "        \n",
    "        # for each sample, generate a t-SNE plot\n",
    "        tsne = TSNE(n_components = tsne_dimension, \n",
    "                    verbose      = tsne_verbose, \n",
    "                    perplexity   = tsne_perplexity, \n",
    "                    n_iter       = tsne_iter, \n",
    "                    random_state = tsne_rand_seed)\n",
    "        res = tsne.fit_transform(sample)\n",
    "        result_tsne.append(res)\n",
    "    \n",
    "    # convert the result from list to numpy array\n",
    "    result_tsne = np.array(result_tsne)\n",
    "    \n",
    "    if (verbose):\n",
    "        print(\"...Finish\")\n",
    "        \n",
    "    return result_tsne\n",
    "\n",
    "##############################################################################\n",
    "\n",
    "def create_img(tsne_plots, samples, n_grid = 128, \n",
    "               verbose = False, \n",
    "               verbose_sample = False, \n",
    "               verbose_marker = False):\n",
    "    \"\"\"create image from t-SNE plot\n",
    "    \n",
    "    Position arguments:\n",
    "    tsne_plots --- numpy array; (num_samples_tot, num_cells_tot, 2)\n",
    "    samples    --- numpy array; (num_samples_tot, num_cells_tot, num_features)\n",
    "    \n",
    "    Keyword arguments:\n",
    "    n_grid  --- the dimension of image (n_grid x n_grid)\n",
    "    verbose --- print out the running process\n",
    "    \"\"\"\n",
    "    \n",
    "    if (verbose):\n",
    "        print(\"Create images from t-SNE plot...\")\n",
    "    \n",
    "    # check the dimension\n",
    "    checked_value, error_message = check_dimension(samples)\n",
    "    assert (checked_value == 3), error_message\n",
    "    \n",
    "    # initialization\n",
    "    num_samples_tot = np.min([tsne_plots.shape[0], samples.shape[0]])\n",
    "    result_img = []\n",
    "    \n",
    "    # iterate though each samples\n",
    "    for idx_sample in range(num_samples_tot):\n",
    "        if (verbose_sample):\n",
    "            print(\"\\tPrepare image of the\", idx_sample, \"sample\")\n",
    "        \n",
    "        # initialization in each loop\n",
    "        sample = samples[idx_sample]\n",
    "        num_cells_tot = sample.shape[0]\n",
    "        num_features  = sample.shape[1]\n",
    "        \n",
    "        # get x, y coordinate of a plot\n",
    "        tsne_plot = tsne_plots[idx_sample]\n",
    "        x = tsne_plot[:, 0]\n",
    "        y = tsne_plot[:, 1]\n",
    "        \n",
    "        # generate a grid\n",
    "        x_c = np.linspace(min(x), max(x), n_grid)\n",
    "        y_c = np.linspace(min(y), max(y), n_grid)\n",
    "        x_c, y_c = np.meshgrid(x_c, y_c)\n",
    "        \n",
    "        # each feature is a layer/channel for the plot\n",
    "        # to get each layer, perform interpolation to convert tSNE plot in a image\n",
    "        img = []\n",
    "        for idx_feature in range(num_features):\n",
    "            \n",
    "            if (verbose_marker):\n",
    "                print(\"\\t\\tinterpolating the\", idx_feature, \"feature\")\n",
    "            \n",
    "            # interpolation\n",
    "            z = sample[:, idx_feature]\n",
    "            rbfi = Rbf(x, y, z, function='multiquadric', smooth=1)\n",
    "            \n",
    "            # store into a list \"img\"\n",
    "            z_c = rbfi(x_c, y_c)\n",
    "            img.append(z_c)\n",
    "            \n",
    "        # normalize & arrange the interpolated feature values    \n",
    "        img = np.array(img)\n",
    "        img = (img - np.min(img)) / (np.max(img) - np.min(img))\n",
    "        \n",
    "        # append each interpolated result to the result\n",
    "        result_img.append(img)\n",
    "        \n",
    "    # standardize images\n",
    "    result_img = [(img - np.min(img)) / (np.max(img) - np.min(img)) for img in result_img]\n",
    "    result_img = np.array(result_img)\n",
    "    \n",
    "    if (verbose):\n",
    "        print(\"...Finish\")\n",
    "        \n",
    "    return result_img"
   ]
  },
  {
   "cell_type": "code",
   "execution_count": null,
   "metadata": {},
   "outputs": [],
   "source": []
  },
  {
   "cell_type": "code",
   "execution_count": null,
   "metadata": {},
   "outputs": [],
   "source": []
  },
  {
   "cell_type": "code",
   "execution_count": null,
   "metadata": {},
   "outputs": [],
   "source": []
  },
  {
   "cell_type": "code",
   "execution_count": null,
   "metadata": {},
   "outputs": [],
   "source": []
  },
  {
   "cell_type": "code",
   "execution_count": null,
   "metadata": {},
   "outputs": [],
   "source": []
  },
  {
   "cell_type": "code",
   "execution_count": null,
   "metadata": {},
   "outputs": [],
   "source": []
  },
  {
   "cell_type": "code",
   "execution_count": null,
   "metadata": {},
   "outputs": [],
   "source": []
  }
 ],
 "metadata": {
  "kernelspec": {
   "display_name": "Python 3",
   "language": "python",
   "name": "python3"
  },
  "language_info": {
   "codemirror_mode": {
    "name": "ipython",
    "version": 3
   },
   "file_extension": ".py",
   "mimetype": "text/x-python",
   "name": "python",
   "nbconvert_exporter": "python",
   "pygments_lexer": "ipython3",
   "version": "3.6.3"
  }
 },
 "nbformat": 4,
 "nbformat_minor": 2
}
