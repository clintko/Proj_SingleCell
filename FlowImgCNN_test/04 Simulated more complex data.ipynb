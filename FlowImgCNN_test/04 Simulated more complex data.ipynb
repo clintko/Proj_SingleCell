{
 "cells": [
  {
   "cell_type": "markdown",
   "metadata": {},
   "source": [
    "# Load Tools"
   ]
  },
  {
   "cell_type": "code",
   "execution_count": 1,
   "metadata": {},
   "outputs": [],
   "source": [
    "import numpy as np\n",
    "import numpy.random as rand"
   ]
  },
  {
   "cell_type": "markdown",
   "metadata": {},
   "source": [
    "# Set parameters"
   ]
  },
  {
   "cell_type": "markdown",
   "metadata": {},
   "source": [
    "Design about parameters; try different combinations\n",
    "- pi_1 = [0.9, 0.1]\n",
    "- pi_2 = [0.8, 0.2]\n",
    "- pi_3 = [0.1, 0.9]\n",
    "- mu_1 = [0,   0,   0  ]\n",
    "- mu_2 = [0,   0.1, 0.2]\n",
    "- mu_3 = [1,   1,   1  ]\n",
    "- mu_sd = eye\n",
    "- sd_1 = no correlation\n",
    "- sd_2 = correlation = 0~0.1\n",
    "- sd_3 = correlation = -1~1"
   ]
  },
  {
   "cell_type": "code",
   "execution_count": 2,
   "metadata": {},
   "outputs": [],
   "source": [
    "# number of groups\n",
    "num_groups = 2 \n",
    "\n",
    "# number of samples for each group (dim = m)\n",
    "num_samples_tot = 100\n",
    "num_samples = np.r_[70, 30]\n",
    "\n",
    "# number of cells for each sample\n",
    "num_cells_tot = 100000\n",
    "\n",
    "# number of cell types for each sample\n",
    "# for example: T cell and Bnum_samples_tot cell\n",
    "num_celltypes = 2\n",
    "\n",
    "# proportion of cell types (dim = k) \n",
    "# each vector sum to one\n",
    "pi_1 = [0.9, 0.1]\n",
    "pi_2 = [0.1, 0.9]\n",
    "\n",
    "pi = np.stack([pi_1, pi_2])\n",
    "\n",
    "# number of genes / markers / features (dim = p)\n",
    "# for example: CD3, CD8, IL-1-R\n",
    "num_features = 3 \n",
    "\n",
    "# mean value for gene expression measured by an experiment\n",
    "mu_11 = np.r_[ 0,  0,  0] # first  cell type of group 1\n",
    "mu_12 = np.r_[10, 10, 10] # second cell type of group 1\n",
    "mu_21 = np.r_[ 0,  0,  0] # first  cell type of group 2\n",
    "mu_22 = np.r_[10, 10, 10] # second cell type of group 2\n",
    "mu = np.stack((mu_11, mu_12, mu_21, mu_22), axis = 0)\n",
    "mu = np.expand_dims(mu, axis = 0)\n",
    "mu = mu.reshape(num_groups, num_celltypes, num_features)\n",
    "\n",
    "# var-cov of mu (mean value of gene expression) \n",
    "# --- covariance of sample mean (statistics)\n",
    "sig2_mu_11 = np.eye(num_features)\n",
    "sig2_mu_12 = np.eye(num_features)\n",
    "sig2_mu_21 = np.eye(num_features)\n",
    "sig2_mu_22 = np.eye(num_features)\n",
    "sig2_mu = np.stack((sig2_mu_11, sig2_mu_12, sig2_mu_21, sig2_mu_22), axis = 0)\n",
    "sig2_mu = np.expand_dims(sig2_mu, axis = 0)\n",
    "sig2_mu = np.expand_dims(sig2_mu, axis = 0)\n",
    "sig2_mu = sig2_mu.reshape(num_groups, num_celltypes, num_features, num_features)\n",
    "\n",
    "# var-cov of sample (gene expression) \n",
    "# --- covariance of sample value (random variables)\n",
    "sig2_11 = np.eye(num_features)\n",
    "sig2_12 = np.eye(num_features)\n",
    "sig2_21 = np.eye(num_features)\n",
    "sig2_22 = np.eye(num_features)\n",
    "sig2 = np.stack((sig2_11, sig2_12, sig2_21, sig2_22), axis = 0)\n",
    "sig2 = np.expand_dims(sig2, axis = 0)\n",
    "sig2 = np.expand_dims(sig2, axis = 0)\n",
    "sig2 = sig2.reshape(num_groups, num_celltypes, num_features, num_features)"
   ]
  },
  {
   "cell_type": "code",
   "execution_count": 3,
   "metadata": {},
   "outputs": [],
   "source": [
    "def data_simulation(\n",
    "    num_groups, num_samples, num_cells_tot, num_celltypes, \n",
    "    pi, mu, sig2_mu, sig2,\n",
    "    rand_seed = 0):\n",
    "    \"\"\"Simulating gene expression by multivariate normal distribution\n",
    "\n",
    "    Position arguments:\n",
    "    num_groups    --- number of groups\n",
    "    num_samples   --- # of samples for each group:\n",
    "    num_cells_tot --- # of cells for each sample:\n",
    "    num_celltypes --- # of cell types for each sample:\n",
    "    num_features  --- # of genes / markers / features\n",
    "    pi            --- Proportion of cell types in different group\n",
    "    mu            --- Mean values of the gene expression for each cell types in each groups\n",
    "    sig2_mu       --- Var-Cov matrix of mu (mean value of gene expression)\n",
    "    sig2          --- Var-Cov matrix of features / gene expression\n",
    "    \n",
    "    Keyword arguments:\n",
    "    rand_seed     --- random seed; default to 0\n",
    "    \n",
    "    Return:\n",
    "    label_groups  --- label the samples in each group\n",
    "    num_cells     --- number of each cell types based on pi for each sample in each group\n",
    "    samples       --- the simulated data\n",
    "    \"\"\"\n",
    "    \n",
    "    # set parameters and check dimensions\n",
    "    np.random.seed(rand_seed)\n",
    "    num_samples_tot = np.sum(num_samples)\n",
    "    \n",
    "    ##### Label the samples in each group #####\n",
    "    # initialization\n",
    "    label_groups = []\n",
    "\n",
    "    # Create labels of each sample\n",
    "    for idx in range(num_groups):\n",
    "        label_groups += [idx] * num_samples[idx]\n",
    "\n",
    "    label_groups = np.array(label_groups)\n",
    "    #print(\"Check Length\")\n",
    "    #print(len(label_groups) == num_samples_tot)\n",
    "    \n",
    "    ##### create number of each cell types based on pi for each sample in each group ######\n",
    "    num_cells = np.vstack([\n",
    "        rand.multinomial(\n",
    "            num_cells_tot, \n",
    "            pvals = pi[idx], \n",
    "            size = num_samples[idx]) \n",
    "        for idx in range(num_groups)\n",
    "    ]) # end vstack / list comprehension\n",
    "\n",
    "    #print(num_cells)\n",
    "    \n",
    "    ##### create mean value of gene expression for each cell type in each sample #####\n",
    "    # Generate mean values of gene expression for each sample\n",
    "    # from mulitvariate normal\n",
    "    tmp = [\n",
    "        rand.multivariate_normal(\n",
    "            mu[idx_group][idx_celltype], \n",
    "            sig2_mu[idx_group][idx_celltype], \n",
    "            num_samples[idx_group])         \n",
    "        for idx_group in range(num_groups) \n",
    "        for idx_celltype in range(num_celltypes)]\n",
    "\n",
    "    #print(len(tmp))\n",
    "    #print(tmp[0].shape)\n",
    "    #print(tmp[1].shape)\n",
    "\n",
    "\n",
    "    # arranage the dimension to (num_groups, num_celltypes, num_features)\n",
    "    tmp = np.array(tmp)\n",
    "    tmp = np.expand_dims(tmp, axis = 0)\n",
    "    tmp = tmp.reshape(num_groups, num_celltypes)\n",
    "    tmp = [np.stack(tmp[idx_group], axis = 2) for idx_group in range(num_groups)]\n",
    "    tmp = [np.swapaxes(tmp[idx_group], 1, 2)  for idx_group in range(num_groups)]\n",
    "    tmp = np.array(tmp)\n",
    "    tmp = np.vstack(tmp)\n",
    "\n",
    "    #print(\"==========\")\n",
    "    #print(tmp.shape)\n",
    "\n",
    "    # assign the result\n",
    "    mean_features = tmp\n",
    "    \n",
    "    \n",
    "    ##### create data for each sample #####\n",
    "    # initialize a container for all samples\n",
    "    samples = list()\n",
    "\n",
    "    # append array in loop\n",
    "    # note: http://akuederle.com/create-numpy-array-with-for-loop\n",
    "    for idx_sample in range(num_cells.shape[0]): # each sample can be viewed as a fcs file\n",
    "        a_sample = np.empty((0, 3))\n",
    "        idx_group = label_groups[idx_sample]\n",
    "    \n",
    "        for idx_celltype in range(num_cells.shape[1]): # each sample contains different cell types\n",
    "        \n",
    "            a_celltype = rand.multivariate_normal(\n",
    "                mean_features[idx_sample][idx_celltype], # mean\n",
    "                sig2[idx_group][idx_celltype],           # var-cov\n",
    "                num_cells[idx_sample][idx_celltype])     # size\n",
    "        \n",
    "            a_sample = np.r_[a_sample, a_celltype]\n",
    "        \n",
    "        samples.append(a_sample)\n",
    "\n",
    "    # convert output in an array\n",
    "    samples = np.array(samples)\n",
    "\n",
    "    # Check dimension (num_samples_tot, num_cells_tot, num_features)\n",
    "    #print(samples.shape) \n",
    "    \n",
    "    ##### return results #####\n",
    "    return label_groups, num_cells, samples"
   ]
  },
  {
   "cell_type": "code",
   "execution_count": 4,
   "metadata": {},
   "outputs": [],
   "source": [
    "label_groups, num_cells, samples = data_simulation(num_groups, num_samples, num_cells_tot, num_celltypes, pi, mu, sig2_mu, sig2)"
   ]
  },
  {
   "cell_type": "markdown",
   "metadata": {},
   "source": [
    "# Check the results"
   ]
  },
  {
   "cell_type": "code",
   "execution_count": 5,
   "metadata": {},
   "outputs": [
    {
     "name": "stdout",
     "output_type": "stream",
     "text": [
      "100\n",
      "(100, 2)\n",
      "(100, 100000, 3)\n"
     ]
    }
   ],
   "source": [
    "print(len(label_groups))\n",
    "print(num_cells.shape)\n",
    "print(samples.shape)"
   ]
  },
  {
   "cell_type": "code",
   "execution_count": 6,
   "metadata": {},
   "outputs": [
    {
     "name": "stdout",
     "output_type": "stream",
     "text": [
      "[70 30]\n"
     ]
    }
   ],
   "source": [
    "print(num_samples)"
   ]
  },
  {
   "cell_type": "code",
   "execution_count": 7,
   "metadata": {},
   "outputs": [
    {
     "name": "stdout",
     "output_type": "stream",
     "text": [
      "[0 0 0 0 0 0 0 0 0 0 0 0 0 0 0 0 0 0 0 0 0 0 0 0 0 0 0 0 0 0 0 0 0 0 0 0 0\n",
      " 0 0 0 0 0 0 0 0 0 0 0 0 0 0 0 0 0 0 0 0 0 0 0 0 0 0 0 0 0 0 0 0 0 1 1 1 1\n",
      " 1 1 1 1 1 1 1 1 1 1 1 1 1 1 1 1 1 1 1 1 1 1 1 1 1 1]\n",
      "70 30\n"
     ]
    }
   ],
   "source": [
    "print(label_groups)\n",
    "print(sum(label_groups == 0), sum(label_groups == 1))"
   ]
  },
  {
   "cell_type": "code",
   "execution_count": 8,
   "metadata": {},
   "outputs": [
    {
     "name": "stdout",
     "output_type": "stream",
     "text": [
      "[[89997 10003]\n",
      " [89947 10053]\n",
      " [90082  9918]\n",
      " [ 9860 90140]\n",
      " [ 9990 90010]]\n"
     ]
    }
   ],
   "source": [
    "print(num_cells[[0, 1, num_samples[0]-1, num_samples[0], -1]])"
   ]
  },
  {
   "cell_type": "code",
   "execution_count": 9,
   "metadata": {},
   "outputs": [
    {
     "name": "stdout",
     "output_type": "stream",
     "text": [
      "[[[ 4.21842186e-01  3.40078877e-01 -6.22828330e-02]\n",
      "  [ 1.11361267e+00 -4.63275636e-02 -9.34496936e-01]\n",
      "  [ 8.62272273e-01  1.18455901e-03 -7.75592690e-01]\n",
      "  ...\n",
      "  [ 9.48818096e+00  1.14705167e+01  7.47222129e+00]\n",
      "  [ 8.41849621e+00  1.19509432e+01  7.95035127e+00]\n",
      "  [ 7.95200069e+00  9.90332280e+00  7.35098483e+00]]\n",
      "\n",
      " [[-3.39105183e-01 -1.30444243e+00  4.98085965e-01]\n",
      "  [-9.29506791e-01 -1.53587049e+00  6.47259013e-01]\n",
      "  [-9.82015262e-01 -7.71320833e-02  5.93060158e-01]\n",
      "  ...\n",
      "  [ 1.08165682e+01  1.05264122e+01  8.29273427e+00]\n",
      "  [ 8.95368689e+00  8.83191931e+00  6.97581849e+00]\n",
      "  [ 9.66690534e+00  1.00582417e+01  7.82199366e+00]]\n",
      "\n",
      " [[ 2.83574827e-01 -1.01257808e+00 -1.86674833e+00]\n",
      "  [-5.56673582e-01 -9.74032245e-01  1.44219546e+00]\n",
      "  [ 9.56763413e-01  1.19713423e+00 -3.41712900e-01]\n",
      "  ...\n",
      "  [ 8.17089211e+00  8.12353728e+00  1.12285377e+01]\n",
      "  [ 8.44289952e+00  9.33269705e+00  1.22390142e+01]\n",
      "  [ 9.61667649e+00  7.05948102e+00  1.16211025e+01]]\n",
      "\n",
      " ...\n",
      "\n",
      " [[-2.65185911e-01 -1.52764097e+00 -1.36924747e+00]\n",
      "  [-2.25829746e+00 -1.12468030e+00 -2.18794121e+00]\n",
      "  [-1.12630836e+00 -2.80047528e+00 -1.19885218e+00]\n",
      "  ...\n",
      "  [ 1.13864095e+01  1.22635498e+01  1.04293843e+01]\n",
      "  [ 1.02995674e+01  1.08656443e+01  9.23603934e+00]\n",
      "  [ 9.28826500e+00  1.17762842e+01  9.38717293e+00]]\n",
      "\n",
      " [[ 8.32849945e-01  1.56615371e-01  1.22247796e-01]\n",
      "  [ 8.62879586e-01  1.17397618e+00 -1.93241497e+00]\n",
      "  [-1.84363951e+00  5.81569196e-01 -2.68767502e+00]\n",
      "  ...\n",
      "  [ 9.29674340e+00  8.07855962e+00  1.22135636e+01]\n",
      "  [ 1.15012047e+01  9.00391632e+00  9.71347129e+00]\n",
      "  [ 1.14061052e+01  8.99717233e+00  8.45273767e+00]]\n",
      "\n",
      " [[ 1.32678085e-01  2.28275627e+00  1.02103292e+00]\n",
      "  [ 6.39751329e-01  1.27769660e+00 -1.19292814e-01]\n",
      "  [ 8.79690025e-02  4.91214445e-01  6.00849821e-01]\n",
      "  ...\n",
      "  [ 1.12477396e+01  1.22123689e+01  9.48949861e+00]\n",
      "  [ 9.15932105e+00  1.09881334e+01  1.06743563e+01]\n",
      "  [ 1.10354606e+01  1.22047334e+01  1.06216195e+01]]]\n"
     ]
    }
   ],
   "source": [
    "print(samples)"
   ]
  },
  {
   "cell_type": "markdown",
   "metadata": {},
   "source": [
    "# Store the results"
   ]
  },
  {
   "cell_type": "code",
   "execution_count": 10,
   "metadata": {},
   "outputs": [],
   "source": [
    "# output the value\n",
    "file_name = \"data_simulation.npz\"\n",
    "\n",
    "# open the file for writing\n",
    "file_object = open(file_name, 'wb') # wb --- write binary\n",
    "\n",
    "# write data to the file\n",
    "np.savez(\n",
    "    file_object, \n",
    "    label_groups = label_groups, \n",
    "    num_cells = num_cells, \n",
    "    samples = samples)\n",
    "\n",
    "# close the file\n",
    "file_object.close()"
   ]
  },
  {
   "cell_type": "markdown",
   "metadata": {},
   "source": [
    "# reload data"
   ]
  },
  {
   "cell_type": "code",
   "execution_count": 20,
   "metadata": {},
   "outputs": [],
   "source": [
    "# output the value\n",
    "file_name_r = \"data_simulation.npz\"\n",
    "\n",
    "# open the file for reading\n",
    "file_object_r = open(file_name_r, 'rb') # wb --- write binary\n",
    "\n",
    "# read data\n",
    "data         = np.load(file_object_r)\n",
    "x = data['label_groups']\n",
    "y = data['num_cells']\n",
    "z = data['samples']\n",
    "\n",
    "# close the file\n",
    "file_object_r.close()"
   ]
  },
  {
   "cell_type": "code",
   "execution_count": 21,
   "metadata": {},
   "outputs": [
    {
     "name": "stdout",
     "output_type": "stream",
     "text": [
      "<class 'numpy.lib.npyio.NpzFile'>\n",
      "['label_groups', 'num_cells', 'samples']\n"
     ]
    }
   ],
   "source": [
    "print(type(data))\n",
    "print(data.files)"
   ]
  },
  {
   "cell_type": "code",
   "execution_count": 22,
   "metadata": {},
   "outputs": [
    {
     "name": "stdout",
     "output_type": "stream",
     "text": [
      "[0 0 0 0 0 0 0 0 0 0 0 0 0 0 0 0 0 0 0 0 0 0 0 0 0 0 0 0 0 0 0 0 0 0 0 0 0\n",
      " 0 0 0 0 0 0 0 0 0 0 0 0 0 0 0 0 0 0 0 0 0 0 0 0 0 0 0 0 0 0 0 0 0 1 1 1 1\n",
      " 1 1 1 1 1 1 1 1 1 1 1 1 1 1 1 1 1 1 1 1 1 1 1 1 1 1]\n",
      "(100, 2)\n",
      "(100, 100000, 3)\n"
     ]
    }
   ],
   "source": [
    "# check dimension\n",
    "print(x)\n",
    "print(y.shape)\n",
    "print(z.shape)"
   ]
  }
 ],
 "metadata": {
  "kernelspec": {
   "display_name": "Python 3",
   "language": "python",
   "name": "python3"
  },
  "language_info": {
   "codemirror_mode": {
    "name": "ipython",
    "version": 3
   },
   "file_extension": ".py",
   "mimetype": "text/x-python",
   "name": "python",
   "nbconvert_exporter": "python",
   "pygments_lexer": "ipython3",
   "version": "3.6.3"
  }
 },
 "nbformat": 4,
 "nbformat_minor": 2
}
