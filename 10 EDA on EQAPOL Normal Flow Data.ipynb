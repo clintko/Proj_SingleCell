{
 "cells": [
  {
   "cell_type": "code",
   "execution_count": 78,
   "metadata": {},
   "outputs": [],
   "source": [
    "import numpy as np\n",
    "import numpy.random as rand\n",
    "import glob\n",
    "\n",
    "import matplotlib.pyplot as plt\n",
    "import seaborn as sns"
   ]
  },
  {
   "cell_type": "markdown",
   "metadata": {},
   "source": [
    "# Directory of EQAPOL Normal Flow Data"
   ]
  },
  {
   "cell_type": "code",
   "execution_count": 1,
   "metadata": {},
   "outputs": [
    {
     "name": "stdout",
     "output_type": "stream",
     "text": [
      "AMJ_5L_CMV_pp65.RData\t  E6901FYZ-01_Costim.txt    J6901CDB-01_Costim.txt\r\n",
      "AMJ_5L_CMV_pp65.txt\t  E6901FYZ-01_SEB.txt\t    J6901CDB-01_SEB.txt\r\n",
      "AMJ_5L_Costim.RData\t  F69018CN-01_CMV_pp65.txt  J6901HJ1-06_CMV_pp65.txt\r\n",
      "AMJ_5L_Costim.txt\t  F69018CN-01_Costim.txt    J6901HJ1-06_Costim.txt\r\n",
      "AMJ_5L_SEB.txt\t\t  F69018CN-01_SEB.txt\t    J6901HJ1-06_SEB.txt\r\n",
      "B6901GFJ-08_CMV_pp65.txt  F6901DJK-01_CMV_pp65.txt  K690194C-01_CMV_pp65.txt\r\n",
      "B6901GFJ-08_Costim.txt\t  F6901DJK-01_Costim.txt    K690194C-01_Costim.txt\r\n",
      "B6901GFJ-08_SEB.txt\t  F6901DJK-01_SEB.txt\t    K690194C-01_SEB.txt\r\n",
      "default.pdf\t\t  G6901B3H-01_CMV_pp65.txt  K6901DKW-01_CMV_pp65.txt\r\n",
      "E6901F0T-07_CMV_pp65.txt  G6901B3H-01_Costim.txt    K6901DKW-01_Costim.txt\r\n",
      "E6901F0T-07_Costim.txt\t  G6901B3H-01_SEB.txt\t    K6901DKW-01_SEB.txt\r\n",
      "E6901F0T-07_SEB.txt\t  Icon?\t\t\t    markers.txt\r\n",
      "E6901FYZ-01_CMV_pp65.txt  J6901CDB-01_CMV_pp65.txt  modified1.pdf\r\n"
     ]
    }
   ],
   "source": [
    "!ls /data/flow/EQAPOL_normal"
   ]
  },
  {
   "cell_type": "markdown",
   "metadata": {},
   "source": [
    "# Read in EQAPOL Normal Data"
   ]
  },
  {
   "cell_type": "code",
   "execution_count": 31,
   "metadata": {},
   "outputs": [],
   "source": [
    "data_dir = \"/data/flow/EQAPOL_normal/\"\n",
    "files = [glob.glob(data_dir + \"*\" + idx_name + \".txt\") \n",
    "         for idx_name in ['Costim', 'CMV_pp65', 'SEB']]\n",
    "files = np.array(files)"
   ]
  },
  {
   "cell_type": "markdown",
   "metadata": {},
   "source": [
    "Markers"
   ]
  },
  {
   "cell_type": "code",
   "execution_count": 50,
   "metadata": {},
   "outputs": [
    {
     "name": "stdout",
     "output_type": "stream",
     "text": [
      "(14, 2)\n",
      "==================\n",
      "[['Scatter' 'FSC-H']\n",
      " ['Scatter' 'FSC-W']\n",
      " ['Scatter' 'FSC-A']\n",
      " ['Basic' 'CD14 CD19 vAmine']\n",
      " ['Basic' 'CD3 AmCyan']\n",
      " ['Basic' 'CD4 PerCP Cy55']\n",
      " ['Basic' 'CD8 APC Cy7']\n",
      " ['Maturational' 'CD45RO ECD']\n",
      " ['Maturational' 'CD27 APC']\n",
      " ['Maturational' 'CD57 FITC']\n",
      " ['Functional' 'TNFa A700']\n",
      " ['Functional' 'IL 2 PE']\n",
      " ['Functional' 'IFNg PE Cy7']\n",
      " ['Functional' 'CD107 PE Cy5']]\n",
      "==================\n",
      "{'FSC-H': 0, 'FSC-W': 1, 'FSC-A': 2, 'CD14 CD19 vAmine': 3, 'CD3 AmCyan': 4, 'CD4 PerCP Cy55': 5, 'CD8 APC Cy7': 6, 'CD45RO ECD': 7, 'CD27 APC': 8, 'CD57 FITC': 9, 'TNFa A700': 10, 'IL 2 PE': 11, 'IFNg PE Cy7': 12, 'CD107 PE Cy5': 13}\n"
     ]
    }
   ],
   "source": [
    "markers = np.loadtxt(data_dir + 'markers.txt', dtype=str, delimiter=\",\")\n",
    "markers_dict = {items[1]: idx for idx, items in enumerate(markers)}\n",
    "print(markers.shape)\n",
    "print(\"==================\")\n",
    "print(markers)\n",
    "print(\"==================\")\n",
    "print(markers_dict)"
   ]
  },
  {
   "cell_type": "code",
   "execution_count": 93,
   "metadata": {},
   "outputs": [
    {
     "name": "stdout",
     "output_type": "stream",
     "text": [
      "(455472, 14)\n",
      "(411894, 14)\n",
      "(422658, 14)\n"
     ]
    }
   ],
   "source": [
    "#data = np.genfromtxt('/data/flow/EQAPOL_normal/AMJ_5L_Costim.txt')\n",
    "data_Costim = np.loadtxt(data_dir + 'AMJ_5L_Costim.txt')\n",
    "data_CMV    = np.loadtxt(data_dir + 'AMJ_5L_CMV_pp65.txt')\n",
    "data_SEB    = np.loadtxt(data_dir + 'AMJ_5L_SEB.txt')\n",
    "print(data_Costim.shape)\n",
    "print(data_CMV.shape)\n",
    "print(data_SEB.shape)"
   ]
  },
  {
   "cell_type": "code",
   "execution_count": 95,
   "metadata": {},
   "outputs": [],
   "source": [
    "data_all = [data_Costim, data_CMV, data_SEB]"
   ]
  },
  {
   "cell_type": "markdown",
   "metadata": {},
   "source": [
    "# Visualize EQAPOL Normal Data\n",
    "https://seaborn.pydata.org/generated/seaborn.regplot.html"
   ]
  },
  {
   "cell_type": "code",
   "execution_count": 102,
   "metadata": {},
   "outputs": [
    {
     "name": "stdout",
     "output_type": "stream",
     "text": [
      "(100000, 2)\n",
      "(100000, 2)\n",
      "(100000, 2)\n"
     ]
    }
   ],
   "source": [
    "# set random seed\n",
    "rand.seed(0)\n",
    "\n",
    "# index for subset of data\n",
    "idx_markder = [markers_dict['CD4 PerCP Cy55'], markers_dict['CD8 APC Cy7']]\n",
    "\n",
    "#\n",
    "k = 100000 # 100,000\n",
    "subdata = []\n",
    "for idx_data in range(3):\n",
    "    data = data_all[idx_data]\n",
    "    idx_sample  = rand.permutation(range(data.shape[0]))[:k]\n",
    "    \n",
    "    #subdata = data[idx_sample, :][:, idx_marker]\n",
    "    idx = np.ix_(idx_sample, idx_marker)\n",
    "    subdata.append(data[idx])\n",
    "    print(subdata[idx_data].shape)"
   ]
  },
  {
   "cell_type": "code",
   "execution_count": 110,
   "metadata": {
    "scrolled": true
   },
   "outputs": [
    {
     "data": {
      "image/png": "[encoded data removed]",
      "text/plain": [
       "<matplotlib.figure.Figure at 0x7f3f0bd39c88>"
      ]
     },
     "metadata": {},
     "output_type": "display_data"
    }
   ],
   "source": [
    "fig, axes = plt.subplots(1, 3, figsize = (12, 4))\n",
    "#axes.scatter(subdata[:, 0], subdata[:, 1], s = 3, alpha = 0.8)\n",
    "#axes.set(xscale=\"log\", yscale=\"log\")\n",
    "\n",
    "subdata_name = [\"Costim\", \"CMV\", \"SEB\"]\n",
    "for idx_data in range(3):\n",
    "    # intialization\n",
    "    ax = axes[idx_data]\n",
    "    data = subdata[idx_data]\n",
    "    title = subdata_name[idx_data]\n",
    "    \n",
    "    # plot scatter plot\n",
    "    sns.regplot(\n",
    "        data[:, 0], data[:, 1], \n",
    "        ax = ax,\n",
    "        fit_reg = False, \n",
    "        scatter_kws={'s': 5})\n",
    "    \n",
    "    # set plot\n",
    "    ax.set_title(title)\n",
    "    ax.set_xlabel(\"CD4\")\n",
    "    ax.set_ylabel(\"CD8\")\n",
    "\n",
    "plt.tight_layout()\n",
    "plt.show()"
   ]
  },
  {
   "cell_type": "code",
   "execution_count": 123,
   "metadata": {},
   "outputs": [
    {
     "data": {
      "text/plain": [
       "array([[<matplotlib.axes._subplots.AxesSubplot object at 0x7f3f0bbf60f0>,\n",
       "        <matplotlib.axes._subplots.AxesSubplot object at 0x7f3f0e326b38>,\n",
       "        <matplotlib.axes._subplots.AxesSubplot object at 0x7f3f0e2696d8>],\n",
       "       [<matplotlib.axes._subplots.AxesSubplot object at 0x7f3f0bb182e8>,\n",
       "        <matplotlib.axes._subplots.AxesSubplot object at 0x7f3f0bd05e48>,\n",
       "        <matplotlib.axes._subplots.AxesSubplot object at 0x7f3f0bd53588>]],\n",
       "      dtype=object)"
      ]
     },
     "execution_count": 123,
     "metadata": {},
     "output_type": "execute_result"
    }
   ],
   "source": [
    "fig, axes = plt.subplots(2, 3, figsize = (12, 4))\n",
    "axes"
   ]
  },
  {
   "cell_type": "code",
   "execution_count": null,
   "metadata": {},
   "outputs": [],
   "source": [
    "fig, axes = plt.subplots(2, 3, figsize = (12, 4))\n",
    "#axes.scatter(subdata[:, 0], subdata[:, 1], s = 3, alpha = 0.8)\n",
    "#axes.set(xscale=\"log\", yscale=\"log\")\n",
    "\n",
    "subdata_name = [\"Costim\", \"CMV\", \"SEB\"]\n",
    "for idx_data in range(3):\n",
    "    data = subdata[idx_data]\n",
    "    \n",
    "    for idx_gene in range(2):\n",
    "        # intialization\n",
    "        ax = axes[idx_gene][idx_data]\n",
    "        \n",
    "    # plot scatter plot\n",
    "    sns.regplot(\n",
    "        data[:, 0], data[:, 1], \n",
    "        ax = ax,\n",
    "        fit_reg = False, \n",
    "        scatter_kws={'s': 5})\n",
    "    \n",
    "    # set plot\n",
    "    ax.set_title(title)\n",
    "    ax.set_xlabel(\"CD4\")\n",
    "    ax.set_ylabel(\"CD8\")\n",
    "\n",
    "plt.tight_layout()\n",
    "plt.show()"
   ]
  },
  {
   "cell_type": "code",
   "execution_count": null,
   "metadata": {},
   "outputs": [],
   "source": []
  },
  {
   "cell_type": "code",
   "execution_count": null,
   "metadata": {},
   "outputs": [],
   "source": []
  },
  {
   "cell_type": "markdown",
   "metadata": {},
   "source": [
    "# Converted to tSNE Plot"
   ]
  },
  {
   "cell_type": "code",
   "execution_count": 121,
   "metadata": {},
   "outputs": [],
   "source": [
    "def data_standardization(samples, verbose = True):\n",
    "    \"\"\"standardized features of all samples\"\"\"\n",
    "    \n",
    "    if (verbose):\n",
    "        print(\"Data Standardization...\")\n",
    "    \n",
    "    # check the dimension\n",
    "    checked_value = len(samples.shape)\n",
    "    error_message = \\\n",
    "        \"Wrong input dimension; Expected 3 but \" + \\\n",
    "        str(checked_value) + \\\n",
    "        \" given; the samples should contain (samples, events, markers)\"\n",
    "    assert (checked_value == 3), error_message\n",
    "           \n",
    "    # initialization\n",
    "    num_samples_tot, num_cells_tot, num_features = samples.shape\n",
    "    \n",
    "    # standardize by column\n",
    "    res = np.vstack(samples)\n",
    "    res = (res - np.mean(res, axis=0)) / np.std(res, axis=0)\n",
    "\n",
    "    # reshape the matrix back\n",
    "    res = np.expand_dims(res, axis = 0)\n",
    "    res = res.reshape(num_samples_tot, num_cells_tot, num_features)\n",
    "    \n",
    "    if (verbose):\n",
    "        print(\"...Finish\")\n",
    "    return(res)\n",
    "\n",
    "def data_augmentation(samples, label_groups, k = 1000, num_subsets = 10, rand_seed = 0, verbose = True):\n",
    "    \"\"\"create t-SNE plot for each sample\"\"\"\n",
    "    \n",
    "    if (verbose):\n",
    "        print(\"Data Augmentation...\")\n",
    "    # initialization\n",
    "    # assert(len(samples.shape) == 3)\n",
    "    rand.seed(rand_seed)\n",
    "    num_samples_tot, num_cells_tot, num_features = samples.shape\n",
    "    result_samples = []\n",
    "    result_labels  = []\n",
    "    \n",
    "    # iterate through all samples\n",
    "    for idx_sample in range(num_samples_tot):\n",
    "        sample = samples[idx_sample]\n",
    "        \n",
    "        # record the corresponding label\n",
    "        group  = label_groups[idx_sample]\n",
    "        result_labels += ([group] * num_subsets)\n",
    "        \n",
    "        # generate subsets in each sample\n",
    "        for _ in range(num_subsets):\n",
    "            \n",
    "            # choose k cells randomly\n",
    "            idx = rand.permutation(num_cells_tot)[:k]\n",
    "            result_samples.append(samples[idx_sample][idx])\n",
    "              \n",
    "    # arrange result\n",
    "    result_samples = np.array(result_samples) # (num_samples_tot * num_subsets, k, num_genes)\n",
    "    result_labels  = np.array(result_labels)  # (num_samples_tot * num_subsets,)\n",
    "    \n",
    "    if (verbose):\n",
    "        print(\"...Finish\")\n",
    "    \n",
    "    return result_labels, result_samples\n",
    "\n",
    "def create_tsne(samples, rand_seed = 0, verbose = True):\n",
    "    \"\"\"create t-SNE plot for each sample\"\"\"\n",
    "    \n",
    "    if (verbose):\n",
    "        print(\"Create t-SNE plots...\")\n",
    "    \n",
    "    # initialization\n",
    "    # assert(len(samples.shape) == 3)\n",
    "    rand.seed(rand_seed)\n",
    "    num_samples_tot, num_cells_tot, num_features = samples.shape\n",
    "    result_tsne = []\n",
    "    \n",
    "    # generate tsne plot for each sample\n",
    "    for idx_sample in range(num_samples_tot):\n",
    "        if (verbose):\n",
    "            print(\"    Prepare t-SNE plot of the\", idx_sample, \"sample\")\n",
    "        \n",
    "        # for each sample, generate a t-SNE plot\n",
    "        sample = samples[idx_sample]\n",
    "        tsne = TSNE(n_components=2, verbose=0, perplexity=40, n_iter=300) # To-Do: set the random state\n",
    "        res = tsne.fit_transform(sample)\n",
    "        result_tsne.append(res)\n",
    "    \n",
    "    # convert the result from list to numpy array\n",
    "    result_tsne = np.array(result_tsne)\n",
    "    \n",
    "    if (verbose):\n",
    "        print(\"...Finish\")\n",
    "        \n",
    "    return result_tsne\n",
    "\n",
    "def create_img(tsne_plots, samples, n_grid = 128, verbose = True):\n",
    "    \"\"\"create image from t-SNE plot\"\"\"\n",
    "    \n",
    "    if (verbose):\n",
    "        print(\"Create images from t-SNE plot...\")\n",
    "        \n",
    "    # initialization\n",
    "    # assert tsne_plots.shape[0] == tsne_plots.shape[0]\n",
    "    num_samples_tot, num_cells_tot, num_features = samples.shape\n",
    "    result_img = []\n",
    "    \n",
    "    # iterate though each samples\n",
    "    for idx_sample in range(num_samples_tot):\n",
    "        if (verbose):\n",
    "            print(\"    Prepare image of the\", idx_sample, \"sample\")\n",
    "        \n",
    "        # get each sample and its corresponding plot\n",
    "        sample = samples[idx_sample]\n",
    "        tsne_plot = tsne_plots[idx_sample]\n",
    "        \n",
    "        # get x, y coordinate of a plot\n",
    "        x = tsne_plot[:, 0]\n",
    "        y = tsne_plot[:, 1]\n",
    "        \n",
    "        # generate a grid\n",
    "        x_c = np.linspace(min(x), max(x), n_grid)\n",
    "        y_c = np.linspace(min(y), max(y), n_grid)\n",
    "        x_c, y_c = np.meshgrid(x_c, y_c)\n",
    "        \n",
    "        # each feature is a layer/channel for the plot\n",
    "        # to get each layer, perform interpolation to convert tSNE plot in a image\n",
    "        result_z = []\n",
    "        for idx_feature in range(num_features):\n",
    "        \n",
    "            z = sample[:, idx_feature]\n",
    "            rbfi = Rbf(x, y, z, function='multiquadric', smooth=1)\n",
    "            z_c = rbfi(x_c, y_c)\n",
    "            result_z.append(z_c)\n",
    "            #print(z_c.shape)\n",
    "            \n",
    "        # arrange the interpolated feature values    \n",
    "        #print(len(result_z))\n",
    "        result_z = np.array(result_z)\n",
    "        \n",
    "        # append each interpolated result to the result\n",
    "        result_img.append(result_z)\n",
    "        #print(len(result_img))\n",
    "    \n",
    "    # convert the result from list to numpy array\n",
    "    result_img = np.array(result_img)\n",
    "    \n",
    "    if (verbose):\n",
    "        print(\"...Finish\")\n",
    "        \n",
    "    return result_img"
   ]
  },
  {
   "cell_type": "markdown",
   "metadata": {},
   "source": []
  },
  {
   "cell_type": "code",
   "execution_count": 13,
   "metadata": {},
   "outputs": [
    {
     "data": {
      "text/plain": [
       "array([['/data/flow/EQAPOL_normal/AMJ_5L_Costim.txt',\n",
       "        '/data/flow/EQAPOL_normal/B6901GFJ-08_Costim.txt',\n",
       "        '/data/flow/EQAPOL_normal/E6901F0T-07_Costim.txt',\n",
       "        '/data/flow/EQAPOL_normal/E6901FYZ-01_Costim.txt',\n",
       "        '/data/flow/EQAPOL_normal/F69018CN-01_Costim.txt',\n",
       "        '/data/flow/EQAPOL_normal/F6901DJK-01_Costim.txt',\n",
       "        '/data/flow/EQAPOL_normal/G6901B3H-01_Costim.txt',\n",
       "        '/data/flow/EQAPOL_normal/J6901CDB-01_Costim.txt',\n",
       "        '/data/flow/EQAPOL_normal/J6901HJ1-06_Costim.txt',\n",
       "        '/data/flow/EQAPOL_normal/K690194C-01_Costim.txt',\n",
       "        '/data/flow/EQAPOL_normal/K6901DKW-01_Costim.txt'],\n",
       "       ['/data/flow/EQAPOL_normal/AMJ_5L_CMV_pp65.txt',\n",
       "        '/data/flow/EQAPOL_normal/B6901GFJ-08_CMV_pp65.txt',\n",
       "        '/data/flow/EQAPOL_normal/E6901F0T-07_CMV_pp65.txt',\n",
       "        '/data/flow/EQAPOL_normal/E6901FYZ-01_CMV_pp65.txt',\n",
       "        '/data/flow/EQAPOL_normal/F69018CN-01_CMV_pp65.txt',\n",
       "        '/data/flow/EQAPOL_normal/F6901DJK-01_CMV_pp65.txt',\n",
       "        '/data/flow/EQAPOL_normal/G6901B3H-01_CMV_pp65.txt',\n",
       "        '/data/flow/EQAPOL_normal/J6901CDB-01_CMV_pp65.txt',\n",
       "        '/data/flow/EQAPOL_normal/J6901HJ1-06_CMV_pp65.txt',\n",
       "        '/data/flow/EQAPOL_normal/K690194C-01_CMV_pp65.txt',\n",
       "        '/data/flow/EQAPOL_normal/K6901DKW-01_CMV_pp65.txt'],\n",
       "       ['/data/flow/EQAPOL_normal/AMJ_5L_SEB.txt',\n",
       "        '/data/flow/EQAPOL_normal/B6901GFJ-08_SEB.txt',\n",
       "        '/data/flow/EQAPOL_normal/E6901F0T-07_SEB.txt',\n",
       "        '/data/flow/EQAPOL_normal/E6901FYZ-01_SEB.txt',\n",
       "        '/data/flow/EQAPOL_normal/F69018CN-01_SEB.txt',\n",
       "        '/data/flow/EQAPOL_normal/F6901DJK-01_SEB.txt',\n",
       "        '/data/flow/EQAPOL_normal/G6901B3H-01_SEB.txt',\n",
       "        '/data/flow/EQAPOL_normal/J6901CDB-01_SEB.txt',\n",
       "        '/data/flow/EQAPOL_normal/J6901HJ1-06_SEB.txt',\n",
       "        '/data/flow/EQAPOL_normal/K690194C-01_SEB.txt',\n",
       "        '/data/flow/EQAPOL_normal/K6901DKW-01_SEB.txt']], dtype='<U49')"
      ]
     },
     "execution_count": 13,
     "metadata": {},
     "output_type": "execute_result"
    }
   ],
   "source": [
    "files"
   ]
  },
  {
   "cell_type": "code",
   "execution_count": null,
   "metadata": {},
   "outputs": [],
   "source": []
  },
  {
   "cell_type": "code",
   "execution_count": null,
   "metadata": {},
   "outputs": [],
   "source": []
  },
  {
   "cell_type": "code",
   "execution_count": null,
   "metadata": {},
   "outputs": [],
   "source": []
  },
  {
   "cell_type": "code",
   "execution_count": null,
   "metadata": {},
   "outputs": [],
   "source": []
  },
  {
   "cell_type": "code",
   "execution_count": null,
   "metadata": {},
   "outputs": [],
   "source": []
  },
  {
   "cell_type": "code",
   "execution_count": null,
   "metadata": {},
   "outputs": [],
   "source": []
  },
  {
   "cell_type": "code",
   "execution_count": null,
   "metadata": {},
   "outputs": [],
   "source": []
  },
  {
   "cell_type": "markdown",
   "metadata": {},
   "source": [
    "# Learn to use multiprocessing"
   ]
  },
  {
   "cell_type": "code",
   "execution_count": 2,
   "metadata": {},
   "outputs": [],
   "source": [
    "from multiprocessing import Pool"
   ]
  },
  {
   "cell_type": "code",
   "execution_count": 5,
   "metadata": {},
   "outputs": [
    {
     "name": "stdout",
     "output_type": "stream",
     "text": [
      "<multiprocessing.pool.Pool object at 0x7f7ae8065470>\n",
      "<bound method Pool.map of <multiprocessing.pool.Pool object at 0x7f7ae8065470>>\n",
      "<bound method Pool.starmap of <multiprocessing.pool.Pool object at 0x7f7ae8065470>>\n"
     ]
    }
   ],
   "source": [
    "pool = Pool(8)\n",
    "print(pool)\n",
    "print(pool.map)\n",
    "print(pool.starmap)"
   ]
  },
  {
   "cell_type": "code",
   "execution_count": null,
   "metadata": {},
   "outputs": [],
   "source": []
  },
  {
   "cell_type": "code",
   "execution_count": null,
   "metadata": {},
   "outputs": [],
   "source": []
  }
 ],
 "metadata": {
  "kernelspec": {
   "display_name": "Python 3",
   "language": "python",
   "name": "python3"
  },
  "language_info": {
   "codemirror_mode": {
    "name": "ipython",
    "version": 3
   },
   "file_extension": ".py",
   "mimetype": "text/x-python",
   "name": "python",
   "nbconvert_exporter": "python",
   "pygments_lexer": "ipython3",
   "version": "3.6.3"
  }
 },
 "nbformat": 4,
 "nbformat_minor": 2
}
