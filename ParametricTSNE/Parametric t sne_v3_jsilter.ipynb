{
 "cells": [
  {
   "cell_type": "code",
   "execution_count": 1,
   "metadata": {},
   "outputs": [],
   "source": [
    "import sys\n",
    "import datetime\n",
    "import os\n",
    "\n",
    "import numpy as np\n",
    "\n",
    "import seaborn as sns\n",
    "import matplotlib.pyplot as plt\n",
    "plt.style.use('ggplot')"
   ]
  },
  {
   "cell_type": "code",
   "execution_count": 13,
   "metadata": {},
   "outputs": [],
   "source": [
    "from parametric_tsne_jsilter import Parametric_tSNE\n",
    "from parametric_tsne_jsilter.utils import get_multiscale_perplexities\n",
    "#from parametric_tSNE import Parametric_tSNE\n",
    "#from parametric_tSNE.utils import get_multiscale_perplexities"
   ]
  },
  {
   "cell_type": "code",
   "execution_count": 3,
   "metadata": {},
   "outputs": [],
   "source": [
    "from sklearn.decomposition import PCA"
   ]
  },
  {
   "cell_type": "markdown",
   "metadata": {},
   "source": [
    "# Helper function"
   ]
  },
  {
   "cell_type": "code",
   "execution_count": 4,
   "metadata": {},
   "outputs": [],
   "source": [
    "def _gen_cluster_centers(num_clusters, top_cluster_size):\n",
    "    # Make two sets of points, to have local and global distances\n",
    "    cluster_centers = np.zeros([num_clusters, num_clusters])\n",
    "    cluster_centers[0:top_cluster_size, 0:top_cluster_size] = 1.0\n",
    "    cluster_centers[top_cluster_size::, top_cluster_size::] = 1.0\n",
    "    cluster_centers[np.diag_indices(num_clusters)] *= -1\n",
    "    cluster_centers *= top_cluster_size\n",
    "    \n",
    "    return cluster_centers\n",
    "    \n",
    "def _gen_hollow_spheres(num_clusters, num_samps, num_rand_points=0):\n",
    "    top_cluster_size = min([5, num_samps])\n",
    "    cluster_centers = _gen_cluster_centers(num_clusters, top_cluster_size)\n",
    "    cluster_assignments = np.arange(0, num_samps) % num_clusters\n",
    "    \n",
    "    per_samp_centers = cluster_centers[cluster_assignments, :]\n",
    "    \n",
    "    radii = 0.5*np.ones([num_clusters])\n",
    "    # Make two sets, have second set be larger spheres\n",
    "    radii[top_cluster_size::] = 1.5\n",
    "    \n",
    "    cluster_radii = radii[cluster_assignments]\n",
    "    # Add a little noise to the radius\n",
    "    cluster_radii += np.random.normal(loc=0.0, scale=0.05, size=num_samps)\n",
    "    \n",
    "    # Add high variance to a subset of points, to simulate noise\n",
    "    for xx in range(num_rand_points):\n",
    "        rand_ind = np.random.randint(len(cluster_radii))\n",
    "        cluster_radii[rand_ind] = np.random.uniform(low=0.05, high=10.0)\n",
    "        per_samp_centers[rand_ind, :] += np.random.normal(loc=0.0, scale=10.0, size=cluster_centers.shape[1])\n",
    "        \n",
    "    #Apparently normally distributed points will be uniform\n",
    "    #across the surface of a sphere\n",
    "    init_points = np.random.normal(loc=0.0, scale=1.0, size=[num_samps, num_clusters])\n",
    "    # Regenerate any points too close to the origin\n",
    "    min_rad = 1e-3\n",
    "    init_radii = np.linalg.norm(init_points, axis=1)\n",
    "    bad_points = np.where(init_radii < min_rad)[0]\n",
    "    num_bad_points = len(bad_points)\n",
    "    while num_bad_points >= 1:\n",
    "        init_points[bad_points, :] = np.random.normal(loc=0.0, scale=1.0, \n",
    "            size=[num_bad_points, num_clusters])\n",
    "        init_radii = np.linalg.norm(init_points, axis=1)\n",
    "        bad_points = np.where(init_radii < min_rad)[0]\n",
    "        num_bad_points = len(bad_points)\n",
    "    \n",
    "    init_points = init_points / init_radii[:, np.newaxis]\n",
    "    \n",
    "    final_points = init_points * cluster_radii[:, np.newaxis]\n",
    "    #final_radii = np.linalg.norm(final_points, axis=1)\n",
    "    # Center spheres on different points\n",
    "    final_points += per_samp_centers\n",
    "    \n",
    "    return final_points, cluster_assignments\n",
    "        \n",
    "    \n",
    "def _gen_dense_spheres(num_clusters, num_samps, num_rand_points=0):\n",
    "    \"\"\" Generate `num_clusters` sets of dense spheres of points, in\n",
    "    `num_clusters` - dimensonal space. Total number of points = `num_samps`\"\"\"\n",
    "    # Make two sets of points, to have local and global distances\n",
    "    top_cluster_size = min([5, num_samps])\n",
    "    cluster_centers = _gen_cluster_centers(num_clusters, top_cluster_size)\n",
    "    \n",
    "    pick_rows = np.arange(0, num_samps) % num_clusters\n",
    "    scales = 1.0 + 2*(np.array(pick_rows, dtype=float) / num_clusters)\n",
    "    \n",
    "    test_data = cluster_centers[pick_rows, :]\n",
    "    \n",
    "    # Add high variance to a subset of points, to simulate points\n",
    "    # not belonging to any cluster \n",
    "    for xx in range(num_rand_points):\n",
    "        rand_ind = np.random.randint(len(scales))\n",
    "        scales[rand_ind] = 10.0\n",
    "    \n",
    "    # Loop through so as to provide a difference variance for each cluster\n",
    "    for xx in range(num_samps):\n",
    "        test_data[xx, :] += np.random.normal(loc=0.0, scale=scales[xx], size=num_clusters)\n",
    "    \n",
    "    return test_data, pick_rows\n",
    "\n",
    "\n",
    "def _plot_scatter(output_res, pick_rows, color_palette, alpha=0.5, symbol='o'):\n",
    "    num_clusters = len(set(pick_rows))\n",
    "    for ci in range(num_clusters):\n",
    "        cur_plot_rows = pick_rows == ci\n",
    "        cur_color = color_palette[ci]\n",
    "        plt.plot(output_res[cur_plot_rows, 0], output_res[cur_plot_rows, 1], symbol, \n",
    "        color=cur_color, label=ci, alpha=alpha)\n",
    "        \n",
    "\n",
    "def _plot_kde(output_res, pick_rows, color_palette, alpha=0.5):\n",
    "    num_clusters = len(set(pick_rows))\n",
    "    for ci in range(num_clusters):\n",
    "        cur_plot_rows = pick_rows == ci\n",
    "        cur_cmap = sns.light_palette(color_palette[ci], as_cmap=True)\n",
    "        sns.kdeplot(output_res[cur_plot_rows, 0], output_res[cur_plot_rows, 1], cmap=cur_cmap, shade=True, alpha=alpha,\n",
    "            shade_lowest=False)\n",
    "        centroid = output_res[cur_plot_rows, :].mean(axis=0)\n",
    "        plt.annotate('%s' % ci, xy=centroid, xycoords='data', alpha=0.5,\n",
    "                     horizontalalignment='center', verticalalignment='center')"
   ]
  },
  {
   "cell_type": "markdown",
   "metadata": {},
   "source": [
    "#"
   ]
  },
  {
   "cell_type": "code",
   "execution_count": 6,
   "metadata": {},
   "outputs": [],
   "source": [
    "# Parametric tSNE example\n",
    "num_clusters = 14\n",
    "\n",
    "num_samps = 1000\n",
    "do_pretrain = True\n",
    "epochs = 20\n",
    "batches_per_epoch = 8\n",
    "batch_size = 128\n",
    "color_palette = sns.color_palette(\"hls\", num_clusters)\n",
    "test_data_tag = 'hollow'"
   ]
  },
  {
   "cell_type": "code",
   "execution_count": 7,
   "metadata": {},
   "outputs": [],
   "source": [
    "num_rand_points = int(num_samps / num_clusters)\n",
    "num_outputs = 2\n",
    "alpha_ = num_outputs - 1.0"
   ]
  },
  {
   "cell_type": "code",
   "execution_count": 8,
   "metadata": {},
   "outputs": [],
   "source": [
    "if test_data_tag == 'dense':\n",
    "    _gen_test_data = _gen_dense_spheres\n",
    "elif test_data_tag == 'hollow':\n",
    "    _gen_test_data = _gen_hollow_spheres"
   ]
  },
  {
   "cell_type": "code",
   "execution_count": 9,
   "metadata": {},
   "outputs": [],
   "source": [
    "# Generate \"training\" data\n",
    "np.random.seed(12345)\n",
    "train_data, pick_rows = _gen_test_data(num_clusters, num_samps, num_rand_points)\n",
    "\n",
    "# Generate \"test\" data\n",
    "np.random.seed(86131894)\n",
    "test_data, test_pick_rows = _gen_test_data(num_clusters, num_samps, num_rand_points)\n",
    "\n",
    "transformer_list = [{'label': 'Multiscale tSNE', 'tag': 'tSNE_multiscale', 'perplexity': None, 'transformer': None},\n",
    "                    {'label': 'tSNE (Perplexity=10)', 'tag': 'tSNE_perp10', 'perplexity': 10, 'transformer': None},\n",
    "                    {'label': 'tSNE (Perplexity=100)', 'tag': 'tSNE_perp100', 'perplexity': 100, 'transformer': None},\n",
    "                    {'label': 'tSNE (Perplexity=500)', 'tag': 'tSNE_perp500', 'perplexity': 500, 'transformer': None}]"
   ]
  },
  {
   "cell_type": "code",
   "execution_count": 10,
   "metadata": {},
   "outputs": [
    {
     "name": "stdout",
     "output_type": "stream",
     "text": [
      "{'label': 'tSNE (Perplexity=10)', 'tag': 'tSNE_perp10', 'perplexity': 10, 'transformer': None}\n"
     ]
    }
   ],
   "source": [
    "tlist = transformer_list[1]\n",
    "print(tlist)"
   ]
  },
  {
   "cell_type": "code",
   "execution_count": 15,
   "metadata": {},
   "outputs": [
    {
     "name": "stdout",
     "output_type": "stream",
     "text": [
      "10\n"
     ]
    }
   ],
   "source": [
    "perplexity = tlist['perplexity']\n",
    "print(perplexity)"
   ]
  },
  {
   "cell_type": "code",
   "execution_count": 29,
   "metadata": {},
   "outputs": [
    {
     "name": "stdout",
     "output_type": "stream",
     "text": [
      "14\n",
      "2\n",
      "1.0\n",
      "True\n",
      "128\n",
      "20\n"
     ]
    }
   ],
   "source": [
    "print(train_data.shape[1])\n",
    "print(num_outputs)\n",
    "print(alpha_)\n",
    "print(do_pretrain)\n",
    "print(batch_size)\n",
    "print(epochs)"
   ]
  },
  {
   "cell_type": "code",
   "execution_count": 16,
   "metadata": {},
   "outputs": [],
   "source": [
    "#print('Using multiple perplexities: %s' % (','.join(map(str, perplexity))))\n",
    "ptSNE = Parametric_tSNE(\n",
    "    train_data.shape[1], num_outputs, perplexity,\n",
    "    alpha = alpha_, \n",
    "    do_pretrain = do_pretrain, \n",
    "    batch_size = batch_size,\n",
    "    seed = 54321)"
   ]
  },
  {
   "cell_type": "code",
   "execution_count": 17,
   "metadata": {},
   "outputs": [
    {
     "name": "stdout",
     "output_type": "stream",
     "text": [
      "2018-06-01 06:25:00.701408: Pretraining 4 layers\n",
      "Epoch 1/20\n",
      "1000/1000 [==============================] - 0s - loss: 16.5545     \n",
      "Epoch 2/20\n",
      "1000/1000 [==============================] - 0s - loss: 13.0004     \n",
      "Epoch 3/20\n",
      "1000/1000 [==============================] - 0s - loss: 11.3987     \n",
      "Epoch 4/20\n",
      "1000/1000 [==============================] - 0s - loss: 10.0881     \n",
      "Epoch 5/20\n",
      "1000/1000 [==============================] - 0s - loss: 8.9635     \n",
      "Epoch 6/20\n",
      "1000/1000 [==============================] - 0s - loss: 7.9910      \n",
      "Epoch 7/20\n",
      "1000/1000 [==============================] - 0s - loss: 7.1139     \n",
      "Epoch 8/20\n",
      "1000/1000 [==============================] - 0s - loss: 6.3103     \n",
      "Epoch 9/20\n",
      "1000/1000 [==============================] - 0s - loss: 5.5969     \n",
      "Epoch 10/20\n",
      "1000/1000 [==============================] - 0s - loss: 4.9621     \n",
      "Epoch 11/20\n",
      "1000/1000 [==============================] - 0s - loss: 4.3912     \n",
      "Epoch 12/20\n",
      "1000/1000 [==============================] - 0s - loss: 3.9119     \n",
      "Epoch 13/20\n",
      "1000/1000 [==============================] - 0s - loss: 3.5103     \n",
      "Epoch 14/20\n",
      "1000/1000 [==============================] - 0s - loss: 3.1777     \n",
      "Epoch 15/20\n",
      "1000/1000 [==============================] - 0s - loss: 2.9080     \n",
      "Epoch 16/20\n",
      "1000/1000 [==============================] - 0s - loss: 2.7033     \n",
      "Epoch 17/20\n",
      "1000/1000 [==============================] - 0s - loss: 2.5327     \n",
      "Epoch 18/20\n",
      "1000/1000 [==============================] - 0s - loss: 2.4109     \n",
      "Epoch 19/20\n",
      "1000/1000 [==============================] - 0s - loss: 2.2999     \n",
      "Epoch 20/20\n",
      "1000/1000 [==============================] - 0s - loss: 2.2045     \n",
      "Epoch 1/20\n",
      "1000/1000 [==============================] - 0s - loss: 15.9608     \n",
      "Epoch 2/20\n",
      "1000/1000 [==============================] - 0s - loss: 12.4203     \n",
      "Epoch 3/20\n",
      "1000/1000 [==============================] - 0s - loss: 10.4713     \n",
      "Epoch 4/20\n",
      "1000/1000 [==============================] - 0s - loss: 9.0440     \n",
      "Epoch 5/20\n",
      "1000/1000 [==============================] - 0s - loss: 7.8529     \n",
      "Epoch 6/20\n",
      "1000/1000 [==============================] - 0s - loss: 6.9267     \n",
      "Epoch 7/20\n",
      "1000/1000 [==============================] - 0s - loss: 6.0449     \n",
      "Epoch 8/20\n",
      "1000/1000 [==============================] - 0s - loss: 5.4322     \n",
      "Epoch 9/20\n",
      "1000/1000 [==============================] - 0s - loss: 4.9778     \n",
      "Epoch 10/20\n",
      "1000/1000 [==============================] - 0s - loss: 4.5516     \n",
      "Epoch 11/20\n",
      "1000/1000 [==============================] - 0s - loss: 4.3129     \n",
      "Epoch 12/20\n",
      "1000/1000 [==============================] - 0s - loss: 4.2076     \n",
      "Epoch 13/20\n",
      "1000/1000 [==============================] - 0s - loss: 3.9948     \n",
      "Epoch 14/20\n",
      "1000/1000 [==============================] - 0s - loss: 3.9065     \n",
      "Epoch 15/20\n",
      "1000/1000 [==============================] - 0s - loss: 3.7898     \n",
      "Epoch 16/20\n",
      "1000/1000 [==============================] - 0s - loss: 3.6987     \n",
      "Epoch 17/20\n",
      "1000/1000 [==============================] - 0s - loss: 3.7060     \n",
      "Epoch 18/20\n",
      "1000/1000 [==============================] - 0s - loss: 3.6306     \n",
      "Epoch 19/20\n",
      "1000/1000 [==============================] - 0s - loss: 3.5237     \n",
      "Epoch 20/20\n",
      "1000/1000 [==============================] - 0s - loss: 3.5249     \n",
      "Epoch 1/20\n",
      "1000/1000 [==============================] - 0s - loss: 16.8653     \n",
      "Epoch 2/20\n",
      "1000/1000 [==============================] - 0s - loss: 10.9381     \n",
      "Epoch 3/20\n",
      "1000/1000 [==============================] - 0s - loss: 9.2117     \n",
      "Epoch 4/20\n",
      "1000/1000 [==============================] - 0s - loss: 7.8030     \n",
      "Epoch 5/20\n",
      "1000/1000 [==============================] - 0s - loss: 6.6294     \n",
      "Epoch 6/20\n",
      "1000/1000 [==============================] - 0s - loss: 6.0433     \n",
      "Epoch 7/20\n",
      "1000/1000 [==============================] - 0s - loss: 5.6850     \n",
      "Epoch 8/20\n",
      "1000/1000 [==============================] - 0s - loss: 5.3751     \n",
      "Epoch 9/20\n",
      "1000/1000 [==============================] - 0s - loss: 4.8104     \n",
      "Epoch 10/20\n",
      "1000/1000 [==============================] - 0s - loss: 5.1773     \n",
      "Epoch 11/20\n",
      "1000/1000 [==============================] - 0s - loss: 4.7576     \n",
      "Epoch 12/20\n",
      "1000/1000 [==============================] - 0s - loss: 4.7822     \n",
      "Epoch 13/20\n",
      "1000/1000 [==============================] - 0s - loss: 4.5376     \n",
      "Epoch 14/20\n",
      "1000/1000 [==============================] - 0s - loss: 4.5564     \n",
      "Epoch 15/20\n",
      "1000/1000 [==============================] - 0s - loss: 4.6895     \n",
      "Epoch 16/20\n",
      "1000/1000 [==============================] - 0s - loss: 4.3346     \n",
      "Epoch 17/20\n",
      "1000/1000 [==============================] - 0s - loss: 4.3815     \n",
      "Epoch 18/20\n",
      "1000/1000 [==============================] - 0s - loss: 4.2604     \n",
      "Epoch 19/20\n",
      "1000/1000 [==============================] - 0s - loss: 4.2597     \n",
      "Epoch 20/20\n",
      "1000/1000 [==============================] - 0s - loss: 4.1098     \n",
      "Epoch 1/20\n",
      "1000/1000 [==============================] - 0s - loss: 20.7948     \n",
      "Epoch 2/20\n",
      "1000/1000 [==============================] - 0s - loss: 19.3573     \n",
      "Epoch 3/20\n",
      "1000/1000 [==============================] - 0s - loss: 18.9417     \n",
      "Epoch 4/20\n",
      "1000/1000 [==============================] - 0s - loss: 18.8130     \n",
      "Epoch 5/20\n",
      "1000/1000 [==============================] - 0s - loss: 18.6341     \n",
      "Epoch 6/20\n",
      "1000/1000 [==============================] - 0s - loss: 18.3182     \n",
      "Epoch 7/20\n",
      "1000/1000 [==============================] - 0s - loss: 18.4728     \n",
      "Epoch 8/20\n",
      "1000/1000 [==============================] - 0s - loss: 18.0807     \n",
      "Epoch 9/20\n",
      "1000/1000 [==============================] - 0s - loss: 17.9859     \n",
      "Epoch 10/20\n",
      "1000/1000 [==============================] - 0s - loss: 17.9393     \n",
      "Epoch 11/20\n",
      "1000/1000 [==============================] - 0s - loss: 17.6102     \n",
      "Epoch 12/20\n",
      "1000/1000 [==============================] - 0s - loss: 17.6058     \n",
      "Epoch 13/20\n",
      "1000/1000 [==============================] - 0s - loss: 17.3502     \n",
      "Epoch 14/20\n",
      "1000/1000 [==============================] - 0s - loss: 17.3220     \n",
      "Epoch 15/20\n",
      "1000/1000 [==============================] - 0s - loss: 17.0334     \n",
      "Epoch 16/20\n",
      "1000/1000 [==============================] - 0s - loss: 17.0485     \n",
      "Epoch 17/20\n",
      "1000/1000 [==============================] - 0s - loss: 16.7544     \n",
      "Epoch 18/20\n",
      "1000/1000 [==============================] - 0s - loss: 16.5994     \n",
      "Epoch 19/20\n",
      "1000/1000 [==============================] - 0s - loss: 16.6464     \n",
      "Epoch 20/20\n",
      "1000/1000 [==============================] - 0s - loss: 16.3831     \n",
      "2018-06-01 06:25:06.120360: Finished pretraining\n",
      "2018-06-01 06:25:06.231572: Beginning training on 20 epochs\n",
      "Epoch 1/20\n",
      "7/7 [==============================] - 0s - loss: 130.0130     \n",
      "Epoch 2/20\n",
      "7/7 [==============================] - 0s - loss: 91.0262     \n",
      "Epoch 3/20\n",
      "7/7 [==============================] - 0s - loss: 82.8833     \n",
      "Epoch 4/20\n",
      "7/7 [==============================] - 0s - loss: 78.0865     \n",
      "Epoch 5/20\n",
      "7/7 [==============================] - 0s - loss: 74.8360     \n",
      "Epoch 6/20\n",
      "7/7 [==============================] - 0s - loss: 72.1041     \n",
      "Epoch 7/20\n",
      "7/7 [==============================] - 0s - loss: 69.9807     \n",
      "Epoch 8/20\n",
      "7/7 [==============================] - 0s - loss: 68.2295     \n",
      "Epoch 9/20\n",
      "7/7 [==============================] - 0s - loss: 66.6905     \n",
      "Epoch 10/20\n",
      "7/7 [==============================] - 0s - loss: 65.3267     \n",
      "Epoch 11/20\n",
      "7/7 [==============================] - 0s - loss: 64.0389     \n",
      "Epoch 12/20\n",
      "7/7 [==============================] - 0s - loss: 62.7883     \n",
      "Epoch 13/20\n",
      "7/7 [==============================] - 0s - loss: 61.5618     \n",
      "Epoch 14/20\n",
      "7/7 [==============================] - 0s - loss: 60.3717     \n",
      "Epoch 15/20\n",
      "7/7 [==============================] - 0s - loss: 59.2228     \n",
      "Epoch 16/20\n",
      "7/7 [==============================] - 0s - loss: 58.1196     \n",
      "Epoch 17/20\n",
      "7/7 [==============================] - 0s - loss: 57.0528     \n",
      "Epoch 18/20\n",
      "7/7 [==============================] - 0s - loss: 56.0202     \n",
      "Epoch 19/20\n",
      "7/7 [==============================] - 0s - loss: 55.0423     \n",
      "Epoch 20/20\n",
      "7/7 [==============================] - 0s - loss: 54.1256     \n",
      "2018-06-01 06:25:08.620586: Finished training on 20 epochs\n"
     ]
    }
   ],
   "source": [
    "ptSNE.fit(train_data, epochs=epochs, verbose=1)"
   ]
  },
  {
   "cell_type": "code",
   "execution_count": 19,
   "metadata": {},
   "outputs": [],
   "source": [
    "output_res = ptSNE.transform(train_data)\n",
    "test_res = ptSNE.transform(test_data)"
   ]
  },
  {
   "cell_type": "code",
   "execution_count": 24,
   "metadata": {},
   "outputs": [
    {
     "name": "stdout",
     "output_type": "stream",
     "text": [
      "(1000, 2)\n",
      "(1000, 2)\n"
     ]
    }
   ],
   "source": [
    "print(output_res.shape)\n",
    "print(test_res.shape)"
   ]
  },
  {
   "cell_type": "code",
   "execution_count": 22,
   "metadata": {},
   "outputs": [
    {
     "data": {
      "image/png": "[encoded data removed]",
      "text/plain": [
       "<Figure size 432x288 with 1 Axes>"
      ]
     },
     "metadata": {},
     "output_type": "display_data"
    }
   ],
   "source": [
    "plt.figure()\n",
    "\n",
    "# Create a contour plot of training data\n",
    "_plot_kde(output_res, pick_rows, color_palette, 0.5)\n",
    "        \n",
    "# Scatter plot of test data\n",
    "_plot_scatter(test_res, test_pick_rows, color_palette, alpha=0.1, symbol='*')\n",
    "\n",
    "plt.show()"
   ]
  },
  {
   "cell_type": "code",
   "execution_count": null,
   "metadata": {},
   "outputs": [],
   "source": []
  }
 ],
 "metadata": {
  "kernelspec": {
   "display_name": "Python 3",
   "language": "python",
   "name": "python3"
  },
  "language_info": {
   "codemirror_mode": {
    "name": "ipython",
    "version": 3
   },
   "file_extension": ".py",
   "mimetype": "text/x-python",
   "name": "python",
   "nbconvert_exporter": "python",
   "pygments_lexer": "ipython3",
   "version": "3.6.3"
  }
 },
 "nbformat": 4,
 "nbformat_minor": 2
}
