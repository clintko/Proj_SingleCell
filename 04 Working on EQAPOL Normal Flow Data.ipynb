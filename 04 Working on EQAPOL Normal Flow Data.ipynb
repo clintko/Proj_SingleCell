{
 "cells": [
  {
   "cell_type": "code",
   "execution_count": 1,
   "metadata": {},
   "outputs": [
    {
     "name": "stdout",
     "output_type": "stream",
     "text": [
      "AMJ_5L_CMV_pp65.RData\t  E6901FYZ-01_Costim.txt    J6901CDB-01_Costim.txt\r\n",
      "AMJ_5L_CMV_pp65.txt\t  E6901FYZ-01_SEB.txt\t    J6901CDB-01_SEB.txt\r\n",
      "AMJ_5L_Costim.RData\t  F69018CN-01_CMV_pp65.txt  J6901HJ1-06_CMV_pp65.txt\r\n",
      "AMJ_5L_Costim.txt\t  F69018CN-01_Costim.txt    J6901HJ1-06_Costim.txt\r\n",
      "AMJ_5L_SEB.txt\t\t  F69018CN-01_SEB.txt\t    J6901HJ1-06_SEB.txt\r\n",
      "B6901GFJ-08_CMV_pp65.txt  F6901DJK-01_CMV_pp65.txt  K690194C-01_CMV_pp65.txt\r\n",
      "B6901GFJ-08_Costim.txt\t  F6901DJK-01_Costim.txt    K690194C-01_Costim.txt\r\n",
      "B6901GFJ-08_SEB.txt\t  F6901DJK-01_SEB.txt\t    K690194C-01_SEB.txt\r\n",
      "default.pdf\t\t  G6901B3H-01_CMV_pp65.txt  K6901DKW-01_CMV_pp65.txt\r\n",
      "E6901F0T-07_CMV_pp65.txt  G6901B3H-01_Costim.txt    K6901DKW-01_Costim.txt\r\n",
      "E6901F0T-07_Costim.txt\t  G6901B3H-01_SEB.txt\t    K6901DKW-01_SEB.txt\r\n",
      "E6901F0T-07_SEB.txt\t  Icon?\t\t\t    markers.txt\r\n",
      "E6901FYZ-01_CMV_pp65.txt  J6901CDB-01_CMV_pp65.txt  modified1.pdf\r\n"
     ]
    }
   ],
   "source": [
    "!ls /data/flow/EQAPOL_normal"
   ]
  },
  {
   "cell_type": "markdown",
   "metadata": {},
   "source": [
    "# Learn to use multiprocessing"
   ]
  },
  {
   "cell_type": "code",
   "execution_count": 2,
   "metadata": {},
   "outputs": [],
   "source": [
    "from multiprocessing import Pool"
   ]
  },
  {
   "cell_type": "code",
   "execution_count": 5,
   "metadata": {},
   "outputs": [
    {
     "name": "stdout",
     "output_type": "stream",
     "text": [
      "<multiprocessing.pool.Pool object at 0x7f7ae8065470>\n",
      "<bound method Pool.map of <multiprocessing.pool.Pool object at 0x7f7ae8065470>>\n",
      "<bound method Pool.starmap of <multiprocessing.pool.Pool object at 0x7f7ae8065470>>\n"
     ]
    }
   ],
   "source": [
    "pool = Pool(8)\n",
    "print(pool)\n",
    "print(pool.map)\n",
    "print(pool.starmap)"
   ]
  },
  {
   "cell_type": "code",
   "execution_count": null,
   "metadata": {},
   "outputs": [],
   "source": []
  },
  {
   "cell_type": "code",
   "execution_count": null,
   "metadata": {},
   "outputs": [],
   "source": []
  }
 ],
 "metadata": {
  "kernelspec": {
   "display_name": "Python 3",
   "language": "python",
   "name": "python3"
  },
  "language_info": {
   "codemirror_mode": {
    "name": "ipython",
    "version": 3
   },
   "file_extension": ".py",
   "mimetype": "text/x-python",
   "name": "python",
   "nbconvert_exporter": "python",
   "pygments_lexer": "ipython3",
   "version": "3.6.3"
  }
 },
 "nbformat": 4,
 "nbformat_minor": 2
}
