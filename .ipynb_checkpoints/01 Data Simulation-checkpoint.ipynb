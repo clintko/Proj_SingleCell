{
 "cells": [
  {
   "cell_type": "code",
   "execution_count": 1,
   "metadata": {},
   "outputs": [],
   "source": [
    "# tools\n",
    "import numpy as np\n",
    "import numpy.random as rand\n",
    "import scipy as sp\n",
    "from sklearn.datasets.samples_generator import make_blobs\n",
    "\n",
    "# plotting\n",
    "import matplotlib.pyplot as plt\n",
    "import seaborn as sns"
   ]
  },
  {
   "cell_type": "markdown",
   "metadata": {},
   "source": [
    "# Set up Parameters"
   ]
  },
  {
   "cell_type": "code",
   "execution_count": 2,
   "metadata": {},
   "outputs": [],
   "source": [
    "# number of groups\n",
    "m = 2\n",
    "\n",
    "# number of samples for each group (dim = m)\n",
    "num_samples_tot = 100\n",
    "num_samples = np.r_[70, 30]\n",
    "\n",
    "# number of cells for each sample\n",
    "n = 1000\n",
    "\n",
    "# number of cell types for each sample\n",
    "# for example: T cell and Bnum_samples_tot cell\n",
    "k = 2\n",
    "\n",
    "# proportion of cell types (dim = k) \n",
    "# each vector sum to one\n",
    "pi_1 = [0.9, 0.1]\n",
    "pi_2 = [0.1, 0.9]\n",
    "pi = np.stack([pi_1, pi_2])\n",
    "\n",
    "# number of genes / markers / features (dim = p)\n",
    "# for example: CD3, CD8, IL-1-R\n",
    "p = 3 \n",
    "\n",
    "# mean value for gene expression measured by an experiment\n",
    "mu_11 = np.r_[ 0,  0,  0] # first  cell type of group 1\n",
    "mu_12 = np.r_[10, 10, 10] # second cell type of group 1\n",
    "mu_21 = np.r_[ 0,  0,  0] # first  cell type of group 2\n",
    "mu_22 = np.r_[10, 10, 10] # second cell type of group 2\n",
    "mu = np.stack((mu_11, mu_12, mu_21, mu_22), axis = 0)\n",
    "mu = np.expand_dims(mu, axis = 0)\n",
    "mu = mu.reshape(m, k, p)\n",
    "\n",
    "# var-cov of mu (mean value of gene expression) \n",
    "# --- covariance of sample mean (statistics)\n",
    "sig2_mu_11 = np.eye(p)\n",
    "sig2_mu_12 = np.eye(p)\n",
    "sig2_mu_21 = np.eye(p)\n",
    "sig2_mu_22 = np.eye(p)\n",
    "sig2_mu = np.stack((sig2_mu_11, sig2_mu_12, sig2_mu_21, sig2_mu_22), axis = 0)\n",
    "sig2_mu = np.expand_dims(sig2_mu, axis = 0)\n",
    "sig2_mu = np.expand_dims(sig2_mu, axis = 0)\n",
    "sig2_mu = sig2_mu.reshape(m, k, p, p)\n",
    "\n",
    "# var-cov of sample (gene expression) \n",
    "# --- covariance of sample value (random variables)\n",
    "sig2_11 = np.eye(p)\n",
    "sig2_12 = np.eye(p)\n",
    "sig2_21 = np.eye(p)\n",
    "sig2_22 = np.eye(p)\n",
    "sig2 = np.stack((sig2_11, sig2_12, sig2_21, sig2_22), axis = 0)\n",
    "sig2 = np.expand_dims(sig2, axis = 0)\n",
    "sig2 = np.expand_dims(sig2, axis = 0)\n",
    "sig2 = sig2.reshape(m, k, p, p)"
   ]
  },
  {
   "cell_type": "code",
   "execution_count": 3,
   "metadata": {},
   "outputs": [
    {
     "data": {
      "text/plain": [
       "array([[0.9, 0.1],\n",
       "       [0.1, 0.9]])"
      ]
     },
     "execution_count": 3,
     "metadata": {},
     "output_type": "execute_result"
    }
   ],
   "source": [
    "pi"
   ]
  },
  {
   "cell_type": "code",
   "execution_count": 4,
   "metadata": {},
   "outputs": [
    {
     "data": {
      "text/plain": [
       "array([[[ 0,  0,  0],\n",
       "        [10, 10, 10]],\n",
       "\n",
       "       [[ 0,  0,  0],\n",
       "        [10, 10, 10]]])"
      ]
     },
     "execution_count": 4,
     "metadata": {},
     "output_type": "execute_result"
    }
   ],
   "source": [
    "# mu[group_i][celltype_j]\n",
    "mu"
   ]
  },
  {
   "cell_type": "code",
   "execution_count": 5,
   "metadata": {},
   "outputs": [
    {
     "data": {
      "text/plain": [
       "array([[[[1., 0., 0.],\n",
       "         [0., 1., 0.],\n",
       "         [0., 0., 1.]],\n",
       "\n",
       "        [[1., 0., 0.],\n",
       "         [0., 1., 0.],\n",
       "         [0., 0., 1.]]],\n",
       "\n",
       "\n",
       "       [[[1., 0., 0.],\n",
       "         [0., 1., 0.],\n",
       "         [0., 0., 1.]],\n",
       "\n",
       "        [[1., 0., 0.],\n",
       "         [0., 1., 0.],\n",
       "         [0., 0., 1.]]]])"
      ]
     },
     "execution_count": 5,
     "metadata": {},
     "output_type": "execute_result"
    }
   ],
   "source": [
    "# sig2_mu[group_i][celltype_j]\n",
    "sig2_mu"
   ]
  },
  {
   "cell_type": "code",
   "execution_count": 6,
   "metadata": {},
   "outputs": [
    {
     "data": {
      "text/plain": [
       "array([[[[1., 0., 0.],\n",
       "         [0., 1., 0.],\n",
       "         [0., 0., 1.]],\n",
       "\n",
       "        [[1., 0., 0.],\n",
       "         [0., 1., 0.],\n",
       "         [0., 0., 1.]]],\n",
       "\n",
       "\n",
       "       [[[1., 0., 0.],\n",
       "         [0., 1., 0.],\n",
       "         [0., 0., 1.]],\n",
       "\n",
       "        [[1., 0., 0.],\n",
       "         [0., 1., 0.],\n",
       "         [0., 0., 1.]]]])"
      ]
     },
     "execution_count": 6,
     "metadata": {},
     "output_type": "execute_result"
    }
   ],
   "source": [
    "# sig2[group_i][celltype_j]\n",
    "sig2"
   ]
  },
  {
   "cell_type": "markdown",
   "metadata": {},
   "source": [
    "# create number of each cell types based on $\\pi_i$ for each sample in each group"
   ]
  },
  {
   "cell_type": "code",
   "execution_count": 7,
   "metadata": {},
   "outputs": [
    {
     "name": "stdout",
     "output_type": "stream",
     "text": [
      " 0 [896 104]\n",
      " 1 [917  83]\n",
      " 2 [888 112]\n",
      " 3 [887 113]\n",
      " 4 [899 101]\n",
      " 5 [898 102]\n",
      " 6 [914  86]\n",
      " 7 [900 100]\n",
      " 8 [892 108]\n",
      " 9 [902  98]\n",
      "10 [912  88]\n",
      "11 [920  80]\n",
      "12 [894 106]\n",
      "13 [902  98]\n",
      "14 [902  98]\n",
      "15 [897 103]\n",
      "16 [911  89]\n",
      "17 [904  96]\n",
      "18 [909  91]\n",
      "19 [884 116]\n",
      "20 [892 108]\n",
      "21 [900 100]\n",
      "22 [909  91]\n",
      "23 [906  94]\n",
      "24 [891 109]\n",
      "25 [893 107]\n",
      "26 [906  94]\n",
      "27 [896 104]\n",
      "28 [912  88]\n",
      "29 [909  91]\n",
      "30 [886 114]\n",
      "31 [891 109]\n",
      "32 [892 108]\n",
      "33 [877 123]\n",
      "34 [896 104]\n",
      "35 [921  79]\n",
      "36 [906  94]\n",
      "37 [886 114]\n",
      "38 [890 110]\n",
      "39 [884 116]\n",
      "40 [897 103]\n",
      "41 [907  93]\n",
      "42 [910  90]\n",
      "43 [886 114]\n",
      "44 [903  97]\n",
      "45 [915  85]\n",
      "46 [907  93]\n",
      "47 [889 111]\n",
      "48 [896 104]\n",
      "49 [904  96]\n",
      "50 [916  84]\n",
      "51 [898 102]\n",
      "52 [911  89]\n",
      "53 [889 111]\n",
      "54 [898 102]\n",
      "55 [904  96]\n",
      "56 [911  89]\n",
      "57 [905  95]\n",
      "58 [910  90]\n",
      "59 [893 107]\n",
      "60 [908  92]\n",
      "61 [897 103]\n",
      "62 [915  85]\n",
      "63 [899 101]\n",
      "64 [897 103]\n",
      "65 [914  86]\n",
      "66 [888 112]\n",
      "67 [900 100]\n",
      "68 [902  98]\n",
      "69 [899 101]\n",
      "----------\n",
      "70 [111 889]\n",
      "71 [102 898]\n",
      "72 [ 93 907]\n",
      "73 [ 81 919]\n",
      "74 [ 86 914]\n",
      "75 [ 93 907]\n",
      "76 [ 98 902]\n",
      "77 [ 95 905]\n",
      "78 [ 99 901]\n",
      "79 [ 94 906]\n",
      "80 [ 93 907]\n",
      "81 [ 89 911]\n",
      "82 [107 893]\n",
      "83 [104 896]\n",
      "84 [ 98 902]\n",
      "85 [108 892]\n",
      "86 [117 883]\n",
      "87 [104 896]\n",
      "88 [ 90 910]\n",
      "89 [105 895]\n",
      "90 [111 889]\n",
      "91 [ 88 912]\n",
      "92 [ 94 906]\n",
      "93 [111 889]\n",
      "94 [101 899]\n",
      "95 [ 85 915]\n",
      "96 [105 895]\n",
      "97 [ 99 901]\n",
      "98 [ 89 911]\n",
      "99 [109 891]\n"
     ]
    }
   ],
   "source": [
    "num_cells = np.vstack([rand.multinomial(n, pvals = pi[idx], size = num_samples[idx]) for idx in range(m)])\n",
    "for idx in range(num_cells.shape[0]):\n",
    "    if(idx == num_samples[0]):\n",
    "        print(\"----------\")\n",
    "    print(\"%2d\" % idx, num_cells[idx])\n",
    "    "
   ]
  },
  {
   "cell_type": "markdown",
   "metadata": {},
   "source": [
    "# create mean value of gene expression for each cell type in each sample"
   ]
  },
  {
   "cell_type": "code",
   "execution_count": 8,
   "metadata": {},
   "outputs": [
    {
     "data": {
      "text/plain": [
       "array([0, 0, 0])"
      ]
     },
     "execution_count": 8,
     "metadata": {},
     "output_type": "execute_result"
    }
   ],
   "source": [
    "# ex: the mean values of gene expression for first cell type in first group of sample\n",
    "mu[0][0]"
   ]
  },
  {
   "cell_type": "code",
   "execution_count": 9,
   "metadata": {},
   "outputs": [
    {
     "data": {
      "text/plain": [
       "(2, 2)"
      ]
     },
     "execution_count": 9,
     "metadata": {},
     "output_type": "execute_result"
    }
   ],
   "source": [
    "mean_val = [\n",
    "    rand.multivariate_normal(\n",
    "        mu[idx_group][idx_celltype], \n",
    "        sig2_mu[idx_group][idx_celltype], \n",
    "        num_samples[idx_group])         \n",
    "    for idx_group in range(m) \n",
    "    for idx_celltype in range(k)]\n",
    "\n",
    "mean_val = np.array(mean_val)\n",
    "mean_val = np.expand_dims(mean_val, axis = 0)\n",
    "mean_val = mean_val.reshape(m, k)\n",
    "mean_val.shape"
   ]
  },
  {
   "cell_type": "code",
   "execution_count": 10,
   "metadata": {},
   "outputs": [
    {
     "name": "stdout",
     "output_type": "stream",
     "text": [
      "[0 0 0]\n",
      "(70, 3)\n",
      "[[ 1.81699639  0.29564917  0.29174435]\n",
      " [-0.19519113 -0.1525      1.0586058 ]\n",
      " [ 0.72604404 -1.08332658  0.95802758]\n",
      " [ 1.00251617  0.16634728  0.0546107 ]\n",
      " [ 0.49352589 -0.92940176  0.79154675]\n",
      " [ 0.59288882  0.74351633 -0.71730554]]\n"
     ]
    }
   ],
   "source": [
    "# first cell type in group 1\n",
    "print(mu[0][0])\n",
    "print(mean_val[0][0].shape)\n",
    "print(mean_val[0][0][0:6])"
   ]
  },
  {
   "cell_type": "code",
   "execution_count": 11,
   "metadata": {},
   "outputs": [
    {
     "name": "stdout",
     "output_type": "stream",
     "text": [
      "[10 10 10]\n",
      "(70, 3)\n",
      "[[ 9.58367681  8.65463725  9.5562916 ]\n",
      " [11.14578117 10.3873434   9.57409669]\n",
      " [10.11038072  9.55429134  9.58578065]\n",
      " [ 8.54446443 10.06625604  7.83903432]\n",
      " [11.10683994 10.90815921 10.69720321]\n",
      " [ 9.37566749 10.12244125 10.26403516]]\n"
     ]
    }
   ],
   "source": [
    "# second cell type in group 1\n",
    "print(mu[0][1])\n",
    "print(mean_val[0][1].shape)\n",
    "print(mean_val[0][1][0:6])"
   ]
  },
  {
   "cell_type": "markdown",
   "metadata": {},
   "source": [
    "convert the shape of the mean values"
   ]
  },
  {
   "cell_type": "code",
   "execution_count": 12,
   "metadata": {},
   "outputs": [],
   "source": [
    "tmp = mean_val\n",
    "tmp = [np.stack(tmp[idx_group], axis = 2) for idx_group in range(m)]\n",
    "tmp = [np.swapaxes(tmp[idx_group], 1, 2) for idx_group in range(m)]\n",
    "#tmp = [tmp[idx_group].reshape(-1, k, p) for idx_group in range(m)] this does not work properly\n",
    "#https://stackoverflow.com/questions/42312670/how-does-numpy-swapaxes-work\n",
    "\n",
    "tmp = np.array(tmp)\n",
    "mean_val2 = np.vstack(tmp)"
   ]
  },
  {
   "cell_type": "code",
   "execution_count": 13,
   "metadata": {},
   "outputs": [
    {
     "name": "stdout",
     "output_type": "stream",
     "text": [
      "Group 01\n",
      "(70, 2, 3)\n",
      "[[1.81699639 0.29564917 0.29174435]\n",
      " [9.58367681 8.65463725 9.5562916 ]]\n",
      "------------\n",
      "Group 02\n",
      "(30, 2, 3)\n",
      "[[-2.47177503  0.62453235  1.21463631]\n",
      " [10.23875653 10.27415784 10.64741891]]\n",
      "------------\n",
      "Combine -> array[idx_group][idx_celltype][idx_gene]\n",
      "(100, 2, 3)\n",
      "[[1.81699639 0.29564917 0.29174435]\n",
      " [9.58367681 8.65463725 9.5562916 ]]\n"
     ]
    }
   ],
   "source": [
    "print(\"Group 01\")\n",
    "print(tmp[0].shape)\n",
    "print(tmp[0][0])\n",
    "print(\"------------\")\n",
    "print(\"Group 02\")\n",
    "print(tmp[1].shape)\n",
    "print(tmp[1][0])\n",
    "print(\"------------\")\n",
    "print(\"Combine -> array[idx_group][idx_celltype][idx_gene]\")\n",
    "print(mean_val2.shape)\n",
    "print(mean_val2[0])"
   ]
  },
  {
   "cell_type": "markdown",
   "metadata": {},
   "source": [
    "# create data for each sample"
   ]
  },
  {
   "cell_type": "markdown",
   "metadata": {},
   "source": [
    "inputs"
   ]
  },
  {
   "cell_type": "code",
   "execution_count": 14,
   "metadata": {},
   "outputs": [
    {
     "data": {
      "text/plain": [
       "array([[1.81699639, 0.29564917, 0.29174435],\n",
       "       [9.58367681, 8.65463725, 9.5562916 ]])"
      ]
     },
     "execution_count": 14,
     "metadata": {},
     "output_type": "execute_result"
    }
   ],
   "source": [
    "# mean_val2[idx_sample][idx_celltype]\n",
    "mean_val2[0]"
   ]
  },
  {
   "cell_type": "code",
   "execution_count": 15,
   "metadata": {},
   "outputs": [
    {
     "data": {
      "text/plain": [
       "array([896, 104])"
      ]
     },
     "execution_count": 15,
     "metadata": {},
     "output_type": "execute_result"
    }
   ],
   "source": [
    "# num_cells[idx_sample][idx_celltype]\n",
    "num_cells[0]"
   ]
  },
  {
   "cell_type": "markdown",
   "metadata": {},
   "source": [
    "it turns out that the n_samples of make_blobs cannot be given as a vector"
   ]
  },
  {
   "cell_type": "markdown",
   "metadata": {},
   "source": [
    "```\n",
    "# create data\n",
    "data, labels = make_blobs(\n",
    "    n_samples = points_per_feature * n_features, # number of total samples\n",
    "    n_features = n_features,                     # number of features (ex: X and Y --- 2)\n",
    "    centers = centers,                           # centers --- length of centers matchs the n_features\n",
    "    cluster_std=0.3,                             # variation\n",
    "    random_state=5                               # set seed\n",
    ")\n",
    "```"
   ]
  },
  {
   "cell_type": "code",
   "execution_count": 16,
   "metadata": {},
   "outputs": [
    {
     "data": {
      "text/plain": [
       "array([[ 2.44122749,  2.        ],\n",
       "       [ 4.43077119,  2.        ],\n",
       "       [ 2.10960984,  2.        ],\n",
       "       [ 1.0907676 ,  2.        ],\n",
       "       [ 2.18760323,  2.        ],\n",
       "       [10.        ,  9.79512349],\n",
       "       [10.        , 10.6034716 ],\n",
       "       [10.        ,  9.29982096],\n",
       "       [10.        , 11.85733101],\n",
       "       [10.        , 10.64484751]])"
      ]
     },
     "execution_count": 16,
     "metadata": {},
     "output_type": "execute_result"
    }
   ],
   "source": [
    "n_features = 2               # number of features (ex; X and Y --- 2)\n",
    "points_per_feature = 5       # for each category, generate how much data points\n",
    "centers = [(2, 2), (10, 10)] # specify the centers of each category\n",
    "\n",
    "# create data\n",
    "data, labels = make_blobs(\n",
    "    n_samples  = 10,         # number of total samples\n",
    "    n_features = 2,          # number of features (ex: X and Y --- 2)\n",
    "    centers    = centers,    # centers --- length of centers matchs the n_features\n",
    "    cluster_std=np.eye(2),   # variation\n",
    "    shuffle = False, \n",
    "    random_state=5           # set seed\n",
    ")\n",
    "data"
   ]
  },
  {
   "cell_type": "code",
   "execution_count": 17,
   "metadata": {},
   "outputs": [
    {
     "ename": "TypeError",
     "evalue": "unsupported operand type(s) for //: 'list' and 'int'",
     "output_type": "error",
     "traceback": [
      "\u001b[0;31m---------------------------------------------------------------------------\u001b[0m",
      "\u001b[0;31mTypeError\u001b[0m                                 Traceback (most recent call last)",
      "\u001b[0;32m<ipython-input-17-aebf980e775e>\u001b[0m in \u001b[0;36m<module>\u001b[0;34m()\u001b[0m\n\u001b[1;32m     10\u001b[0m     \u001b[0mcluster_std\u001b[0m\u001b[0;34m=\u001b[0m\u001b[0mnp\u001b[0m\u001b[0;34m.\u001b[0m\u001b[0meye\u001b[0m\u001b[0;34m(\u001b[0m\u001b[0;36m2\u001b[0m\u001b[0;34m)\u001b[0m\u001b[0;34m,\u001b[0m   \u001b[0;31m# variation\u001b[0m\u001b[0;34m\u001b[0m\u001b[0m\n\u001b[1;32m     11\u001b[0m     \u001b[0mshuffle\u001b[0m \u001b[0;34m=\u001b[0m \u001b[0;32mFalse\u001b[0m\u001b[0;34m,\u001b[0m\u001b[0;34m\u001b[0m\u001b[0m\n\u001b[0;32m---> 12\u001b[0;31m     \u001b[0mrandom_state\u001b[0m\u001b[0;34m=\u001b[0m\u001b[0;36m5\u001b[0m           \u001b[0;31m# set seed\u001b[0m\u001b[0;34m\u001b[0m\u001b[0m\n\u001b[0m\u001b[1;32m     13\u001b[0m )\n\u001b[1;32m     14\u001b[0m \u001b[0mdata\u001b[0m\u001b[0;34m\u001b[0m\u001b[0m\n",
      "\u001b[0;32m/local_data/env-py3/lib/python3.6/site-packages/sklearn/datasets/samples_generator.py\u001b[0m in \u001b[0;36mmake_blobs\u001b[0;34m(n_samples, n_features, centers, cluster_std, center_box, shuffle, random_state)\u001b[0m\n\u001b[1;32m    765\u001b[0m \u001b[0;34m\u001b[0m\u001b[0m\n\u001b[1;32m    766\u001b[0m     \u001b[0mn_centers\u001b[0m \u001b[0;34m=\u001b[0m \u001b[0mcenters\u001b[0m\u001b[0;34m.\u001b[0m\u001b[0mshape\u001b[0m\u001b[0;34m[\u001b[0m\u001b[0;36m0\u001b[0m\u001b[0;34m]\u001b[0m\u001b[0;34m\u001b[0m\u001b[0m\n\u001b[0;32m--> 767\u001b[0;31m     \u001b[0mn_samples_per_center\u001b[0m \u001b[0;34m=\u001b[0m \u001b[0;34m[\u001b[0m\u001b[0mint\u001b[0m\u001b[0;34m(\u001b[0m\u001b[0mn_samples\u001b[0m \u001b[0;34m//\u001b[0m \u001b[0mn_centers\u001b[0m\u001b[0;34m)\u001b[0m\u001b[0;34m]\u001b[0m \u001b[0;34m*\u001b[0m \u001b[0mn_centers\u001b[0m\u001b[0;34m\u001b[0m\u001b[0m\n\u001b[0m\u001b[1;32m    768\u001b[0m \u001b[0;34m\u001b[0m\u001b[0m\n\u001b[1;32m    769\u001b[0m     \u001b[0;32mfor\u001b[0m \u001b[0mi\u001b[0m \u001b[0;32min\u001b[0m \u001b[0mrange\u001b[0m\u001b[0;34m(\u001b[0m\u001b[0mn_samples\u001b[0m \u001b[0;34m%\u001b[0m \u001b[0mn_centers\u001b[0m\u001b[0;34m)\u001b[0m\u001b[0;34m:\u001b[0m\u001b[0;34m\u001b[0m\u001b[0m\n",
      "\u001b[0;31mTypeError\u001b[0m: unsupported operand type(s) for //: 'list' and 'int'"
     ]
    }
   ],
   "source": [
    "n_features = 2               # number of features (ex; X and Y --- 2)\n",
    "points_per_feature = 5       # for each category, generate how much data points\n",
    "centers = [(2, 2), (10, 10)] # specify the centers of each category\n",
    "\n",
    "# create data\n",
    "data, labels = make_blobs(\n",
    "    n_samples  = [7, 3],         # number of total samples\n",
    "    n_features = 2,          # number of features (ex: X and Y --- 2)\n",
    "    centers    = centers,    # centers --- length of centers matchs the n_features\n",
    "    cluster_std=np.eye(2),   # variation\n",
    "    shuffle = False, \n",
    "    random_state=5           # set seed\n",
    ")\n",
    "data"
   ]
  },
  {
   "cell_type": "markdown",
   "metadata": {},
   "source": [
    "Therefore, I used **multivariate_normal** function in numpy.random instead"
   ]
  },
  {
   "cell_type": "code",
   "execution_count": 26,
   "metadata": {},
   "outputs": [
    {
     "data": {
      "text/plain": [
       "(100, 2)"
      ]
     },
     "execution_count": 26,
     "metadata": {},
     "output_type": "execute_result"
    }
   ],
   "source": [
    "# Recall that:\n",
    "#     num_cells store the proportion values of each cell type\n",
    "#     num_cells is generated from the latent variable pi\n",
    "#     the dimension of num_cells = (num_samples_tot, k = number of celltypes)\n",
    "num_cells.shape"
   ]
  },
  {
   "cell_type": "code",
   "execution_count": 27,
   "metadata": {},
   "outputs": [
    {
     "name": "stdout",
     "output_type": "stream",
     "text": [
      "(2, 2, 3, 3)\n"
     ]
    }
   ],
   "source": [
    "# Recall\n",
    "#     sig2 is the sample covariance\n",
    "#     sig2[idx_group][idx_celltype][p][p]\n",
    "print(sig2.shape)"
   ]
  },
  {
   "cell_type": "code",
   "execution_count": 18,
   "metadata": {},
   "outputs": [],
   "source": [
    "# initialize a container for all samples\n",
    "samples = list()\n",
    "\n",
    "# append array in loop\n",
    "# note: http://akuederle.com/create-numpy-array-with-for-loop\n",
    "for idx_sample in range(num_cells.shape[0]): # each sample can be viewed as a fcs file\n",
    "    a_sample = np.empty((0, 3))\n",
    "    \n",
    "    for idx_celltype in range(num_cells.shape[1]): # each sample contains different cell types\n",
    "        \n",
    "        a_celltype = rand.multivariate_normal(\n",
    "            mean_val2[idx_sample][idx_celltype], # mean\n",
    "            sig2[idx_sample][idx_celltype],      # var-cov\n",
    "            num_cells[idx_sample][idx_celltype]) # number\n",
    "        \n",
    "        a_sample = np.r_[a_sample, a_celltype]\n",
    "        \n",
    "    samples.append(a_sample)\n",
    "\n",
    "# convert output in an array\n",
    "samples = np.array(samples)"
   ]
  },
  {
   "cell_type": "code",
   "execution_count": 19,
   "metadata": {},
   "outputs": [
    {
     "name": "stdout",
     "output_type": "stream",
     "text": [
      "100\n",
      "(1000, 3)\n"
     ]
    }
   ],
   "source": [
    "# check the dimensions\n",
    "print(len(samples))\n",
    "print(samples[0].shape)"
   ]
  },
  {
   "cell_type": "code",
   "execution_count": 23,
   "metadata": {},
   "outputs": [
    {
     "data": {
      "text/plain": [
       "(100, 1000, 3)"
      ]
     },
     "execution_count": 23,
     "metadata": {},
     "output_type": "execute_result"
    }
   ],
   "source": [
    "tmp = np.array(samples)\n",
    "tmp.shape"
   ]
  },
  {
   "cell_type": "code",
   "execution_count": 20,
   "metadata": {},
   "outputs": [
    {
     "data": {
      "image/png": "[encoded data removed]",
      "text/plain": [
       "<matplotlib.figure.Figure at 0x7f47a2d6e7f0>"
      ]
     },
     "metadata": {},
     "output_type": "display_data"
    }
   ],
   "source": [
    "#plt.figure(figsize=(3,3))\n",
    "#sub = plt.subplot(2, 2, 1)\n",
    "#plt.scatter(data[:, 0], data[:, 1], s=10, alpha=1) # alpha=0.3\n",
    "#plt.show()\n",
    "\n",
    "fig, axes = plt.subplots(2, 2, figsize=(7,7))\n",
    "for idx_data, ax in zip([0, -31, -30, -1], axes.ravel()):\n",
    "    data = samples[idx_data]\n",
    "    ax.scatter(data[:, 0], data[:, 1], s=10, alpha=1)\n",
    "    ax.title.set_text(str(num_cells[idx_data]))\n",
    "plt.show()"
   ]
  },
  {
   "cell_type": "markdown",
   "metadata": {},
   "source": [
    "# output the value"
   ]
  },
  {
   "cell_type": "code",
   "execution_count": 21,
   "metadata": {},
   "outputs": [],
   "source": [
    "import pickle"
   ]
  },
  {
   "cell_type": "code",
   "execution_count": null,
   "metadata": {},
   "outputs": [],
   "source": [
    "# output the parameters"
   ]
  },
  {
   "cell_type": "code",
   "execution_count": null,
   "metadata": {},
   "outputs": [],
   "source": [
    "# output the value\n",
    "file_Name = \"data_simulation\"\n",
    "\n",
    "# open the file for writing\n",
    "fileObject = open(file_Name, 'wb') \n",
    "\n",
    "# write data to the file\n",
    "pickle.dump(samples, fileObject)   \n",
    "\n",
    "# here we close the fileObject\n",
    "fileObject.close()"
   ]
  }
 ],
 "metadata": {
  "kernelspec": {
   "display_name": "Python 3",
   "language": "python",
   "name": "python3"
  },
  "language_info": {
   "codemirror_mode": {
    "name": "ipython",
    "version": 3
   },
   "file_extension": ".py",
   "mimetype": "text/x-python",
   "name": "python",
   "nbconvert_exporter": "python",
   "pygments_lexer": "ipython3",
   "version": "3.6.3"
  }
 },
 "nbformat": 4,
 "nbformat_minor": 2
}
