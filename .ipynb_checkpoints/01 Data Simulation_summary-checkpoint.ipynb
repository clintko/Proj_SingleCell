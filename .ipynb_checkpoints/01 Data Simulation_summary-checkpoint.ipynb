{
 "cells": [
  {
   "cell_type": "markdown",
   "metadata": {},
   "source": [
    "# Load Tools"
   ]
  },
  {
   "cell_type": "code",
   "execution_count": null,
   "metadata": {},
   "outputs": [],
   "source": [
    "import numpy as np\n",
    "import numpy.random as rand"
   ]
  },
  {
   "cell_type": "markdown",
   "metadata": {},
   "source": [
    "# Set parameters"
   ]
  },
  {
   "cell_type": "code",
   "execution_count": 80,
   "metadata": {},
   "outputs": [],
   "source": [
    "# number of groups\n",
    "num_groups = 2 \n",
    "\n",
    "# number of samples for each group (dim = m)\n",
    "num_samples_tot = 100\n",
    "num_samples = np.r_[70, 30]\n",
    "\n",
    "# number of cells for each sample\n",
    "num_cells_tot = 100000\n",
    "\n",
    "# number of cell types for each sample\n",
    "# for example: T cell and Bnum_samples_tot cell\n",
    "num_celltypes = 2\n",
    "\n",
    "# proportion of cell types (dim = k) \n",
    "# each vector sum to one\n",
    "pi_1 = [0.9, 0.1]\n",
    "pi_2 = [0.1, 0.9]\n",
    "pi = np.stack([pi_1, pi_2])\n",
    "\n",
    "# number of genes / markers / features (dim = p)\n",
    "# for example: CD3, CD8, IL-1-R\n",
    "num_features = 3 \n",
    "\n",
    "# mean value for gene expression measured by an experiment\n",
    "mu_11 = np.r_[ 0,  0,  0] # first  cell type of group 1\n",
    "mu_12 = np.r_[10, 10, 10] # second cell type of group 1\n",
    "mu_21 = np.r_[ 0,  0,  0] # first  cell type of group 2\n",
    "mu_22 = np.r_[10, 10, 10] # second cell type of group 2\n",
    "mu = np.stack((mu_11, mu_12, mu_21, mu_22), axis = 0)\n",
    "mu = np.expand_dims(mu, axis = 0)\n",
    "mu = mu.reshape(num_groups, num_celltypes, num_features)\n",
    "\n",
    "# var-cov of mu (mean value of gene expression) \n",
    "# --- covariance of sample mean (statistics)\n",
    "sig2_mu_11 = np.eye(num_features)\n",
    "sig2_mu_12 = np.eye(num_features)\n",
    "sig2_mu_21 = np.eye(num_features)\n",
    "sig2_mu_22 = np.eye(num_features)\n",
    "sig2_mu = np.stack((sig2_mu_11, sig2_mu_12, sig2_mu_21, sig2_mu_22), axis = 0)\n",
    "sig2_mu = np.expand_dims(sig2_mu, axis = 0)\n",
    "sig2_mu = np.expand_dims(sig2_mu, axis = 0)\n",
    "sig2_mu = sig2_mu.reshape(num_groups, num_celltypes, num_features, num_features)\n",
    "\n",
    "# var-cov of sample (gene expression) \n",
    "# --- covariance of sample value (random variables)\n",
    "sig2_11 = np.eye(num_features)\n",
    "sig2_12 = np.eye(num_features)\n",
    "sig2_21 = np.eye(num_features)\n",
    "sig2_22 = np.eye(num_features)\n",
    "sig2 = np.stack((sig2_11, sig2_12, sig2_21, sig2_22), axis = 0)\n",
    "sig2 = np.expand_dims(sig2, axis = 0)\n",
    "sig2 = np.expand_dims(sig2, axis = 0)\n",
    "sig2 = sig2.reshape(num_groups, num_celltypes, num_features, num_features)"
   ]
  },
  {
   "cell_type": "code",
   "execution_count": 36,
   "metadata": {},
   "outputs": [],
   "source": [
    "def data_simulation(\n",
    "    num_groups, num_samples, num_cells_tot, num_celltypes, \n",
    "    pi, mu, sig2_mu, sig2,\n",
    "    rand_seed = 0):\n",
    "    \"\"\"Simulating gene expression by multivariate normal distribution\n",
    "\n",
    "    Position arguments:\n",
    "    num_groups    --- number of groups\n",
    "    num_samples   --- # of samples for each group:\n",
    "    num_cells_tot --- # of cells for each sample:\n",
    "    num_celltypes --- # of cell types for each sample:\n",
    "    num_features  --- # of genes / markers / features\n",
    "    pi            --- Proportion of cell types in different group\n",
    "    mu            --- Mean values of the gene expression for each cell types in each groups\n",
    "    sig2_mu       --- Var-Cov matrix of mu (mean value of gene expression)\n",
    "    sig2          --- Var-Cov matrix of features / gene expression\n",
    "    \n",
    "    Keyword argumenst:\n",
    "    rand_seed     --- random seed; default to 0\n",
    "    \n",
    "    Return:\n",
    "    label_groups  --- label the samples in each group\n",
    "    num_cells     --- number of each cell types based on pi for each sample in each group\n",
    "    samples       --- the simulated data\n",
    "    \"\"\"\n",
    "    \n",
    "    # set parameters and check dimensions\n",
    "    np.random.seed(rand_seed)\n",
    "    num_samples_tot = np.sum(num_samples)\n",
    "    \n",
    "    ##### Label the samples in each group #####\n",
    "    # initialization\n",
    "    label_groups = []\n",
    "\n",
    "    # Create labels of each sample\n",
    "    for idx in range(num_groups):\n",
    "        label_groups += [idx] * num_samples[idx]\n",
    "\n",
    "    label_groups = np.array(label_groups)\n",
    "    #print(\"Check Length\")\n",
    "    #print(len(label_groups) == num_samples_tot)\n",
    "    \n",
    "    ##### create number of each cell types based on pi for each sample in each group ######\n",
    "    num_cells = np.vstack([\n",
    "        rand.multinomial(\n",
    "            num_cells_tot, \n",
    "            pvals = pi[idx], \n",
    "            size = num_samples[idx]) \n",
    "        for idx in range(num_groups)\n",
    "    ]) # end vstack / list comprehension\n",
    "\n",
    "    #print(num_cells)\n",
    "    \n",
    "    ##### create mean value of gene expression for each cell type in each sample #####\n",
    "    # Generate mean values of gene expression for each sample\n",
    "    # from mulitvariate normal\n",
    "    tmp = [\n",
    "        rand.multivariate_normal(\n",
    "            mu[idx_group][idx_celltype], \n",
    "            sig2_mu[idx_group][idx_celltype], \n",
    "            num_samples[idx_group])         \n",
    "        for idx_group in range(num_groups) \n",
    "        for idx_celltype in range(num_celltypes)]\n",
    "\n",
    "    #print(len(tmp))\n",
    "    #print(tmp[0].shape)\n",
    "    #print(tmp[1].shape)\n",
    "\n",
    "\n",
    "    # arranage the dimension to (num_groups, num_celltypes, num_features)\n",
    "    tmp = np.array(tmp)\n",
    "    tmp = np.expand_dims(tmp, axis = 0)\n",
    "    tmp = tmp.reshape(num_groups, num_celltypes)\n",
    "    tmp = [np.stack(tmp[idx_group], axis = 2) for idx_group in range(num_groups)]\n",
    "    tmp = [np.swapaxes(tmp[idx_group], 1, 2)  for idx_group in range(num_groups)]\n",
    "    tmp = np.array(tmp)\n",
    "    tmp = np.vstack(tmp)\n",
    "\n",
    "    #print(\"==========\")\n",
    "    #print(tmp.shape)\n",
    "\n",
    "    # assign the result\n",
    "    mean_features = tmp\n",
    "    \n",
    "    \n",
    "    ##### create data for each sample #####\n",
    "    # initialize a container for all samples\n",
    "    samples = list()\n",
    "\n",
    "    # append array in loop\n",
    "    # note: http://akuederle.com/create-numpy-array-with-for-loop\n",
    "    for idx_sample in range(num_cells.shape[0]): # each sample can be viewed as a fcs file\n",
    "        a_sample = np.empty((0, 3))\n",
    "        idx_group = label_groups[idx_sample]\n",
    "    \n",
    "        for idx_celltype in range(num_cells.shape[1]): # each sample contains different cell types\n",
    "        \n",
    "            a_celltype = rand.multivariate_normal(\n",
    "                mean_features[idx_sample][idx_celltype], # mean\n",
    "                sig2[idx_group][idx_celltype],           # var-cov\n",
    "                num_cells[idx_sample][idx_celltype])     # size\n",
    "        \n",
    "            a_sample = np.r_[a_sample, a_celltype]\n",
    "        \n",
    "        samples.append(a_sample)\n",
    "\n",
    "    # convert output in an array\n",
    "    samples = np.array(samples)\n",
    "\n",
    "    # Check dimension (num_samples_tot, num_cells_tot, num_features)\n",
    "    #print(samples.shape) \n",
    "    \n",
    "    ##### return results #####\n",
    "    return label_groups, num_cells, samples"
   ]
  },
  {
   "cell_type": "code",
   "execution_count": 37,
   "metadata": {},
   "outputs": [],
   "source": [
    "label_groups, num_cells, samples = data_simulation(num_groups, num_samples, num_cells_tot, num_celltypes, pi, mu, sig2_mu, sig2)"
   ]
  },
  {
   "cell_type": "markdown",
   "metadata": {},
   "source": [
    "# Check the results"
   ]
  },
  {
   "cell_type": "code",
   "execution_count": 42,
   "metadata": {},
   "outputs": [
    {
     "name": "stdout",
     "output_type": "stream",
     "text": [
      "100\n",
      "(100, 2)\n",
      "(100, 10000, 3)\n"
     ]
    }
   ],
   "source": [
    "print(len(label_groups))\n",
    "print(num_cells.shape)\n",
    "print(samples.shape)"
   ]
  },
  {
   "cell_type": "code",
   "execution_count": 43,
   "metadata": {},
   "outputs": [
    {
     "name": "stdout",
     "output_type": "stream",
     "text": [
      "[70 30]\n"
     ]
    }
   ],
   "source": [
    "print(num_samples)"
   ]
  },
  {
   "cell_type": "code",
   "execution_count": 45,
   "metadata": {},
   "outputs": [
    {
     "name": "stdout",
     "output_type": "stream",
     "text": [
      "[0 0 0 0 0 0 0 0 0 0 0 0 0 0 0 0 0 0 0 0 0 0 0 0 0 0 0 0 0 0 0 0 0 0 0 0 0\n",
      " 0 0 0 0 0 0 0 0 0 0 0 0 0 0 0 0 0 0 0 0 0 0 0 0 0 0 0 0 0 0 0 0 0 1 1 1 1\n",
      " 1 1 1 1 1 1 1 1 1 1 1 1 1 1 1 1 1 1 1 1 1 1 1 1 1 1]\n",
      "70 30\n"
     ]
    }
   ],
   "source": [
    "print(label_groups)\n",
    "print(sum(label_groups == 0), sum(label_groups == 1))"
   ]
  },
  {
   "cell_type": "code",
   "execution_count": 46,
   "metadata": {},
   "outputs": [
    {
     "name": "stdout",
     "output_type": "stream",
     "text": [
      "[[8997 1003]\n",
      " [8982 1018]\n",
      " [9048  952]\n",
      " [ 999 9001]\n",
      " [1040 8960]]\n"
     ]
    }
   ],
   "source": [
    "print(num_cells[[0, 1, num_samples[0]-1, num_samples[0], -1]])"
   ]
  },
  {
   "cell_type": "code",
   "execution_count": 47,
   "metadata": {},
   "outputs": [
    {
     "name": "stdout",
     "output_type": "stream",
     "text": [
      "[[[-1.10191262 -1.52549171  3.03762104]\n",
      "  [-1.214382   -2.04378773  1.20938102]\n",
      "  [-1.91932879 -1.35201725  0.82297458]\n",
      "  ...\n",
      "  [10.53040522  8.31655456  9.04669809]\n",
      "  [10.99140359  8.56022423  8.90590493]\n",
      "  [ 9.4879437   7.61942902 10.73293044]]\n",
      "\n",
      " [[ 0.99113434  1.47603428  2.70711178]\n",
      "  [ 0.38069921  0.62023047  2.1118866 ]\n",
      "  [ 0.9518702   1.01826669  2.2984175 ]\n",
      "  ...\n",
      "  [11.23400959  7.66246366 11.01828855]\n",
      "  [11.14748359  9.69451001  9.83535592]\n",
      "  [10.23141513  8.90921104  9.97583979]]\n",
      "\n",
      " [[ 1.23300445 -2.11165289 -2.51016569]\n",
      "  [ 2.61822097  0.55930279 -0.3821884 ]\n",
      "  [ 0.79136933 -1.52344528  0.25442344]\n",
      "  ...\n",
      "  [ 7.18310854  8.92582139  8.04712339]\n",
      "  [ 6.92992611  8.81767393  9.56531383]\n",
      "  [ 8.05121296  8.52239954 10.53147221]]\n",
      "\n",
      " ...\n",
      "\n",
      " [[ 2.30053592 -2.43259247 -0.23464719]\n",
      "  [ 1.34419874 -1.9241848   1.35645815]\n",
      "  [ 0.48238724 -0.83932942 -0.54178364]\n",
      "  ...\n",
      "  [ 8.74199836 11.44930109  8.62235207]\n",
      "  [ 9.07357258  7.93862767  8.27567736]\n",
      "  [ 8.68557861  8.581595    9.59659766]]\n",
      "\n",
      " [[-0.42059519 -0.59556113 -2.48839441]\n",
      "  [-1.13788129 -2.0328437  -2.88551083]\n",
      "  [-1.25362463 -2.8930585  -3.33912506]\n",
      "  ...\n",
      "  [ 8.10877989 11.8542591   8.82748988]\n",
      "  [10.55577335  9.78829958 10.7328096 ]\n",
      "  [10.38695118  9.80683163 10.64327361]]\n",
      "\n",
      " [[-0.39306344 -1.21497322  1.05327272]\n",
      "  [ 0.34194798  1.10661545  0.04233378]\n",
      "  [-0.97925065 -0.11927158  0.02490546]\n",
      "  ...\n",
      "  [ 9.24563114 10.71545208  8.38326537]\n",
      "  [10.35992403 10.9693616   9.07612269]\n",
      "  [ 9.28555718 11.50742926  7.15847905]]]\n"
     ]
    }
   ],
   "source": [
    "print(samples)"
   ]
  },
  {
   "cell_type": "markdown",
   "metadata": {},
   "source": [
    "# Store the results"
   ]
  },
  {
   "cell_type": "code",
   "execution_count": 64,
   "metadata": {},
   "outputs": [],
   "source": [
    "# output the value\n",
    "file_name = \"data_simulation\"\n",
    "\n",
    "# open the file for writing\n",
    "file_object = open(file_name, 'wb') # wb --- write binary\n",
    "\n",
    "# write data to the file\n",
    "np.savez(\n",
    "    file_object, \n",
    "    label_groups = label_groups, \n",
    "    num_cells = num_cells, \n",
    "    samples = samples)\n",
    "\n",
    "# close the file\n",
    "file_object.close()"
   ]
  },
  {
   "cell_type": "markdown",
   "metadata": {},
   "source": [
    "# reload data"
   ]
  },
  {
   "cell_type": "code",
   "execution_count": 74,
   "metadata": {},
   "outputs": [],
   "source": [
    "# output the value\n",
    "file_name_r = \"data_simulation\"\n",
    "\n",
    "# open the file for reading\n",
    "file_object_r = open(file_name_r, 'rb') # wb --- write binary\n",
    "\n",
    "# read data\n",
    "data = np.load(file_object_r)"
   ]
  },
  {
   "cell_type": "code",
   "execution_count": 75,
   "metadata": {},
   "outputs": [
    {
     "name": "stdout",
     "output_type": "stream",
     "text": [
      "<class 'numpy.lib.npyio.NpzFile'>\n",
      "['label_groups', 'num_cells', 'samples']\n"
     ]
    }
   ],
   "source": [
    "print(type(data))\n",
    "print(data.files)"
   ]
  },
  {
   "cell_type": "code",
   "execution_count": 76,
   "metadata": {},
   "outputs": [
    {
     "data": {
      "text/plain": [
       "array([0, 0, 0, 0, 0, 0, 0, 0, 0, 0, 0, 0, 0, 0, 0, 0, 0, 0, 0, 0, 0, 0,\n",
       "       0, 0, 0, 0, 0, 0, 0, 0, 0, 0, 0, 0, 0, 0, 0, 0, 0, 0, 0, 0, 0, 0,\n",
       "       0, 0, 0, 0, 0, 0, 0, 0, 0, 0, 0, 0, 0, 0, 0, 0, 0, 0, 0, 0, 0, 0,\n",
       "       0, 0, 0, 0, 1, 1, 1, 1, 1, 1, 1, 1, 1, 1, 1, 1, 1, 1, 1, 1, 1, 1,\n",
       "       1, 1, 1, 1, 1, 1, 1, 1, 1, 1, 1, 1])"
      ]
     },
     "execution_count": 76,
     "metadata": {},
     "output_type": "execute_result"
    }
   ],
   "source": [
    "data['label_groups']"
   ]
  },
  {
   "cell_type": "code",
   "execution_count": 77,
   "metadata": {
    "scrolled": true
   },
   "outputs": [
    {
     "data": {
      "text/plain": [
       "array([[8997, 1003],\n",
       "       [8982, 1018],\n",
       "       [9004,  996],\n",
       "       [9018,  982],\n",
       "       [9075,  925],\n",
       "       [9024,  976],\n",
       "       [9009,  991],\n",
       "       [8999, 1001],\n",
       "       [9049,  951],\n",
       "       [8935, 1065],\n",
       "       [9009,  991],\n",
       "       [9029,  971],\n",
       "       [9046,  954],\n",
       "       [8981, 1019],\n",
       "       [9025,  975],\n",
       "       [8996, 1004],\n",
       "       [9036,  964],\n",
       "       [8986, 1014],\n",
       "       [8940, 1060],\n",
       "       [8996, 1004],\n",
       "       [8944, 1056],\n",
       "       [8985, 1015],\n",
       "       [8990, 1010],\n",
       "       [8996, 1004],\n",
       "       [8979, 1021],\n",
       "       [8992, 1008],\n",
       "       [8960, 1040],\n",
       "       [8975, 1025],\n",
       "       [8993, 1007],\n",
       "       [8953, 1047],\n",
       "       [9006,  994],\n",
       "       [9008,  992],\n",
       "       [8999, 1001],\n",
       "       [8927, 1073],\n",
       "       [8931, 1069],\n",
       "       [9053,  947],\n",
       "       [8983, 1017],\n",
       "       [8982, 1018],\n",
       "       [8998, 1002],\n",
       "       [9037,  963],\n",
       "       [8968, 1032],\n",
       "       [8961, 1039],\n",
       "       [9008,  992],\n",
       "       [9014,  986],\n",
       "       [9033,  967],\n",
       "       [8987, 1013],\n",
       "       [8951, 1049],\n",
       "       [9003,  997],\n",
       "       [8959, 1041],\n",
       "       [9014,  986],\n",
       "       [8985, 1015],\n",
       "       [9040,  960],\n",
       "       [9014,  986],\n",
       "       [8959, 1041],\n",
       "       [9012,  988],\n",
       "       [8975, 1025],\n",
       "       [9061,  939],\n",
       "       [9068,  932],\n",
       "       [9001,  999],\n",
       "       [9017,  983],\n",
       "       [8962, 1038],\n",
       "       [8974, 1026],\n",
       "       [9007,  993],\n",
       "       [8988, 1012],\n",
       "       [8991, 1009],\n",
       "       [8971, 1029],\n",
       "       [8966, 1034],\n",
       "       [9018,  982],\n",
       "       [9016,  984],\n",
       "       [9048,  952],\n",
       "       [ 999, 9001],\n",
       "       [ 959, 9041],\n",
       "       [ 976, 9024],\n",
       "       [ 958, 9042],\n",
       "       [ 985, 9015],\n",
       "       [1030, 8970],\n",
       "       [1031, 8969],\n",
       "       [1008, 8992],\n",
       "       [1064, 8936],\n",
       "       [ 979, 9021],\n",
       "       [ 942, 9058],\n",
       "       [1041, 8959],\n",
       "       [1016, 8984],\n",
       "       [ 977, 9023],\n",
       "       [ 972, 9028],\n",
       "       [1058, 8942],\n",
       "       [ 976, 9024],\n",
       "       [1034, 8966],\n",
       "       [1009, 8991],\n",
       "       [ 942, 9058],\n",
       "       [1021, 8979],\n",
       "       [ 958, 9042],\n",
       "       [1004, 8996],\n",
       "       [ 978, 9022],\n",
       "       [ 984, 9016],\n",
       "       [1021, 8979],\n",
       "       [ 998, 9002],\n",
       "       [1030, 8970],\n",
       "       [ 990, 9010],\n",
       "       [1040, 8960]])"
      ]
     },
     "execution_count": 77,
     "metadata": {},
     "output_type": "execute_result"
    }
   ],
   "source": [
    "data['num_cells']"
   ]
  },
  {
   "cell_type": "code",
   "execution_count": 78,
   "metadata": {},
   "outputs": [
    {
     "data": {
      "text/plain": [
       "array([[[-1.10191262, -1.52549171,  3.03762104],\n",
       "        [-1.214382  , -2.04378773,  1.20938102],\n",
       "        [-1.91932879, -1.35201725,  0.82297458],\n",
       "        ...,\n",
       "        [10.53040522,  8.31655456,  9.04669809],\n",
       "        [10.99140359,  8.56022423,  8.90590493],\n",
       "        [ 9.4879437 ,  7.61942902, 10.73293044]],\n",
       "\n",
       "       [[ 0.99113434,  1.47603428,  2.70711178],\n",
       "        [ 0.38069921,  0.62023047,  2.1118866 ],\n",
       "        [ 0.9518702 ,  1.01826669,  2.2984175 ],\n",
       "        ...,\n",
       "        [11.23400959,  7.66246366, 11.01828855],\n",
       "        [11.14748359,  9.69451001,  9.83535592],\n",
       "        [10.23141513,  8.90921104,  9.97583979]],\n",
       "\n",
       "       [[ 1.23300445, -2.11165289, -2.51016569],\n",
       "        [ 2.61822097,  0.55930279, -0.3821884 ],\n",
       "        [ 0.79136933, -1.52344528,  0.25442344],\n",
       "        ...,\n",
       "        [ 7.18310854,  8.92582139,  8.04712339],\n",
       "        [ 6.92992611,  8.81767393,  9.56531383],\n",
       "        [ 8.05121296,  8.52239954, 10.53147221]],\n",
       "\n",
       "       ...,\n",
       "\n",
       "       [[ 2.30053592, -2.43259247, -0.23464719],\n",
       "        [ 1.34419874, -1.9241848 ,  1.35645815],\n",
       "        [ 0.48238724, -0.83932942, -0.54178364],\n",
       "        ...,\n",
       "        [ 8.74199836, 11.44930109,  8.62235207],\n",
       "        [ 9.07357258,  7.93862767,  8.27567736],\n",
       "        [ 8.68557861,  8.581595  ,  9.59659766]],\n",
       "\n",
       "       [[-0.42059519, -0.59556113, -2.48839441],\n",
       "        [-1.13788129, -2.0328437 , -2.88551083],\n",
       "        [-1.25362463, -2.8930585 , -3.33912506],\n",
       "        ...,\n",
       "        [ 8.10877989, 11.8542591 ,  8.82748988],\n",
       "        [10.55577335,  9.78829958, 10.7328096 ],\n",
       "        [10.38695118,  9.80683163, 10.64327361]],\n",
       "\n",
       "       [[-0.39306344, -1.21497322,  1.05327272],\n",
       "        [ 0.34194798,  1.10661545,  0.04233378],\n",
       "        [-0.97925065, -0.11927158,  0.02490546],\n",
       "        ...,\n",
       "        [ 9.24563114, 10.71545208,  8.38326537],\n",
       "        [10.35992403, 10.9693616 ,  9.07612269],\n",
       "        [ 9.28555718, 11.50742926,  7.15847905]]])"
      ]
     },
     "execution_count": 78,
     "metadata": {},
     "output_type": "execute_result"
    }
   ],
   "source": [
    "data['samples']"
   ]
  },
  {
   "cell_type": "code",
   "execution_count": 79,
   "metadata": {},
   "outputs": [],
   "source": [
    "# close the file\n",
    "file_object_r.close()"
   ]
  }
 ],
 "metadata": {
  "kernelspec": {
   "display_name": "Python 3",
   "language": "python",
   "name": "python3"
  },
  "language_info": {
   "codemirror_mode": {
    "name": "ipython",
    "version": 3
   },
   "file_extension": ".py",
   "mimetype": "text/x-python",
   "name": "python",
   "nbconvert_exporter": "python",
   "pygments_lexer": "ipython3",
   "version": "3.6.3"
  }
 },
 "nbformat": 4,
 "nbformat_minor": 2
}
